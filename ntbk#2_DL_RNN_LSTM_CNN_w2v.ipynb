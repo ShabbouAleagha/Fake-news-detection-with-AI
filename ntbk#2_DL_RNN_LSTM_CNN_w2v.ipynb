{
 "cells": [
  {
   "cell_type": "markdown",
   "metadata": {},
   "source": [
    "<center><h1>Projet IA - Fake News & Deep Fake</h1></center>"
   ]
  },
  {
   "cell_type": "markdown",
   "metadata": {},
   "source": [
    "<center><h1>Présenté par Shabboo ALEAGHA & Ophélie ENGASSER</h1></center>"
   ]
  },
  {
   "cell_type": "markdown",
   "metadata": {},
   "source": [
    "<center><h2>M2-IADS-EL - Mai 2024</h2></center>"
   ]
  },
  {
   "cell_type": "markdown",
   "metadata": {},
   "source": [
    "# Notebook #2. Deep learning models - Simple embedding - RNN + uni $\\lor$ bidir-LSTM + CNN // Word2Vec"
   ]
  },
  {
   "cell_type": "markdown",
   "metadata": {},
   "source": [
    "# Importation des librairies"
   ]
  },
  {
   "cell_type": "code",
   "execution_count": null,
   "metadata": {},
   "outputs": [],
   "source": [
    "# pour l'exploration des données\n",
    "import pandas as pd\n",
    "import numpy as np\n",
    "import matplotlib.pyplot as plt\n",
    "import seaborn as sns\n",
    "import plotly.express as px\n",
    "import plotly.io as pio\n",
    "import plotly.graph_objects as go\n",
    "\n",
    "# pour le traitement linguistique des données\n",
    "import re\n",
    "import nltk\n",
    "from nltk.tokenize import word_tokenize, RegexpTokenizer\n",
    "from nltk.corpus import stopwords\n",
    "from nltk.stem import SnowballStemmer, WordNetLemmatizer\n",
    "import string\n",
    "\n",
    "# pour le modèle Word2Vec\n",
    "from gensim.models import Word2Vec\n",
    "from gensim.utils import simple_preprocess\n",
    "from gensim.models.keyedvectors import KeyedVectors\n",
    "\n",
    "# pour la préparation des données\n",
    "from sklearn.preprocessing import LabelEncoder\n",
    "from sklearn.model_selection import train_test_split\n",
    "\n",
    "# pour la vectorisation\n",
    "from tensorflow.keras.preprocessing.sequence import pad_sequences\n",
    "from tensorflow.keras.preprocessing.text import Tokenizer\n",
    "\n",
    "# pour la modélisation et l'optimisation\n",
    "from tensorflow.keras.models import Sequential\n",
    "from tensorflow.keras.layers import Input, Embedding, Flatten, Dense, BatchNormalization, Dropout, SimpleRNN, LSTM, Bidirectional, Conv1D, MaxPooling1D\n",
    "from tensorflow.keras.callbacks import EarlyStopping\n",
    "from tensorflow.keras import regularizers\n",
    "\n",
    "# pour l'évaluation\n",
    "from sklearn.metrics import classification_report\n",
    "\n",
    "# pour l'exportation-importation des fonctions et modèles\n",
    "import pickle\n",
    "from joblib import dump\n",
    "from joblib import load\n",
    "\n",
    "# pour ignorer les warnings\n",
    "import warnings\n",
    "warnings.filterwarnings(\"ignore\")"
   ]
  },
  {
   "cell_type": "markdown",
   "metadata": {},
   "source": [
    "# Modèles de DL"
   ]
  },
  {
   "cell_type": "markdown",
   "metadata": {},
   "source": [
    "A l'instar de plusieurs auteurs, nous avons comparé dans la partie précédente différents modèles de Machine Learning basés sur une vectorisation par TF-IDF. Mais de nombreuses données de la littérature (e.g. les travaux de Al-Tai, Nema & Al-Sherbaz, 2023, ou de Mridha et al., 2021) mettent en évidence de plus faibles performances sur de tels modèle de Machine Learning traditionnels, tels que nous l'avons réalisé, comparativement à des modèles axés sur des réseaux neuronaux. Il se trouve que les modèles traditionnels, malgré leur avantage sur certaines tâches à haut niveau calculatoire, performent parfois moins bien sur des tâches plus proches de la cognition humaine (comme reconnaître une voix, classer des photos, etc.) Cela a conduit les chercheurs à développer des modèles basés sur des réseaux de neurones artificiels. La branche de l'apprentissage profond ou Deep Learning, qui considère ce type d'architecture, s'est révélée hautement efficace notamment dans la résolution de problèmes complexes à partir du traitement du langage naturel.  C'est ce qui nous conduit tout naturellement, en nous basant sur cette idée, à considérer à présent de tels modèles. Pour une revue de la littérature sur cette question, voir Hu et al., 2022. A l'instar de plusieurs auteurs, nous avons comparé dans la partie précédente différents modèles de Machine Learning basés sur une vectorisation par TF-IDF. Mais de nombreuses données de la littérature (e.g. les travaux de Al-Tai, Nema & Al-Sherbaz, 2023, ou de Mridha et al., 2021) mettent en évidence de plus faibles performances sur de tels modèle de Machine Learning traditionnels, tels que nous l'avons réalisé, comparativement à des modèles axés sur des réseaux neuronaux. Il se trouve que les modèles traditionnels, malgré leur avantage sur certaines tâches à haut niveau calculatoire, performent parfois moins bien sur des tâches plus proches de la cognition humaine (comme reconnaître une voix, classer des photos, etc.) Cela a conduit les chercheurs à développer des modèles basés sur des réseaux de neurones artificiels. La branche de l'apprentissage profond ou Deep Learning, qui considère ce type d'architecture, s'est révélée hautement efficace notamment dans la résolution de problèmes complexes à partir du traitement du langage naturel.  C'est ce qui nous conduit tout naturellement, en nous basant sur cette idée, à considérer à présent de tels modèles. Pour une revue de la littérature sur cette question, voir Hu et al., 2022. Par exemple, Ma et al. (2016) modélisent la relation séquentielle entre des publications grâce à des réseaux de neurones récurrents (RNN). Yu et al. (2017) utilisent des réseaux convolutionnels (CNN) pour représenter des relations sémantiques de haut niveau. Une architecture CNN permet également à un groupe d’auteurs de traiter des fake news à partir d’une entrée multimodale texte-image (Yang et al., 2018). Bian et al. (2020) exploitent les réseaux neuronaux basés sur des graphes (GCN) selon un process bottom-up et top-down pour le même type de tâche. Khattar et al. (2019) proposent l'auto-encodeur variationnel multi-modal (MVAE) pour extraire les représentations multi-modales cachées dans des nouvelles. De nombreux auteurs tirent profit de la bidirectionnalité du modèle pré-entraîné BERT pour engager de bonnes performances dans ce domaine. Ainsi, Kaliyar, Goswami & Narang (2021) obtiennent une accuracy de presque 99% à l’aide d’un BERT combiné à des couches convolutives. Kula, Choras & Kozik (2021), quant à eux, obtiennent un bon modèle de détection avec un BERT combiné à une architecture RNN. Ces deux dernières études suggèrent, comme de nombreuses autres, que le modèle BERT serait particulièrement réceptif à ce genre de cas d’usage."
   ]
  },
  {
   "cell_type": "markdown",
   "metadata": {},
   "source": [
    "Outre l'introduction des réseaux neuronaux, nous introduisons ici aussi le concept de words embedding. Contrairement à TF-IDF, qui calcule l'importance des mots relativement à leur représentation d'ensemble, mais traite chaque mot indépendamment, la méthode words embedding capture la sémantique des mots en les plaçant dans un espace vectoriel continu où les mots ayant des significations similaires sont situés à proximité les uns des autres. Il a été montré que l'utilisation conjointe de cette méthode et de réseaux neuronaux améliore les performances à certaines tâches. Certaines études, comme celle de Mridha et al. (2021) comparent différentes méthodes, basées sur la fréquence des mots ou sur leur contexte sémantique."
   ]
  },
  {
   "cell_type": "markdown",
   "metadata": {},
   "source": [
    "\n",
    "D'un point de vue méthodologique, nous proposerons différents modèles et architectures, allant du plus simple au plus complexe. Nous débuterons, à partir des données pré-traitées dans la partie précédente, par vectoriser celles-ci dans le but de les fournir aux modèles, puis nous nous concentrerons sur :\n",
    "- Un simple réseau de neurones avec une couche d'embedding.\n",
    "- Des modèles basés sur un traitement séquentiels des textes (RNN, LSTM uni et bi-directionnel) apprenant sur leurs propres couches d'embedding. \n",
    "- Un modèle combinant un traitement séquentiel et convolutif (LSTM+CNN).\n",
    "- Des modèles utilisant des embeddings via l'utilisation de Word2Vec (modèle pré-entraîné par Google).\n",
    "- Des modèles entièrement pré-entraînés comme BERT via un apprentissage par transfert.\n",
    "\n",
    "Chaque modèle fera l'objet d'une optimisation par ajustement des hyperparamètres de manière itérative, et en ajustant chaque hyperparamètre de manière indépendante, toutes choses égales par ailleurs dans le modèle. Ainsi, cela nous permettra de conserver une maîtrise de la comparaison des résulats. \n",
    "\n",
    "Pour cette section, nous avons suivi le cours Udemy \"Deep learning avec Tensorflow et Keras | Masterclass Python\" de José Portilla, Rod & MonCoachData."
   ]
  },
  {
   "cell_type": "markdown",
   "metadata": {},
   "source": [
    "# Conversion des textes en séquences\n",
    "\n",
    "Après avoir divisé les textes en unités de mots (tokenizing), nous allons encoder les textes en entiers grâce à la méthode text_to_sequences() en fonction du vocabulaire de notre corpus (sequencing). Chaque vecteur sera fixe pour correspondre à un nombre constant d'entier. Il s'agira donc, soit de tronquer le vecteur si la séquence dépasse la constante, soit de remplir le vecteur de zéros si la séquence est trop courte (padding).\n",
    "\n",
    "Pour cela, nous devons repartir de notre dataset pré-traité."
   ]
  },
  {
   "cell_type": "code",
   "execution_count": 28,
   "metadata": {},
   "outputs": [
    {
     "data": {
      "text/plain": [
       "(19348, 52)"
      ]
     },
     "execution_count": 28,
     "metadata": {},
     "output_type": "execute_result"
    }
   ],
   "source": [
    "# ouverture\n",
    "path_pc = 'C:/Users/Engasser Ophélie/Desktop/ProjetIA/data_preprocessed.csv'\n",
    "df = pd.read_csv(path_pc)\n",
    "df = df.iloc[:, 2:]\n",
    "df = df.dropna(subset=['preprocessed_text'])\n",
    "df.shape"
   ]
  },
  {
   "cell_type": "code",
   "execution_count": 29,
   "metadata": {},
   "outputs": [],
   "source": [
    "# préparation\n",
    "X = df['preprocessed_text']\n",
    "y = df['type']\n",
    "label_encoder = LabelEncoder()\n",
    "y_encoded = label_encoder.fit_transform(y)"
   ]
  },
  {
   "cell_type": "code",
   "execution_count": 30,
   "metadata": {},
   "outputs": [
    {
     "name": "stdout",
     "output_type": "stream",
     "text": [
      "19348 15478 3870 15478 3870\n"
     ]
    }
   ],
   "source": [
    "# décomposition en tuples\n",
    "X_train, X_test, y_train, y_test = train_test_split(X, y_encoded, test_size=0.2, random_state=101)\n",
    "print(len(df), len(X_train), len(X_test), len(y_train), len(y_test))"
   ]
  },
  {
   "cell_type": "markdown",
   "metadata": {},
   "source": [
    "## Tokenising"
   ]
  },
  {
   "cell_type": "code",
   "execution_count": 31,
   "metadata": {},
   "outputs": [
    {
     "data": {
      "text/plain": [
       "<keras.src.legacy.preprocessing.text.Tokenizer at 0x27070915290>"
      ]
     },
     "execution_count": 31,
     "metadata": {},
     "output_type": "execute_result"
    }
   ],
   "source": [
    "# instanciation du tokenizer (10000 mots) avec une chaîne spéciale pour stocker les mots hors vocabulaire '<00v>' (mappée à l'indice 1)\n",
    "tokenizer = Tokenizer(num_words=10000, oov_token = '<00v>')\n",
    "tokenizer"
   ]
  },
  {
   "cell_type": "markdown",
   "metadata": {},
   "source": [
    "Nous allons ajuster le tokenizer à notre corpus de textes : ainsi, l'objet apprendra les mots uniques présents dans les textes d'entraînement et créera un dictionnaire qui mappe chaque mot à un index entier unique."
   ]
  },
  {
   "cell_type": "code",
   "execution_count": 32,
   "metadata": {},
   "outputs": [],
   "source": [
    "# ajustement du tokenizer sur le corpus\n",
    "tokenizer.fit_on_texts(X_train)\n",
    "word_index = tokenizer.word_index"
   ]
  },
  {
   "cell_type": "code",
   "execution_count": 37,
   "metadata": {},
   "outputs": [
    {
     "data": {
      "text/plain": [
       "[('<00v>', 1),\n",
       " ('trump', 2),\n",
       " ('said', 3),\n",
       " ('clinton', 4),\n",
       " ('state', 5),\n",
       " ('would', 6),\n",
       " ('one', 7),\n",
       " ('peopl', 8),\n",
       " ('elect', 9),\n",
       " ('presid', 10)]"
      ]
     },
     "execution_count": 37,
     "metadata": {},
     "output_type": "execute_result"
    }
   ],
   "source": [
    "# affichage des 10 premières clés-valeurs du dictionnaire\n",
    "list(word_index.items())[0:10]"
   ]
  },
  {
   "cell_type": "markdown",
   "metadata": {},
   "source": [
    "Les clés sont les mots et les valeurs sont les indices dont le rang est fonction de la fréquence du mot."
   ]
  },
  {
   "cell_type": "code",
   "execution_count": 38,
   "metadata": {},
   "outputs": [
    {
     "data": {
      "text/plain": [
       "80544"
      ]
     },
     "execution_count": 38,
     "metadata": {},
     "output_type": "execute_result"
    }
   ],
   "source": [
    "# longueur du dictionnaire\n",
    "len(word_index)"
   ]
  },
  {
   "cell_type": "markdown",
   "metadata": {},
   "source": [
    "Rappelons que la matrice TF-IDF comportait le même nombre de mots, nous relevons donc une cohérence entre les deux traitements."
   ]
  },
  {
   "cell_type": "markdown",
   "metadata": {},
   "source": [
    "## Sequencing et padding"
   ]
  },
  {
   "cell_type": "code",
   "execution_count": 33,
   "metadata": {},
   "outputs": [],
   "source": [
    "# utilisation de l'objet tokenizer pour obtenir des séquences d'index sur tout le corpus (matrice X)\n",
    "sequences = tokenizer.texts_to_sequences(X)"
   ]
  },
  {
   "cell_type": "code",
   "execution_count": 40,
   "metadata": {},
   "outputs": [
    {
     "name": "stdout",
     "output_type": "stream",
     "text": [
      "<class 'list'>\n",
      "[1796, 273, 2, 1704, 1075, 631, 432, 263, 1204, 1, 10, 9, 6636, 510, 3170, 6974, 5549, 3129, 2, 2, 1, 1, 9960, 1, 2, 1, 2356, 45, 970, 3, 1, 1, 1, 5765, 73, 3353, 2074, 2598, 1, 2, 1, 574, 45, 3502, 604, 2, 9958, 453, 60, 604, 479, 184, 118, 43, 2, 8, 3886, 7687, 2193, 9125, 5683, 2445, 775, 1, 34, 1, 4914, 55, 24, 773, 371, 599, 1482, 1260, 277, 6290, 1131, 102, 842, 2, 556, 1, 1568, 658, 1341, 10, 171, 1651, 7024, 599, 950, 275, 1, 1482, 10, 9, 27, 35, 1397, 207, 1218, 320, 18, 323, 108, 201, 2214, 161, 1708, 8380, 91, 777, 29, 381, 950, 2693, 2, 219, 4491, 822, 777, 96, 773, 99, 8368, 604, 207, 1218, 386, 2, 1704, 2193, 9125, 102, 39, 1812, 2, 2187, 1, 1, 2964, 5987, 1, 299, 3622, 2428, 2878, 1759, 2223, 320, 276, 3151, 2, 33, 2807, 1759, 1, 2, 603, 12, 1, 294, 103, 428, 740, 404, 383, 1912, 3292, 588, 1167, 1, 3666, 4809, 319, 1756, 99, 378, 773, 276, 2, 371, 334, 1260, 179, 1453, 1480, 1168, 1, 1867, 7741, 3, 7177, 9400, 400, 54, 49, 1772, 982, 10, 25, 782, 76, 2068, 70, 8011, 360, 4093, 599, 950, 2, 542, 587, 9400, 126, 406, 27, 41, 3, 100, 7395, 8095, 170, 1482, 18, 15, 8095, 100, 1, 4957, 2, 291, 9102, 1819, 91, 2, 1704, 1, 1028, 62, 74, 3072, 121, 38, 86, 2, 729, 10, 9, 1485, 2, 1704, 70, 772, 368, 2094, 773, 2, 50, 8, 67, 383, 1912, 3292, 736, 385, 1, 5734, 1819, 255, 1923, 2143, 1496, 102, 3291, 510, 2941, 2956, 71, 8, 12, 784, 2430, 1, 3708, 2402, 3140, 97, 752, 674, 4710, 2, 1207, 3443, 889, 16, 618, 2, 691, 30, 6312, 1977, 3385, 3565, 1183, 2177, 3140, 85, 52, 1485, 467, 613, 523, 6854, 505, 147, 4954, 255, 1923, 523, 18, 263, 1192, 2868, 760, 2177, 2, 157, 276, 1, 2807, 1759, 30, 2049, 1, 2, 171, 1923, 1578, 1655, 825, 111, 347, 1619, 2, 3722, 986, 143, 59, 215, 5, 1821, 1529, 383, 1912, 59, 63, 12, 8164, 44, 873, 19, 905, 3708, 49, 1953, 1, 97, 340, 4129, 125, 1882, 19, 2, 408, 308, 6, 67, 528, 8104, 62, 74, 2423, 3180, 67, 2423, 3180, 2, 3, 874, 8, 17, 27, 82, 228, 197, 228, 8, 197, 197, 3180, 8, 1923, 1394, 1192, 1, 2940, 807, 2766, 728, 817, 2225, 2074, 1298, 2255, 1, 29, 218, 2332, 3224, 2, 1, 170, 443, 3129, 2, 1, 2225, 1, 813, 339, 2, 1704, 2, 2442, 6807, 1, 2, 6068, 1, 1193, 3728, 273, 467, 551, 45, 1173, 8, 910, 1, 4312, 6286, 124, 560, 1546, 2, 15, 2826, 12, 27, 82, 228, 3224, 201, 19, 585, 76, 2068, 156, 168, 167, 15, 9487, 6722, 1, 1, 7429, 998, 1735, 528, 1, 1250, 1, 68, 6722, 2, 445, 6244, 517, 514, 152, 2417, 1589, 1, 179, 353, 2, 560, 762, 471, 115, 760, 13, 136, 71, 179, 63, 295, 1704, 47, 1496, 1, 401, 124, 1250, 630, 2074, 2598, 3224, 3353, 2, 6974, 1418, 2, 1, 99, 168, 198, 6974, 2259, 2073, 582, 252, 85, 2958, 4543, 7429, 289, 2756, 525, 1, 2752, 2467, 1389, 2932, 1546, 45, 3224, 45, 2570, 2752, 6692, 2, 997, 1204, 231, 382, 395, 689, 27, 167, 3, 1004, 4034, 382, 2224, 950, 3, 2752, 246, 237, 51, 105, 37, 695, 5062, 608, 34, 31, 26, 62, 1052, 883, 352, 307, 551, 1200, 1432]\n",
      "[43, 2, 402, 159, 701, 183, 1730, 6502, 13, 136, 3135, 4524, 846, 5, 120, 210, 2692, 306, 323, 279, 1090, 701, 183, 91, 3, 467, 2409, 43, 2, 402, 18, 934, 1368, 1947, 774, 360, 5655, 66, 3323, 3, 1730, 1, 1090, 386, 55, 45, 71, 701, 183, 91, 210, 402, 295, 4524, 3467, 608, 5, 13, 136, 17, 3000, 1977, 1121, 5, 76, 1323, 894, 684, 673, 402, 2318, 457, 2323, 360, 669, 416, 38, 2606, 89, 986, 968, 8, 5, 13, 136, 402, 137, 230, 958, 2, 64, 15, 1812, 34, 108, 4585, 945, 201, 121, 3467, 1122, 868, 360, 28, 2409, 2, 402, 1074, 91, 113, 402, 359, 3607, 934, 39, 564, 253, 14, 2393, 3, 237, 5278, 2059, 2, 15, 2, 15, 1537, 256, 402, 17, 277, 6019, 28, 4306, 329, 11, 2409, 291, 5278, 568, 3, 309, 26, 1452, 427, 701, 183, 113, 6502, 22, 28, 4, 7834, 2, 283, 66, 161, 1708, 1602, 536, 562, 1, 573, 390, 2, 904, 553, 346, 2, 249, 218, 60, 51, 64, 146, 181, 31, 26, 62, 1052, 883, 352, 307, 44, 2050, 1432]\n"
     ]
    }
   ],
   "source": [
    "# vérifications\n",
    "print(type(sequences))\n",
    "print(sequences[0])\n",
    "print(sequences[1])"
   ]
  },
  {
   "cell_type": "markdown",
   "metadata": {},
   "source": [
    "Les séquences ont bien été générées, elles sont de tailles différentes car chaque article a une taille différente."
   ]
  },
  {
   "cell_type": "code",
   "execution_count": 41,
   "metadata": {},
   "outputs": [
    {
     "data": {
      "text/plain": [
       "[588, 187, 527, 734, 250, 412, 185, 684, 761, 281]"
      ]
     },
     "execution_count": 41,
     "metadata": {},
     "output_type": "execute_result"
    }
   ],
   "source": [
    "# longueur des 10 premiers articles\n",
    "[len(text) for text in sequences[0:10]]"
   ]
  },
  {
   "cell_type": "code",
   "execution_count": 36,
   "metadata": {},
   "outputs": [
    {
     "name": "stdout",
     "output_type": "stream",
     "text": [
      "Longueur max. 12227\n",
      "Longueur min. 1\n",
      "Moyenne et médiane 405.33, 308.0\n"
     ]
    }
   ],
   "source": [
    "# observation sur l'ensemble du dataset\n",
    "lengths_of_texts =  [len(text) for text in sequences]\n",
    "\n",
    "print(\"Longueur max. {}\".format(np.max(lengths_of_texts)))\n",
    "print(\"Longueur min. {}\".format(np.min(lengths_of_texts)))\n",
    "print(\"Moyenne et médiane {:.2f}, {}\".format(np.mean(lengths_of_texts), np.median(lengths_of_texts)))"
   ]
  },
  {
   "cell_type": "code",
   "execution_count": 41,
   "metadata": {},
   "outputs": [
    {
     "data": {
      "image/png": "[encoded data removed]",
      "text/plain": [
       "<Figure size 640x480 with 1 Axes>"
      ]
     },
     "metadata": {},
     "output_type": "display_data"
    }
   ],
   "source": [
    "sns.histplot(lengths_of_texts, color='yellow')\n",
    "plt.title('Distribution de la longueur des séquences')\n",
    "plt.show()"
   ]
  },
  {
   "cell_type": "markdown",
   "metadata": {},
   "source": [
    "Nous observons une forte concentration des longueurs entre 1 et 1000 mots. D'où l'importance du padding pour normaliser le nombre d'indices dans chaque séquence."
   ]
  },
  {
   "cell_type": "code",
   "execution_count": 37,
   "metadata": {},
   "outputs": [],
   "source": [
    "# sequencing sur les ensembles train et test\n",
    "X_train_seq = tokenizer.texts_to_sequences(X_train)\n",
    "X_test_seq = tokenizer.texts_to_sequences(X_test)"
   ]
  },
  {
   "cell_type": "code",
   "execution_count": 38,
   "metadata": {},
   "outputs": [],
   "source": [
    "# padding\n",
    "\n",
    "# pour la longueur du padding -> utilisation de la longueur moyenne du corpus entier\n",
    "avg_length_text = int(np.mean(lengths_of_texts))\n",
    "\n",
    "X_train_pad = pad_sequences(X_train_seq, maxlen=avg_length_text, padding='post', truncating='post')\n",
    "X_test_pad = pad_sequences(X_test_seq, maxlen=avg_length_text, padding='post', truncating='post')"
   ]
  },
  {
   "cell_type": "code",
   "execution_count": 56,
   "metadata": {},
   "outputs": [
    {
     "name": "stdout",
     "output_type": "stream",
     "text": [
      "(15478, 405)\n",
      "(3870, 405)\n",
      "=====================================\n",
      "[[5185 1581 3066 ...  218 3851    1]\n",
      " [  10   25 1034 ... 1456 5995 2101]\n",
      " [ 104 4196  312 ...    0    0    0]\n",
      " [6083  671 9099 ...  463 1657  643]\n",
      " [  54 2634  243 ...    0    0    0]]\n"
     ]
    }
   ],
   "source": [
    "# vérifications\n",
    "print(X_train_pad.shape)\n",
    "print(X_test_pad.shape)\n",
    "print('=====================================')\n",
    "print(X_train_pad[0:5])"
   ]
  },
  {
   "cell_type": "markdown",
   "metadata": {},
   "source": [
    "# Réseau de neurones avec une couche embedding"
   ]
  },
  {
   "cell_type": "markdown",
   "metadata": {},
   "source": [
    "Nous allons dans un premier temps utiliser une architecture simple, fully connected avec une couche d'embedding."
   ]
  },
  {
   "cell_type": "code",
   "execution_count": 39,
   "metadata": {},
   "outputs": [
    {
     "name": "stdout",
     "output_type": "stream",
     "text": [
      "(15478, 405) (15478,)\n"
     ]
    }
   ],
   "source": [
    "print(X_train_pad.shape, y_train.shape)"
   ]
  },
  {
   "cell_type": "markdown",
   "metadata": {},
   "source": [
    "## Implémentation et entraînement"
   ]
  },
  {
   "cell_type": "code",
   "execution_count": 16,
   "metadata": {},
   "outputs": [
    {
     "name": "stdout",
     "output_type": "stream",
     "text": [
      "WARNING:tensorflow:From c:\\Users\\Engasser Ophélie\\Desktop\\ProjetIA\\venv\\Lib\\site-packages\\keras\\src\\optimizers\\__init__.py:309: The name tf.train.Optimizer is deprecated. Please use tf.compat.v1.train.Optimizer instead.\n",
      "\n",
      "Model: \"sequential_1\"\n",
      "_________________________________________________________________\n",
      " Layer (type)                Output Shape              Param #   \n",
      "=================================================================\n",
      " embedding_1 (Embedding)     (None, 405, 16)           1288704   \n",
      "                                                                 \n",
      " flatten (Flatten)           (None, 6480)              0         \n",
      "                                                                 \n",
      " dense (Dense)               (None, 16)                103696    \n",
      "                                                                 \n",
      " batch_normalization (Batch  (None, 16)                64        \n",
      " Normalization)                                                  \n",
      "                                                                 \n",
      " dense_1 (Dense)             (None, 1)                 17        \n",
      "                                                                 \n",
      "=================================================================\n",
      "Total params: 1392481 (5.31 MB)\n",
      "Trainable params: 1392449 (5.31 MB)\n",
      "Non-trainable params: 32 (128.00 Byte)\n",
      "_________________________________________________________________\n"
     ]
    }
   ],
   "source": [
    "# implémentation du modèle\n",
    "model = Sequential()\n",
    "\n",
    "# couche embedding de base\n",
    "model.add(Embedding(\n",
    "    input_dim=len(word_index), # dim. de l'input : taille du dictionnaire\n",
    "    output_dim=16, # dim. dans l'espace vectoriel\n",
    "    input_length=avg_length_text)) # longueur des séquences prises en compte par le modèle\n",
    "\n",
    "# flattening pour permettre la full connection au vecteur dense\n",
    "model.add(Flatten()) # 430 x 32 neurones\n",
    "\n",
    "# couche dense avec une fonction d'activation 'relu'\n",
    "model.add(Dense(16, activation='relu'))\n",
    "\n",
    "# normalisation par lots -> accélère la convergence\n",
    "model.add(BatchNormalization())\n",
    "\n",
    "# couche dense avec une fonction d'activation sigmoide pour la prédiction à partir d'une tâche de classification binaire\n",
    "model.add(Dense(1, activation='sigmoid'))\n",
    "\n",
    "# compilation : optimisateur Adam (ajuste le taux d'apprentissage aux gradients historiques) et fonction de coût entropie croisée binaire\n",
    "model.compile(optimizer='adam', loss='binary_crossentropy', metrics=['accuracy'])\n",
    "\n",
    "# résumé\n",
    "model.summary()\n",
    "warnings.filterwarnings(\"ignore\")"
   ]
  },
  {
   "cell_type": "code",
   "execution_count": 27,
   "metadata": {},
   "outputs": [
    {
     "name": "stdout",
     "output_type": "stream",
     "text": [
      "Epoch 1/100\n",
      "WARNING:tensorflow:From c:\\Users\\Engasser Ophélie\\Desktop\\ProjetIA\\venv\\Lib\\site-packages\\keras\\src\\utils\\tf_utils.py:492: The name tf.ragged.RaggedTensorValue is deprecated. Please use tf.compat.v1.ragged.RaggedTensorValue instead.\n",
      "\n",
      "WARNING:tensorflow:From c:\\Users\\Engasser Ophélie\\Desktop\\ProjetIA\\venv\\Lib\\site-packages\\keras\\src\\engine\\base_layer_utils.py:384: The name tf.executing_eagerly_outside_functions is deprecated. Please use tf.compat.v1.executing_eagerly_outside_functions instead.\n",
      "\n",
      "78/78 [==============================] - 4s 36ms/step - loss: 0.4486 - accuracy: 0.7871 - val_loss: 0.5643 - val_accuracy: 0.8708\n",
      "Epoch 2/100\n",
      "78/78 [==============================] - 3s 33ms/step - loss: 0.1252 - accuracy: 0.9566 - val_loss: 0.4372 - val_accuracy: 0.9160\n",
      "Epoch 3/100\n",
      "78/78 [==============================] - 2s 31ms/step - loss: 0.0427 - accuracy: 0.9912 - val_loss: 0.3125 - val_accuracy: 0.9243\n",
      "Epoch 4/100\n",
      "78/78 [==============================] - 2s 31ms/step - loss: 0.0192 - accuracy: 0.9973 - val_loss: 0.2288 - val_accuracy: 0.9251\n",
      "Epoch 5/100\n",
      "78/78 [==============================] - 2s 32ms/step - loss: 0.0116 - accuracy: 0.9980 - val_loss: 0.1893 - val_accuracy: 0.9269\n",
      "Epoch 6/100\n",
      "78/78 [==============================] - 3s 32ms/step - loss: 0.0094 - accuracy: 0.9981 - val_loss: 0.1726 - val_accuracy: 0.9274\n",
      "Epoch 7/100\n",
      "78/78 [==============================] - 2s 31ms/step - loss: 0.0078 - accuracy: 0.9981 - val_loss: 0.1804 - val_accuracy: 0.9258\n",
      "Epoch 8/100\n",
      "78/78 [==============================] - 3s 34ms/step - loss: 0.0070 - accuracy: 0.9982 - val_loss: 0.1942 - val_accuracy: 0.9282\n",
      "Epoch 9/100\n",
      "78/78 [==============================] - 3s 32ms/step - loss: 0.0060 - accuracy: 0.9979 - val_loss: 0.2023 - val_accuracy: 0.9248\n",
      "Epoch 10/100\n",
      "78/78 [==============================] - 3s 33ms/step - loss: 0.0056 - accuracy: 0.9981 - val_loss: 0.2127 - val_accuracy: 0.9212\n",
      "Epoch 11/100\n",
      "78/78 [==============================] - 3s 33ms/step - loss: 0.0074 - accuracy: 0.9979 - val_loss: 0.2187 - val_accuracy: 0.9220\n",
      "Epoch 12/100\n",
      "78/78 [==============================] - 3s 34ms/step - loss: 0.0060 - accuracy: 0.9979 - val_loss: 0.2296 - val_accuracy: 0.9227\n",
      "Epoch 13/100\n",
      "78/78 [==============================] - 3s 33ms/step - loss: 0.0063 - accuracy: 0.9979 - val_loss: 0.2434 - val_accuracy: 0.9204\n",
      "Epoch 14/100\n",
      "78/78 [==============================] - 3s 33ms/step - loss: 0.0071 - accuracy: 0.9979 - val_loss: 0.2465 - val_accuracy: 0.9207\n",
      "Epoch 15/100\n",
      "78/78 [==============================] - 2s 32ms/step - loss: 0.0069 - accuracy: 0.9976 - val_loss: 0.2466 - val_accuracy: 0.9186\n",
      "Epoch 16/100\n",
      "78/78 [==============================] - 3s 33ms/step - loss: 0.0059 - accuracy: 0.9976 - val_loss: 0.2480 - val_accuracy: 0.9145\n"
     ]
    }
   ],
   "source": [
    "# entraînement\n",
    "history = model.fit(X_train_pad, y_train, epochs=100,\n",
    "                    batch_size=200,\n",
    "                    validation_data=(X_test_pad, y_test),\n",
    "                    callbacks=[EarlyStopping(monitor='val_loss', patience=10)]) # pour réduire l'overfitting\n",
    "warnings.filterwarnings(\"ignore\")"
   ]
  },
  {
   "cell_type": "markdown",
   "metadata": {},
   "source": [
    "## Evaluation"
   ]
  },
  {
   "cell_type": "code",
   "execution_count": 28,
   "metadata": {},
   "outputs": [
    {
     "data": {
      "image/png": "[encoded data removed]",
      "text/plain": [
       "<Figure size 1100x600 with 2 Axes>"
      ]
     },
     "metadata": {},
     "output_type": "display_data"
    }
   ],
   "source": [
    "plt.figure(figsize=(11,6))\n",
    "\n",
    "plt.subplot(1,2,1)\n",
    "plt.plot(history.history['val_loss']) ## validation loss\n",
    "plt.plot(history.history['loss']) ## training loss\n",
    "plt.title(\"Fitting history: LOSS\")\n",
    "plt.ylabel('Loss')\n",
    "plt.xlabel('Epoch')\n",
    "plt.legend(['Validation', 'Train'], loc = 'upper right')\n",
    "\n",
    "plt.subplot(1,2,2)\n",
    "plt.plot(history.history['val_accuracy']) ## validation loss\n",
    "plt.plot(history.history['accuracy']) ## training loss\n",
    "plt.title(\"Fitting history: ACCURACY\")\n",
    "plt.ylabel('Accuracy')\n",
    "plt.xlabel('Epoch')\n",
    "plt.legend(['Validation', 'Train'], loc = 'upper right')\n",
    "\n",
    "plt.show()"
   ]
  },
  {
   "cell_type": "markdown",
   "metadata": {},
   "source": [
    "L'observation des courbes validation et train suggère un surapprentissage (le modèle performe mieux lors de l'apprentissage mais généralise moins bien sur les données test)."
   ]
  },
  {
   "cell_type": "markdown",
   "metadata": {},
   "source": [
    "Le modèle souffrant d'overfitting, il nous faut l'optimiser pour diminuer sa complexité. Nous pouvons le faire de deux façons:\n",
    "- Réduire la dimensionnalité du vecteur d'embedding (16 -> 10)\n",
    "- Ajouter une couche dropout qui va désactiver aléatoirement et temporairement certains neurones"
   ]
  },
  {
   "cell_type": "markdown",
   "metadata": {},
   "source": [
    "## Optimisation"
   ]
  },
  {
   "cell_type": "code",
   "execution_count": 31,
   "metadata": {},
   "outputs": [
    {
     "name": "stdout",
     "output_type": "stream",
     "text": [
      "Model: \"sequential_2\"\n",
      "_________________________________________________________________\n",
      " Layer (type)                Output Shape              Param #   \n",
      "=================================================================\n",
      " embedding_2 (Embedding)     (None, 405, 10)           805440    \n",
      "                                                                 \n",
      " flatten_2 (Flatten)         (None, 4050)              0         \n",
      "                                                                 \n",
      " dense_4 (Dense)             (None, 10)                40510     \n",
      "                                                                 \n",
      " dropout (Dropout)           (None, 10)                0         \n",
      "                                                                 \n",
      " dense_5 (Dense)             (None, 1)                 11        \n",
      "                                                                 \n",
      "=================================================================\n",
      "Total params: 845961 (3.23 MB)\n",
      "Trainable params: 845961 (3.23 MB)\n",
      "Non-trainable params: 0 (0.00 Byte)\n",
      "_________________________________________________________________\n"
     ]
    }
   ],
   "source": [
    "# implémentation du modèle avec changements\n",
    "model_2 = Sequential()\n",
    "model_2.add(Embedding(input_dim=len(word_index), output_dim=10, input_length=avg_length_text))\n",
    "model_2.add(Flatten())\n",
    "model_2.add(Dense(10, activation='relu'))\n",
    "model_2.add(Dropout(0.5))\n",
    "model_2.add(Dense(1, activation='sigmoid'))\n",
    "model_2.compile(optimizer='adam', loss='binary_crossentropy', metrics=['accuracy'])\n",
    "model_2.summary()"
   ]
  },
  {
   "cell_type": "code",
   "execution_count": 32,
   "metadata": {},
   "outputs": [
    {
     "name": "stdout",
     "output_type": "stream",
     "text": [
      "Epoch 1/50\n",
      "78/78 [==============================] - 2s 31ms/step - loss: 0.0055 - accuracy: 0.9979 - val_loss: 0.2488 - val_accuracy: 0.9186\n",
      "Epoch 2/50\n",
      "78/78 [==============================] - 2s 32ms/step - loss: 0.0057 - accuracy: 0.9979 - val_loss: 0.2482 - val_accuracy: 0.9209\n",
      "Epoch 3/50\n",
      "78/78 [==============================] - 2s 31ms/step - loss: 0.0048 - accuracy: 0.9983 - val_loss: 0.2458 - val_accuracy: 0.9204\n",
      "Epoch 4/50\n",
      "78/78 [==============================] - 2s 31ms/step - loss: 0.0054 - accuracy: 0.9981 - val_loss: 0.2487 - val_accuracy: 0.9204\n",
      "Epoch 5/50\n",
      "78/78 [==============================] - 2s 31ms/step - loss: 0.0053 - accuracy: 0.9981 - val_loss: 0.2613 - val_accuracy: 0.9160\n",
      "Epoch 6/50\n",
      "78/78 [==============================] - 2s 31ms/step - loss: 0.0051 - accuracy: 0.9981 - val_loss: 0.2539 - val_accuracy: 0.9202\n",
      "Epoch 7/50\n",
      "78/78 [==============================] - 2s 31ms/step - loss: 0.0056 - accuracy: 0.9984 - val_loss: 0.2567 - val_accuracy: 0.9181\n",
      "Epoch 8/50\n",
      "78/78 [==============================] - 2s 32ms/step - loss: 0.0048 - accuracy: 0.9983 - val_loss: 0.2537 - val_accuracy: 0.9199\n",
      "Epoch 9/50\n",
      "78/78 [==============================] - 2s 31ms/step - loss: 0.0052 - accuracy: 0.9982 - val_loss: 0.2645 - val_accuracy: 0.9168\n",
      "Epoch 10/50\n",
      "78/78 [==============================] - 3s 39ms/step - loss: 0.0055 - accuracy: 0.9975 - val_loss: 0.2639 - val_accuracy: 0.9163\n",
      "Epoch 11/50\n",
      "78/78 [==============================] - 3s 32ms/step - loss: 0.0056 - accuracy: 0.9980 - val_loss: 0.2562 - val_accuracy: 0.9178\n",
      "Epoch 12/50\n",
      "78/78 [==============================] - 3s 40ms/step - loss: 0.0047 - accuracy: 0.9984 - val_loss: 0.2634 - val_accuracy: 0.9222\n",
      "Epoch 13/50\n",
      "78/78 [==============================] - 3s 41ms/step - loss: 0.0051 - accuracy: 0.9982 - val_loss: 0.2517 - val_accuracy: 0.9217\n"
     ]
    }
   ],
   "source": [
    "# fit\n",
    "history_2 = model.fit(X_train_pad, y_train, epochs=50, batch_size=200, validation_data=(X_test_pad, y_test),\n",
    "                      callbacks=[EarlyStopping(monitor='val_loss', patience=10, restore_best_weights=True)])"
   ]
  },
  {
   "cell_type": "markdown",
   "metadata": {},
   "source": [
    "Il existe toujours une grande différence entre les scores de train et de validation, aussi, nous pouvons encore optimiser notre modèle en réduisant encore la dimensionnalité d'entrée et en ajoutant une régularisation L2."
   ]
  },
  {
   "cell_type": "code",
   "execution_count": 66,
   "metadata": {},
   "outputs": [
    {
     "name": "stdout",
     "output_type": "stream",
     "text": [
      "Model: \"sequential_2\"\n",
      "_________________________________________________________________\n",
      " Layer (type)                Output Shape              Param #   \n",
      "=================================================================\n",
      " embedding_1 (Embedding)     (None, 405, 8)            644352    \n",
      "                                                                 \n",
      " flatten (Flatten)           (None, 3240)              0         \n",
      "                                                                 \n",
      " dense (Dense)               (None, 8)                 25928     \n",
      "                                                                 \n",
      " dropout_1 (Dropout)         (None, 8)                 0         \n",
      "                                                                 \n",
      " dense_1 (Dense)             (None, 1)                 9         \n",
      "                                                                 \n",
      "=================================================================\n",
      "Total params: 670289 (2.56 MB)\n",
      "Trainable params: 670289 (2.56 MB)\n",
      "Non-trainable params: 0 (0.00 Byte)\n",
      "_________________________________________________________________\n"
     ]
    }
   ],
   "source": [
    "# changements\n",
    "model_3 = Sequential()\n",
    "model_3.add(Embedding(input_dim=len(word_index), output_dim=8, input_length=avg_length_text))\n",
    "model_3.add(Flatten())\n",
    "model_3.add(Dense(8, activation='relu', kernel_regularizer=regularizers.l2(0.01)))\n",
    "model_3.add(Dropout(0.5))\n",
    "model_3.add(Dense(1, activation='sigmoid'))\n",
    "model_3.compile(optimizer='adam', loss='binary_crossentropy', metrics=['accuracy'])\n",
    "model_3.summary()"
   ]
  },
  {
   "cell_type": "code",
   "execution_count": 19,
   "metadata": {},
   "outputs": [
    {
     "name": "stdout",
     "output_type": "stream",
     "text": [
      "Epoch 1/50\n",
      "WARNING:tensorflow:From c:\\Users\\Engasser Ophélie\\Desktop\\ProjetIA\\venv\\Lib\\site-packages\\keras\\src\\utils\\tf_utils.py:492: The name tf.ragged.RaggedTensorValue is deprecated. Please use tf.compat.v1.ragged.RaggedTensorValue instead.\n",
      "\n",
      "WARNING:tensorflow:From c:\\Users\\Engasser Ophélie\\Desktop\\ProjetIA\\venv\\Lib\\site-packages\\keras\\src\\engine\\base_layer_utils.py:384: The name tf.executing_eagerly_outside_functions is deprecated. Please use tf.compat.v1.executing_eagerly_outside_functions instead.\n",
      "\n",
      "78/78 [==============================] - 3s 20ms/step - loss: 0.6731 - accuracy: 0.7057 - val_loss: 0.5505 - val_accuracy: 0.8124\n",
      "Epoch 2/50\n",
      "78/78 [==============================] - 1s 17ms/step - loss: 0.5086 - accuracy: 0.8370 - val_loss: 0.4011 - val_accuracy: 0.8987\n",
      "Epoch 3/50\n",
      "78/78 [==============================] - 1s 18ms/step - loss: 0.4169 - accuracy: 0.8800 - val_loss: 0.3343 - val_accuracy: 0.9121\n",
      "Epoch 4/50\n",
      "78/78 [==============================] - 1s 17ms/step - loss: 0.3628 - accuracy: 0.9083 - val_loss: 0.2920 - val_accuracy: 0.9253\n",
      "Epoch 5/50\n",
      "78/78 [==============================] - 1s 16ms/step - loss: 0.3232 - accuracy: 0.9253 - val_loss: 0.2724 - val_accuracy: 0.9297\n",
      "Epoch 6/50\n",
      "78/78 [==============================] - 2s 20ms/step - loss: 0.2973 - accuracy: 0.9375 - val_loss: 0.2541 - val_accuracy: 0.9357\n",
      "Epoch 7/50\n",
      "78/78 [==============================] - 1s 16ms/step - loss: 0.2705 - accuracy: 0.9457 - val_loss: 0.2365 - val_accuracy: 0.9393\n",
      "Epoch 8/50\n",
      "78/78 [==============================] - 1s 17ms/step - loss: 0.2541 - accuracy: 0.9518 - val_loss: 0.2286 - val_accuracy: 0.9439\n",
      "Epoch 9/50\n",
      "78/78 [==============================] - 1s 18ms/step - loss: 0.2393 - accuracy: 0.9581 - val_loss: 0.2158 - val_accuracy: 0.9437\n",
      "Epoch 10/50\n",
      "78/78 [==============================] - 1s 18ms/step - loss: 0.2203 - accuracy: 0.9621 - val_loss: 0.2113 - val_accuracy: 0.9455\n",
      "Epoch 11/50\n",
      "78/78 [==============================] - 2s 21ms/step - loss: 0.2098 - accuracy: 0.9665 - val_loss: 0.2048 - val_accuracy: 0.9465\n",
      "Epoch 12/50\n",
      "78/78 [==============================] - 1s 19ms/step - loss: 0.1955 - accuracy: 0.9698 - val_loss: 0.1992 - val_accuracy: 0.9475\n",
      "Epoch 13/50\n",
      "78/78 [==============================] - 1s 18ms/step - loss: 0.1888 - accuracy: 0.9720 - val_loss: 0.1999 - val_accuracy: 0.9465\n",
      "Epoch 14/50\n",
      "78/78 [==============================] - 2s 21ms/step - loss: 0.1790 - accuracy: 0.9742 - val_loss: 0.1962 - val_accuracy: 0.9468\n",
      "Epoch 15/50\n",
      "78/78 [==============================] - 1s 17ms/step - loss: 0.1703 - accuracy: 0.9747 - val_loss: 0.1906 - val_accuracy: 0.9468\n",
      "Epoch 16/50\n",
      "78/78 [==============================] - 1s 17ms/step - loss: 0.1631 - accuracy: 0.9785 - val_loss: 0.1868 - val_accuracy: 0.9465\n",
      "Epoch 17/50\n",
      "78/78 [==============================] - 1s 18ms/step - loss: 0.1537 - accuracy: 0.9806 - val_loss: 0.1867 - val_accuracy: 0.9426\n",
      "Epoch 18/50\n",
      "78/78 [==============================] - 1s 17ms/step - loss: 0.1476 - accuracy: 0.9791 - val_loss: 0.1855 - val_accuracy: 0.9463\n",
      "Epoch 19/50\n",
      "78/78 [==============================] - 1s 19ms/step - loss: 0.1444 - accuracy: 0.9820 - val_loss: 0.1899 - val_accuracy: 0.9444\n",
      "Epoch 20/50\n",
      "78/78 [==============================] - 1s 17ms/step - loss: 0.1392 - accuracy: 0.9826 - val_loss: 0.1806 - val_accuracy: 0.9447\n",
      "Epoch 21/50\n",
      "78/78 [==============================] - 1s 17ms/step - loss: 0.1342 - accuracy: 0.9818 - val_loss: 0.1812 - val_accuracy: 0.9429\n",
      "Epoch 22/50\n",
      "78/78 [==============================] - 1s 17ms/step - loss: 0.1286 - accuracy: 0.9851 - val_loss: 0.1808 - val_accuracy: 0.9444\n",
      "Epoch 23/50\n",
      "78/78 [==============================] - 1s 19ms/step - loss: 0.1256 - accuracy: 0.9841 - val_loss: 0.1823 - val_accuracy: 0.9444\n",
      "Epoch 24/50\n",
      "78/78 [==============================] - 2s 20ms/step - loss: 0.1224 - accuracy: 0.9845 - val_loss: 0.1818 - val_accuracy: 0.9450\n",
      "Epoch 25/50\n",
      "78/78 [==============================] - 1s 17ms/step - loss: 0.1206 - accuracy: 0.9826 - val_loss: 0.1828 - val_accuracy: 0.9442\n"
     ]
    }
   ],
   "source": [
    "# réduction de la patience -> restauration des poids optimaux\n",
    "history_3 = model_3.fit(X_train_pad, y_train, epochs=50, batch_size=200, validation_data=(X_test_pad, y_test),\n",
    "                        callbacks=[EarlyStopping(monitor='val_loss', patience=5, restore_best_weights=True)])"
   ]
  },
  {
   "cell_type": "markdown",
   "metadata": {},
   "source": [
    "Nous constatons que le score d'entraînement a diminué tandis que celui de validation a augmenté, ainsi l'écart entre les 2 courbes se réduit."
   ]
  },
  {
   "cell_type": "markdown",
   "metadata": {},
   "source": [
    "## Comparaison des performances pour les 3 modèles"
   ]
  },
  {
   "cell_type": "code",
   "execution_count": 15,
   "metadata": {},
   "outputs": [],
   "source": [
    "models_comparison = pd.DataFrame({'Model': ['NN1', 'NN2', 'NN3'],\n",
    "                                  'Train_loss' : [0.0059, 0.0051, 0.1206],\n",
    "                                  'Train_acc'  : [0.9976, 0.9982, 0.9826],\n",
    "                                  'Val_loss'   : [0.2480, 0.2517, 0.1828],\n",
    "                                  'Val_acc'    : [0.9145, 0.9217, 0.9442]\n",
    "                                 })"
   ]
  },
  {
   "cell_type": "code",
   "execution_count": 19,
   "metadata": {},
   "outputs": [
    {
     "data": {
      "application/vnd.plotly.v1+json": {
       "config": {
        "plotlyServerURL": "https://plot.ly"
       },
       "data": [
        {
         "alignmentgroup": "True",
         "hovertemplate": "Métrique=Train_loss<br>Modèle=%{x}<br>Valeur=%{text}<extra></extra>",
         "legendgroup": "Train_loss",
         "marker": {
          "color": "lightyellow",
          "pattern": {
           "shape": ""
          }
         },
         "name": "Train_loss",
         "offsetgroup": "Train_loss",
         "orientation": "v",
         "showlegend": true,
         "text": [
          0.0059,
          0.0051,
          0.1206
         ],
         "textposition": "auto",
         "type": "bar",
         "x": [
          "NN1",
          "NN2",
          "NN3"
         ],
         "xaxis": "x",
         "y": [
          0.0059,
          0.0051,
          0.1206
         ],
         "yaxis": "y"
        },
        {
         "alignmentgroup": "True",
         "hovertemplate": "Métrique=Val_loss<br>Modèle=%{x}<br>Valeur=%{text}<extra></extra>",
         "legendgroup": "Val_loss",
         "marker": {
          "color": "yellow",
          "pattern": {
           "shape": ""
          }
         },
         "name": "Val_loss",
         "offsetgroup": "Val_loss",
         "orientation": "v",
         "showlegend": true,
         "text": [
          0.248,
          0.2517,
          0.1828
         ],
         "textposition": "auto",
         "type": "bar",
         "x": [
          "NN1",
          "NN2",
          "NN3"
         ],
         "xaxis": "x",
         "y": [
          0.248,
          0.2517,
          0.1828
         ],
         "yaxis": "y"
        }
       ],
       "layout": {
        "barmode": "group",
        "legend": {
         "title": {
          "text": "Métrique"
         },
         "tracegroupgap": 0
        },
        "template": {
         "data": {
          "bar": [
           {
            "error_x": {
             "color": "#2a3f5f"
            },
            "error_y": {
             "color": "#2a3f5f"
            },
            "marker": {
             "line": {
              "color": "white",
              "width": 0.5
             },
             "pattern": {
              "fillmode": "overlay",
              "size": 10,
              "solidity": 0.2
             }
            },
            "type": "bar"
           }
          ],
          "barpolar": [
           {
            "marker": {
             "line": {
              "color": "white",
              "width": 0.5
             },
             "pattern": {
              "fillmode": "overlay",
              "size": 10,
              "solidity": 0.2
             }
            },
            "type": "barpolar"
           }
          ],
          "carpet": [
           {
            "aaxis": {
             "endlinecolor": "#2a3f5f",
             "gridcolor": "#C8D4E3",
             "linecolor": "#C8D4E3",
             "minorgridcolor": "#C8D4E3",
             "startlinecolor": "#2a3f5f"
            },
            "baxis": {
             "endlinecolor": "#2a3f5f",
             "gridcolor": "#C8D4E3",
             "linecolor": "#C8D4E3",
             "minorgridcolor": "#C8D4E3",
             "startlinecolor": "#2a3f5f"
            },
            "type": "carpet"
           }
          ],
          "choropleth": [
           {
            "colorbar": {
             "outlinewidth": 0,
             "ticks": ""
            },
            "type": "choropleth"
           }
          ],
          "contour": [
           {
            "colorbar": {
             "outlinewidth": 0,
             "ticks": ""
            },
            "colorscale": [
             [
              0,
              "#0d0887"
             ],
             [
              0.1111111111111111,
              "#46039f"
             ],
             [
              0.2222222222222222,
              "#7201a8"
             ],
             [
              0.3333333333333333,
              "#9c179e"
             ],
             [
              0.4444444444444444,
              "#bd3786"
             ],
             [
              0.5555555555555556,
              "#d8576b"
             ],
             [
              0.6666666666666666,
              "#ed7953"
             ],
             [
              0.7777777777777778,
              "#fb9f3a"
             ],
             [
              0.8888888888888888,
              "#fdca26"
             ],
             [
              1,
              "#f0f921"
             ]
            ],
            "type": "contour"
           }
          ],
          "contourcarpet": [
           {
            "colorbar": {
             "outlinewidth": 0,
             "ticks": ""
            },
            "type": "contourcarpet"
           }
          ],
          "heatmap": [
           {
            "colorbar": {
             "outlinewidth": 0,
             "ticks": ""
            },
            "colorscale": [
             [
              0,
              "#0d0887"
             ],
             [
              0.1111111111111111,
              "#46039f"
             ],
             [
              0.2222222222222222,
              "#7201a8"
             ],
             [
              0.3333333333333333,
              "#9c179e"
             ],
             [
              0.4444444444444444,
              "#bd3786"
             ],
             [
              0.5555555555555556,
              "#d8576b"
             ],
             [
              0.6666666666666666,
              "#ed7953"
             ],
             [
              0.7777777777777778,
              "#fb9f3a"
             ],
             [
              0.8888888888888888,
              "#fdca26"
             ],
             [
              1,
              "#f0f921"
             ]
            ],
            "type": "heatmap"
           }
          ],
          "heatmapgl": [
           {
            "colorbar": {
             "outlinewidth": 0,
             "ticks": ""
            },
            "colorscale": [
             [
              0,
              "#0d0887"
             ],
             [
              0.1111111111111111,
              "#46039f"
             ],
             [
              0.2222222222222222,
              "#7201a8"
             ],
             [
              0.3333333333333333,
              "#9c179e"
             ],
             [
              0.4444444444444444,
              "#bd3786"
             ],
             [
              0.5555555555555556,
              "#d8576b"
             ],
             [
              0.6666666666666666,
              "#ed7953"
             ],
             [
              0.7777777777777778,
              "#fb9f3a"
             ],
             [
              0.8888888888888888,
              "#fdca26"
             ],
             [
              1,
              "#f0f921"
             ]
            ],
            "type": "heatmapgl"
           }
          ],
          "histogram": [
           {
            "marker": {
             "pattern": {
              "fillmode": "overlay",
              "size": 10,
              "solidity": 0.2
             }
            },
            "type": "histogram"
           }
          ],
          "histogram2d": [
           {
            "colorbar": {
             "outlinewidth": 0,
             "ticks": ""
            },
            "colorscale": [
             [
              0,
              "#0d0887"
             ],
             [
              0.1111111111111111,
              "#46039f"
             ],
             [
              0.2222222222222222,
              "#7201a8"
             ],
             [
              0.3333333333333333,
              "#9c179e"
             ],
             [
              0.4444444444444444,
              "#bd3786"
             ],
             [
              0.5555555555555556,
              "#d8576b"
             ],
             [
              0.6666666666666666,
              "#ed7953"
             ],
             [
              0.7777777777777778,
              "#fb9f3a"
             ],
             [
              0.8888888888888888,
              "#fdca26"
             ],
             [
              1,
              "#f0f921"
             ]
            ],
            "type": "histogram2d"
           }
          ],
          "histogram2dcontour": [
           {
            "colorbar": {
             "outlinewidth": 0,
             "ticks": ""
            },
            "colorscale": [
             [
              0,
              "#0d0887"
             ],
             [
              0.1111111111111111,
              "#46039f"
             ],
             [
              0.2222222222222222,
              "#7201a8"
             ],
             [
              0.3333333333333333,
              "#9c179e"
             ],
             [
              0.4444444444444444,
              "#bd3786"
             ],
             [
              0.5555555555555556,
              "#d8576b"
             ],
             [
              0.6666666666666666,
              "#ed7953"
             ],
             [
              0.7777777777777778,
              "#fb9f3a"
             ],
             [
              0.8888888888888888,
              "#fdca26"
             ],
             [
              1,
              "#f0f921"
             ]
            ],
            "type": "histogram2dcontour"
           }
          ],
          "mesh3d": [
           {
            "colorbar": {
             "outlinewidth": 0,
             "ticks": ""
            },
            "type": "mesh3d"
           }
          ],
          "parcoords": [
           {
            "line": {
             "colorbar": {
              "outlinewidth": 0,
              "ticks": ""
             }
            },
            "type": "parcoords"
           }
          ],
          "pie": [
           {
            "automargin": true,
            "type": "pie"
           }
          ],
          "scatter": [
           {
            "fillpattern": {
             "fillmode": "overlay",
             "size": 10,
             "solidity": 0.2
            },
            "type": "scatter"
           }
          ],
          "scatter3d": [
           {
            "line": {
             "colorbar": {
              "outlinewidth": 0,
              "ticks": ""
             }
            },
            "marker": {
             "colorbar": {
              "outlinewidth": 0,
              "ticks": ""
             }
            },
            "type": "scatter3d"
           }
          ],
          "scattercarpet": [
           {
            "marker": {
             "colorbar": {
              "outlinewidth": 0,
              "ticks": ""
             }
            },
            "type": "scattercarpet"
           }
          ],
          "scattergeo": [
           {
            "marker": {
             "colorbar": {
              "outlinewidth": 0,
              "ticks": ""
             }
            },
            "type": "scattergeo"
           }
          ],
          "scattergl": [
           {
            "marker": {
             "colorbar": {
              "outlinewidth": 0,
              "ticks": ""
             }
            },
            "type": "scattergl"
           }
          ],
          "scattermapbox": [
           {
            "marker": {
             "colorbar": {
              "outlinewidth": 0,
              "ticks": ""
             }
            },
            "type": "scattermapbox"
           }
          ],
          "scatterpolar": [
           {
            "marker": {
             "colorbar": {
              "outlinewidth": 0,
              "ticks": ""
             }
            },
            "type": "scatterpolar"
           }
          ],
          "scatterpolargl": [
           {
            "marker": {
             "colorbar": {
              "outlinewidth": 0,
              "ticks": ""
             }
            },
            "type": "scatterpolargl"
           }
          ],
          "scatterternary": [
           {
            "marker": {
             "colorbar": {
              "outlinewidth": 0,
              "ticks": ""
             }
            },
            "type": "scatterternary"
           }
          ],
          "surface": [
           {
            "colorbar": {
             "outlinewidth": 0,
             "ticks": ""
            },
            "colorscale": [
             [
              0,
              "#0d0887"
             ],
             [
              0.1111111111111111,
              "#46039f"
             ],
             [
              0.2222222222222222,
              "#7201a8"
             ],
             [
              0.3333333333333333,
              "#9c179e"
             ],
             [
              0.4444444444444444,
              "#bd3786"
             ],
             [
              0.5555555555555556,
              "#d8576b"
             ],
             [
              0.6666666666666666,
              "#ed7953"
             ],
             [
              0.7777777777777778,
              "#fb9f3a"
             ],
             [
              0.8888888888888888,
              "#fdca26"
             ],
             [
              1,
              "#f0f921"
             ]
            ],
            "type": "surface"
           }
          ],
          "table": [
           {
            "cells": {
             "fill": {
              "color": "#EBF0F8"
             },
             "line": {
              "color": "white"
             }
            },
            "header": {
             "fill": {
              "color": "#C8D4E3"
             },
             "line": {
              "color": "white"
             }
            },
            "type": "table"
           }
          ]
         },
         "layout": {
          "annotationdefaults": {
           "arrowcolor": "#2a3f5f",
           "arrowhead": 0,
           "arrowwidth": 1
          },
          "autotypenumbers": "strict",
          "coloraxis": {
           "colorbar": {
            "outlinewidth": 0,
            "ticks": ""
           }
          },
          "colorscale": {
           "diverging": [
            [
             0,
             "#8e0152"
            ],
            [
             0.1,
             "#c51b7d"
            ],
            [
             0.2,
             "#de77ae"
            ],
            [
             0.3,
             "#f1b6da"
            ],
            [
             0.4,
             "#fde0ef"
            ],
            [
             0.5,
             "#f7f7f7"
            ],
            [
             0.6,
             "#e6f5d0"
            ],
            [
             0.7,
             "#b8e186"
            ],
            [
             0.8,
             "#7fbc41"
            ],
            [
             0.9,
             "#4d9221"
            ],
            [
             1,
             "#276419"
            ]
           ],
           "sequential": [
            [
             0,
             "#0d0887"
            ],
            [
             0.1111111111111111,
             "#46039f"
            ],
            [
             0.2222222222222222,
             "#7201a8"
            ],
            [
             0.3333333333333333,
             "#9c179e"
            ],
            [
             0.4444444444444444,
             "#bd3786"
            ],
            [
             0.5555555555555556,
             "#d8576b"
            ],
            [
             0.6666666666666666,
             "#ed7953"
            ],
            [
             0.7777777777777778,
             "#fb9f3a"
            ],
            [
             0.8888888888888888,
             "#fdca26"
            ],
            [
             1,
             "#f0f921"
            ]
           ],
           "sequentialminus": [
            [
             0,
             "#0d0887"
            ],
            [
             0.1111111111111111,
             "#46039f"
            ],
            [
             0.2222222222222222,
             "#7201a8"
            ],
            [
             0.3333333333333333,
             "#9c179e"
            ],
            [
             0.4444444444444444,
             "#bd3786"
            ],
            [
             0.5555555555555556,
             "#d8576b"
            ],
            [
             0.6666666666666666,
             "#ed7953"
            ],
            [
             0.7777777777777778,
             "#fb9f3a"
            ],
            [
             0.8888888888888888,
             "#fdca26"
            ],
            [
             1,
             "#f0f921"
            ]
           ]
          },
          "colorway": [
           "#636efa",
           "#EF553B",
           "#00cc96",
           "#ab63fa",
           "#FFA15A",
           "#19d3f3",
           "#FF6692",
           "#B6E880",
           "#FF97FF",
           "#FECB52"
          ],
          "font": {
           "color": "#2a3f5f"
          },
          "geo": {
           "bgcolor": "white",
           "lakecolor": "white",
           "landcolor": "white",
           "showlakes": true,
           "showland": true,
           "subunitcolor": "#C8D4E3"
          },
          "hoverlabel": {
           "align": "left"
          },
          "hovermode": "closest",
          "mapbox": {
           "style": "light"
          },
          "paper_bgcolor": "white",
          "plot_bgcolor": "white",
          "polar": {
           "angularaxis": {
            "gridcolor": "#EBF0F8",
            "linecolor": "#EBF0F8",
            "ticks": ""
           },
           "bgcolor": "white",
           "radialaxis": {
            "gridcolor": "#EBF0F8",
            "linecolor": "#EBF0F8",
            "ticks": ""
           }
          },
          "scene": {
           "xaxis": {
            "backgroundcolor": "white",
            "gridcolor": "#DFE8F3",
            "gridwidth": 2,
            "linecolor": "#EBF0F8",
            "showbackground": true,
            "ticks": "",
            "zerolinecolor": "#EBF0F8"
           },
           "yaxis": {
            "backgroundcolor": "white",
            "gridcolor": "#DFE8F3",
            "gridwidth": 2,
            "linecolor": "#EBF0F8",
            "showbackground": true,
            "ticks": "",
            "zerolinecolor": "#EBF0F8"
           },
           "zaxis": {
            "backgroundcolor": "white",
            "gridcolor": "#DFE8F3",
            "gridwidth": 2,
            "linecolor": "#EBF0F8",
            "showbackground": true,
            "ticks": "",
            "zerolinecolor": "#EBF0F8"
           }
          },
          "shapedefaults": {
           "line": {
            "color": "#2a3f5f"
           }
          },
          "ternary": {
           "aaxis": {
            "gridcolor": "#DFE8F3",
            "linecolor": "#A2B1C6",
            "ticks": ""
           },
           "baxis": {
            "gridcolor": "#DFE8F3",
            "linecolor": "#A2B1C6",
            "ticks": ""
           },
           "bgcolor": "white",
           "caxis": {
            "gridcolor": "#DFE8F3",
            "linecolor": "#A2B1C6",
            "ticks": ""
           }
          },
          "title": {
           "x": 0.05
          },
          "xaxis": {
           "automargin": true,
           "gridcolor": "#EBF0F8",
           "linecolor": "#EBF0F8",
           "ticks": "",
           "title": {
            "standoff": 15
           },
           "zerolinecolor": "#EBF0F8",
           "zerolinewidth": 2
          },
          "yaxis": {
           "automargin": true,
           "gridcolor": "#EBF0F8",
           "linecolor": "#EBF0F8",
           "ticks": "",
           "title": {
            "standoff": 15
           },
           "zerolinecolor": "#EBF0F8",
           "zerolinewidth": 2
          }
         }
        },
        "title": {
         "text": "Comparaison des pertes d'entraînement et de validation"
        },
        "xaxis": {
         "anchor": "y",
         "domain": [
          0,
          1
         ],
         "title": {
          "text": "Modèle"
         }
        },
        "yaxis": {
         "anchor": "x",
         "domain": [
          0,
          1
         ],
         "showgrid": false,
         "title": {
          "text": "Valeur"
         }
        }
       }
      }
     },
     "metadata": {},
     "output_type": "display_data"
    },
    {
     "data": {
      "application/vnd.plotly.v1+json": {
       "config": {
        "plotlyServerURL": "https://plot.ly"
       },
       "data": [
        {
         "alignmentgroup": "True",
         "hovertemplate": "Métrique=Train_acc<br>Modèle=%{x}<br>Valeur=%{text}<extra></extra>",
         "legendgroup": "Train_acc",
         "marker": {
          "color": "lightgrey",
          "pattern": {
           "shape": ""
          }
         },
         "name": "Train_acc",
         "offsetgroup": "Train_acc",
         "orientation": "v",
         "showlegend": true,
         "text": [
          0.9976,
          0.9982,
          0.9826
         ],
         "textposition": "auto",
         "type": "bar",
         "x": [
          "NN1",
          "NN2",
          "NN3"
         ],
         "xaxis": "x",
         "y": [
          0.9976,
          0.9982,
          0.9826
         ],
         "yaxis": "y"
        },
        {
         "alignmentgroup": "True",
         "hovertemplate": "Métrique=Val_acc<br>Modèle=%{x}<br>Valeur=%{text}<extra></extra>",
         "legendgroup": "Val_acc",
         "marker": {
          "color": "grey",
          "pattern": {
           "shape": ""
          }
         },
         "name": "Val_acc",
         "offsetgroup": "Val_acc",
         "orientation": "v",
         "showlegend": true,
         "text": [
          0.9145,
          0.9217,
          0.9442
         ],
         "textposition": "auto",
         "type": "bar",
         "x": [
          "NN1",
          "NN2",
          "NN3"
         ],
         "xaxis": "x",
         "y": [
          0.9145,
          0.9217,
          0.9442
         ],
         "yaxis": "y"
        }
       ],
       "layout": {
        "barmode": "group",
        "legend": {
         "title": {
          "text": "Métrique"
         },
         "tracegroupgap": 0
        },
        "template": {
         "data": {
          "bar": [
           {
            "error_x": {
             "color": "#2a3f5f"
            },
            "error_y": {
             "color": "#2a3f5f"
            },
            "marker": {
             "line": {
              "color": "white",
              "width": 0.5
             },
             "pattern": {
              "fillmode": "overlay",
              "size": 10,
              "solidity": 0.2
             }
            },
            "type": "bar"
           }
          ],
          "barpolar": [
           {
            "marker": {
             "line": {
              "color": "white",
              "width": 0.5
             },
             "pattern": {
              "fillmode": "overlay",
              "size": 10,
              "solidity": 0.2
             }
            },
            "type": "barpolar"
           }
          ],
          "carpet": [
           {
            "aaxis": {
             "endlinecolor": "#2a3f5f",
             "gridcolor": "#C8D4E3",
             "linecolor": "#C8D4E3",
             "minorgridcolor": "#C8D4E3",
             "startlinecolor": "#2a3f5f"
            },
            "baxis": {
             "endlinecolor": "#2a3f5f",
             "gridcolor": "#C8D4E3",
             "linecolor": "#C8D4E3",
             "minorgridcolor": "#C8D4E3",
             "startlinecolor": "#2a3f5f"
            },
            "type": "carpet"
           }
          ],
          "choropleth": [
           {
            "colorbar": {
             "outlinewidth": 0,
             "ticks": ""
            },
            "type": "choropleth"
           }
          ],
          "contour": [
           {
            "colorbar": {
             "outlinewidth": 0,
             "ticks": ""
            },
            "colorscale": [
             [
              0,
              "#0d0887"
             ],
             [
              0.1111111111111111,
              "#46039f"
             ],
             [
              0.2222222222222222,
              "#7201a8"
             ],
             [
              0.3333333333333333,
              "#9c179e"
             ],
             [
              0.4444444444444444,
              "#bd3786"
             ],
             [
              0.5555555555555556,
              "#d8576b"
             ],
             [
              0.6666666666666666,
              "#ed7953"
             ],
             [
              0.7777777777777778,
              "#fb9f3a"
             ],
             [
              0.8888888888888888,
              "#fdca26"
             ],
             [
              1,
              "#f0f921"
             ]
            ],
            "type": "contour"
           }
          ],
          "contourcarpet": [
           {
            "colorbar": {
             "outlinewidth": 0,
             "ticks": ""
            },
            "type": "contourcarpet"
           }
          ],
          "heatmap": [
           {
            "colorbar": {
             "outlinewidth": 0,
             "ticks": ""
            },
            "colorscale": [
             [
              0,
              "#0d0887"
             ],
             [
              0.1111111111111111,
              "#46039f"
             ],
             [
              0.2222222222222222,
              "#7201a8"
             ],
             [
              0.3333333333333333,
              "#9c179e"
             ],
             [
              0.4444444444444444,
              "#bd3786"
             ],
             [
              0.5555555555555556,
              "#d8576b"
             ],
             [
              0.6666666666666666,
              "#ed7953"
             ],
             [
              0.7777777777777778,
              "#fb9f3a"
             ],
             [
              0.8888888888888888,
              "#fdca26"
             ],
             [
              1,
              "#f0f921"
             ]
            ],
            "type": "heatmap"
           }
          ],
          "heatmapgl": [
           {
            "colorbar": {
             "outlinewidth": 0,
             "ticks": ""
            },
            "colorscale": [
             [
              0,
              "#0d0887"
             ],
             [
              0.1111111111111111,
              "#46039f"
             ],
             [
              0.2222222222222222,
              "#7201a8"
             ],
             [
              0.3333333333333333,
              "#9c179e"
             ],
             [
              0.4444444444444444,
              "#bd3786"
             ],
             [
              0.5555555555555556,
              "#d8576b"
             ],
             [
              0.6666666666666666,
              "#ed7953"
             ],
             [
              0.7777777777777778,
              "#fb9f3a"
             ],
             [
              0.8888888888888888,
              "#fdca26"
             ],
             [
              1,
              "#f0f921"
             ]
            ],
            "type": "heatmapgl"
           }
          ],
          "histogram": [
           {
            "marker": {
             "pattern": {
              "fillmode": "overlay",
              "size": 10,
              "solidity": 0.2
             }
            },
            "type": "histogram"
           }
          ],
          "histogram2d": [
           {
            "colorbar": {
             "outlinewidth": 0,
             "ticks": ""
            },
            "colorscale": [
             [
              0,
              "#0d0887"
             ],
             [
              0.1111111111111111,
              "#46039f"
             ],
             [
              0.2222222222222222,
              "#7201a8"
             ],
             [
              0.3333333333333333,
              "#9c179e"
             ],
             [
              0.4444444444444444,
              "#bd3786"
             ],
             [
              0.5555555555555556,
              "#d8576b"
             ],
             [
              0.6666666666666666,
              "#ed7953"
             ],
             [
              0.7777777777777778,
              "#fb9f3a"
             ],
             [
              0.8888888888888888,
              "#fdca26"
             ],
             [
              1,
              "#f0f921"
             ]
            ],
            "type": "histogram2d"
           }
          ],
          "histogram2dcontour": [
           {
            "colorbar": {
             "outlinewidth": 0,
             "ticks": ""
            },
            "colorscale": [
             [
              0,
              "#0d0887"
             ],
             [
              0.1111111111111111,
              "#46039f"
             ],
             [
              0.2222222222222222,
              "#7201a8"
             ],
             [
              0.3333333333333333,
              "#9c179e"
             ],
             [
              0.4444444444444444,
              "#bd3786"
             ],
             [
              0.5555555555555556,
              "#d8576b"
             ],
             [
              0.6666666666666666,
              "#ed7953"
             ],
             [
              0.7777777777777778,
              "#fb9f3a"
             ],
             [
              0.8888888888888888,
              "#fdca26"
             ],
             [
              1,
              "#f0f921"
             ]
            ],
            "type": "histogram2dcontour"
           }
          ],
          "mesh3d": [
           {
            "colorbar": {
             "outlinewidth": 0,
             "ticks": ""
            },
            "type": "mesh3d"
           }
          ],
          "parcoords": [
           {
            "line": {
             "colorbar": {
              "outlinewidth": 0,
              "ticks": ""
             }
            },
            "type": "parcoords"
           }
          ],
          "pie": [
           {
            "automargin": true,
            "type": "pie"
           }
          ],
          "scatter": [
           {
            "fillpattern": {
             "fillmode": "overlay",
             "size": 10,
             "solidity": 0.2
            },
            "type": "scatter"
           }
          ],
          "scatter3d": [
           {
            "line": {
             "colorbar": {
              "outlinewidth": 0,
              "ticks": ""
             }
            },
            "marker": {
             "colorbar": {
              "outlinewidth": 0,
              "ticks": ""
             }
            },
            "type": "scatter3d"
           }
          ],
          "scattercarpet": [
           {
            "marker": {
             "colorbar": {
              "outlinewidth": 0,
              "ticks": ""
             }
            },
            "type": "scattercarpet"
           }
          ],
          "scattergeo": [
           {
            "marker": {
             "colorbar": {
              "outlinewidth": 0,
              "ticks": ""
             }
            },
            "type": "scattergeo"
           }
          ],
          "scattergl": [
           {
            "marker": {
             "colorbar": {
              "outlinewidth": 0,
              "ticks": ""
             }
            },
            "type": "scattergl"
           }
          ],
          "scattermapbox": [
           {
            "marker": {
             "colorbar": {
              "outlinewidth": 0,
              "ticks": ""
             }
            },
            "type": "scattermapbox"
           }
          ],
          "scatterpolar": [
           {
            "marker": {
             "colorbar": {
              "outlinewidth": 0,
              "ticks": ""
             }
            },
            "type": "scatterpolar"
           }
          ],
          "scatterpolargl": [
           {
            "marker": {
             "colorbar": {
              "outlinewidth": 0,
              "ticks": ""
             }
            },
            "type": "scatterpolargl"
           }
          ],
          "scatterternary": [
           {
            "marker": {
             "colorbar": {
              "outlinewidth": 0,
              "ticks": ""
             }
            },
            "type": "scatterternary"
           }
          ],
          "surface": [
           {
            "colorbar": {
             "outlinewidth": 0,
             "ticks": ""
            },
            "colorscale": [
             [
              0,
              "#0d0887"
             ],
             [
              0.1111111111111111,
              "#46039f"
             ],
             [
              0.2222222222222222,
              "#7201a8"
             ],
             [
              0.3333333333333333,
              "#9c179e"
             ],
             [
              0.4444444444444444,
              "#bd3786"
             ],
             [
              0.5555555555555556,
              "#d8576b"
             ],
             [
              0.6666666666666666,
              "#ed7953"
             ],
             [
              0.7777777777777778,
              "#fb9f3a"
             ],
             [
              0.8888888888888888,
              "#fdca26"
             ],
             [
              1,
              "#f0f921"
             ]
            ],
            "type": "surface"
           }
          ],
          "table": [
           {
            "cells": {
             "fill": {
              "color": "#EBF0F8"
             },
             "line": {
              "color": "white"
             }
            },
            "header": {
             "fill": {
              "color": "#C8D4E3"
             },
             "line": {
              "color": "white"
             }
            },
            "type": "table"
           }
          ]
         },
         "layout": {
          "annotationdefaults": {
           "arrowcolor": "#2a3f5f",
           "arrowhead": 0,
           "arrowwidth": 1
          },
          "autotypenumbers": "strict",
          "coloraxis": {
           "colorbar": {
            "outlinewidth": 0,
            "ticks": ""
           }
          },
          "colorscale": {
           "diverging": [
            [
             0,
             "#8e0152"
            ],
            [
             0.1,
             "#c51b7d"
            ],
            [
             0.2,
             "#de77ae"
            ],
            [
             0.3,
             "#f1b6da"
            ],
            [
             0.4,
             "#fde0ef"
            ],
            [
             0.5,
             "#f7f7f7"
            ],
            [
             0.6,
             "#e6f5d0"
            ],
            [
             0.7,
             "#b8e186"
            ],
            [
             0.8,
             "#7fbc41"
            ],
            [
             0.9,
             "#4d9221"
            ],
            [
             1,
             "#276419"
            ]
           ],
           "sequential": [
            [
             0,
             "#0d0887"
            ],
            [
             0.1111111111111111,
             "#46039f"
            ],
            [
             0.2222222222222222,
             "#7201a8"
            ],
            [
             0.3333333333333333,
             "#9c179e"
            ],
            [
             0.4444444444444444,
             "#bd3786"
            ],
            [
             0.5555555555555556,
             "#d8576b"
            ],
            [
             0.6666666666666666,
             "#ed7953"
            ],
            [
             0.7777777777777778,
             "#fb9f3a"
            ],
            [
             0.8888888888888888,
             "#fdca26"
            ],
            [
             1,
             "#f0f921"
            ]
           ],
           "sequentialminus": [
            [
             0,
             "#0d0887"
            ],
            [
             0.1111111111111111,
             "#46039f"
            ],
            [
             0.2222222222222222,
             "#7201a8"
            ],
            [
             0.3333333333333333,
             "#9c179e"
            ],
            [
             0.4444444444444444,
             "#bd3786"
            ],
            [
             0.5555555555555556,
             "#d8576b"
            ],
            [
             0.6666666666666666,
             "#ed7953"
            ],
            [
             0.7777777777777778,
             "#fb9f3a"
            ],
            [
             0.8888888888888888,
             "#fdca26"
            ],
            [
             1,
             "#f0f921"
            ]
           ]
          },
          "colorway": [
           "#636efa",
           "#EF553B",
           "#00cc96",
           "#ab63fa",
           "#FFA15A",
           "#19d3f3",
           "#FF6692",
           "#B6E880",
           "#FF97FF",
           "#FECB52"
          ],
          "font": {
           "color": "#2a3f5f"
          },
          "geo": {
           "bgcolor": "white",
           "lakecolor": "white",
           "landcolor": "white",
           "showlakes": true,
           "showland": true,
           "subunitcolor": "#C8D4E3"
          },
          "hoverlabel": {
           "align": "left"
          },
          "hovermode": "closest",
          "mapbox": {
           "style": "light"
          },
          "paper_bgcolor": "white",
          "plot_bgcolor": "white",
          "polar": {
           "angularaxis": {
            "gridcolor": "#EBF0F8",
            "linecolor": "#EBF0F8",
            "ticks": ""
           },
           "bgcolor": "white",
           "radialaxis": {
            "gridcolor": "#EBF0F8",
            "linecolor": "#EBF0F8",
            "ticks": ""
           }
          },
          "scene": {
           "xaxis": {
            "backgroundcolor": "white",
            "gridcolor": "#DFE8F3",
            "gridwidth": 2,
            "linecolor": "#EBF0F8",
            "showbackground": true,
            "ticks": "",
            "zerolinecolor": "#EBF0F8"
           },
           "yaxis": {
            "backgroundcolor": "white",
            "gridcolor": "#DFE8F3",
            "gridwidth": 2,
            "linecolor": "#EBF0F8",
            "showbackground": true,
            "ticks": "",
            "zerolinecolor": "#EBF0F8"
           },
           "zaxis": {
            "backgroundcolor": "white",
            "gridcolor": "#DFE8F3",
            "gridwidth": 2,
            "linecolor": "#EBF0F8",
            "showbackground": true,
            "ticks": "",
            "zerolinecolor": "#EBF0F8"
           }
          },
          "shapedefaults": {
           "line": {
            "color": "#2a3f5f"
           }
          },
          "ternary": {
           "aaxis": {
            "gridcolor": "#DFE8F3",
            "linecolor": "#A2B1C6",
            "ticks": ""
           },
           "baxis": {
            "gridcolor": "#DFE8F3",
            "linecolor": "#A2B1C6",
            "ticks": ""
           },
           "bgcolor": "white",
           "caxis": {
            "gridcolor": "#DFE8F3",
            "linecolor": "#A2B1C6",
            "ticks": ""
           }
          },
          "title": {
           "x": 0.05
          },
          "xaxis": {
           "automargin": true,
           "gridcolor": "#EBF0F8",
           "linecolor": "#EBF0F8",
           "ticks": "",
           "title": {
            "standoff": 15
           },
           "zerolinecolor": "#EBF0F8",
           "zerolinewidth": 2
          },
          "yaxis": {
           "automargin": true,
           "gridcolor": "#EBF0F8",
           "linecolor": "#EBF0F8",
           "ticks": "",
           "title": {
            "standoff": 15
           },
           "zerolinecolor": "#EBF0F8",
           "zerolinewidth": 2
          }
         }
        },
        "title": {
         "text": "Comparaison des précisions d'entraînement et de validation"
        },
        "xaxis": {
         "anchor": "y",
         "domain": [
          0,
          1
         ],
         "title": {
          "text": "Modèle"
         }
        },
        "yaxis": {
         "anchor": "x",
         "domain": [
          0,
          1
         ],
         "range": [
          0.9,
          1
         ],
         "showgrid": false,
         "title": {
          "text": "Valeur"
         }
        }
       }
      }
     },
     "metadata": {},
     "output_type": "display_data"
    }
   ],
   "source": [
    "pio.templates.default = 'plotly_white'\n",
    "df_melted = models_comparison.melt(id_vars='Model', var_name='Metric', value_name='Value')\n",
    "\n",
    "# séparation des données\n",
    "df_loss = df_melted[df_melted['Metric'].isin(['Train_loss', 'Val_loss'])]\n",
    "df_acc = df_melted[df_melted['Metric'].isin(['Train_acc', 'Val_acc'])]\n",
    "\n",
    "# graphique losses\n",
    "fig_loss = px.bar(df_loss, x='Model', y='Value', color='Metric', barmode='group', text='Value',\n",
    "                  title='Comparaison des pertes d\\'entraînement et de validation', \n",
    "                  labels={'Model': 'Modèle', 'Value': 'Valeur', 'Metric': 'Métrique'},\n",
    "                  color_discrete_map={'Train_loss': 'lightyellow', 'Val_loss': 'yellow'})\n",
    "fig_loss.update_layout(yaxis_showgrid=False)\n",
    "\n",
    "# graphique accuracies\n",
    "fig_acc = px.bar(df_acc, x='Model', y='Value', color='Metric', barmode='group', text='Value',\n",
    "                 title='Comparaison des précisions d\\'entraînement et de validation', \n",
    "                 labels={'Model': 'Modèle', 'Value': 'Valeur', 'Metric': 'Métrique'},\n",
    "                 color_discrete_map={'Train_acc': 'lightgrey', 'Val_acc': 'grey'})\n",
    "fig_acc.update_layout(yaxis_showgrid=False)\n",
    "fig_acc.update_yaxes(range=[0.9, 1])\n",
    "\n",
    "fig_loss.show()\n",
    "fig_acc.show()"
   ]
  },
  {
   "cell_type": "markdown",
   "metadata": {},
   "source": [
    "## Sauvegarde du meilleur modèle"
   ]
  },
  {
   "cell_type": "code",
   "execution_count": 22,
   "metadata": {},
   "outputs": [
    {
     "data": {
      "text/plain": [
       "['model_simple_embed.joblib']"
      ]
     },
     "execution_count": 22,
     "metadata": {},
     "output_type": "execute_result"
    }
   ],
   "source": [
    "# exportation du modèle\n",
    "dump(model_3, 'model_simple_embed.joblib')"
   ]
  },
  {
   "cell_type": "code",
   "execution_count": null,
   "metadata": {},
   "outputs": [],
   "source": [
    "# importation du modèle\n",
    "model_simple_embed = load('model_simple_embed.joblib')\n",
    "warnings.filterwarnings(\"ignore\")"
   ]
  },
  {
   "cell_type": "markdown",
   "metadata": {},
   "source": [
    "# RNN simple"
   ]
  },
  {
   "cell_type": "markdown",
   "metadata": {},
   "source": [
    "Jusqu'à présent, les modèles passés en revue ont pris en considération des caractéristiques d'importance des mots dans un corpus. TF-IDF a permis de caractériser des fréquences relatives, et le word embedding a élaboré un dictionnaire de mots fréquents, tout en conservant leur agencement dans une séquence. Le premier modèle a pu tenir compte de  séquences fixes, mais sans que le modèle ne prenne en charge de manière ciblée cette séquentialité. Nous allons à présent introduire une dimension de séquentialité dans le traitement du texte, à partir des réseaux de neurones récurrents ou RNN. Dans la plupart des langages, l'ordre des mots est la caractéristique la plus discriminante pour la compréhension humaine. Il est à noter que c'est principalement le cas pour l'Anglais, langue que nous traitons ici. Or, certaines langues dites casuelles, sont centrées davantage sur les liaisons grammaticales (e.g. les cas en Allemand). Dans la langue qui nous occupe, l'utilisation d'une architecture séquentielle nous semble très pertinente pour augmenter les performances d'un modèle à une tâche classification de textes. Ainsi, les modèles se baseront sur une probabilité de voir un mot apparaître, en fonction du/des mot(s) précédent(s). Al-Tai et al. (2023) comparent cette fonctionnalité à une forme de mémoire."
   ]
  },
  {
   "cell_type": "markdown",
   "metadata": {},
   "source": [
    "Ici nous allons considérer un modèle de type 'many-to-one' (séquence à vecteur) dans le sens où à partir d'une séquence de mots est générée une seule prédiction finale."
   ]
  },
  {
   "cell_type": "code",
   "execution_count": 40,
   "metadata": {},
   "outputs": [
    {
     "name": "stdout",
     "output_type": "stream",
     "text": [
      "Model: \"sequential_4\"\n",
      "_________________________________________________________________\n",
      " Layer (type)                Output Shape              Param #   \n",
      "=================================================================\n",
      " embedding_4 (Embedding)     (None, 405, 8)            644352    \n",
      "                                                                 \n",
      " simple_rnn (SimpleRNN)      (None, 16)                400       \n",
      "                                                                 \n",
      " dropout_2 (Dropout)         (None, 16)                0         \n",
      "                                                                 \n",
      " dense_8 (Dense)             (None, 8)                 136       \n",
      "                                                                 \n",
      " dropout_3 (Dropout)         (None, 8)                 0         \n",
      "                                                                 \n",
      " dense_9 (Dense)             (None, 1)                 9         \n",
      "                                                                 \n",
      "=================================================================\n",
      "Total params: 644897 (2.46 MB)\n",
      "Trainable params: 644897 (2.46 MB)\n",
      "Non-trainable params: 0 (0.00 Byte)\n",
      "_________________________________________________________________\n"
     ]
    }
   ],
   "source": [
    "model_rnn = Sequential()\n",
    "model_rnn.add(Embedding(input_dim = len(word_index), output_dim = 8, input_length=avg_length_text))\n",
    "model_rnn.add(SimpleRNN(16)) # couche récurrente\n",
    "model_rnn.add(Dropout(0.5))\n",
    "model_rnn.add(Dense(8, activation='relu'))\n",
    "model_rnn.add(Dropout(0.5))\n",
    "model_rnn.add(Dense(1, activation= 'sigmoid'))\n",
    "model_rnn.compile(optimizer = 'adam', loss = ['binary_crossentropy'], metrics = ['accuracy'])\n",
    "model_rnn.summary()"
   ]
  },
  {
   "cell_type": "code",
   "execution_count": 41,
   "metadata": {},
   "outputs": [
    {
     "name": "stdout",
     "output_type": "stream",
     "text": [
      "Epoch 1/40\n",
      "78/78 [==============================] - 7s 77ms/step - loss: 0.6863 - accuracy: 0.5763 - val_loss: 0.6705 - val_accuracy: 0.5860\n",
      "Epoch 2/40\n",
      "78/78 [==============================] - 5s 68ms/step - loss: 0.6690 - accuracy: 0.5959 - val_loss: 0.6613 - val_accuracy: 0.5850\n",
      "Epoch 3/40\n",
      "78/78 [==============================] - 5s 67ms/step - loss: 0.6629 - accuracy: 0.6031 - val_loss: 0.6586 - val_accuracy: 0.5897\n",
      "Epoch 4/40\n",
      "78/78 [==============================] - 5s 68ms/step - loss: 0.6497 - accuracy: 0.6190 - val_loss: 0.6565 - val_accuracy: 0.6041\n",
      "Epoch 5/40\n",
      "78/78 [==============================] - 5s 67ms/step - loss: 0.6341 - accuracy: 0.6385 - val_loss: 0.6551 - val_accuracy: 0.6230\n",
      "Epoch 6/40\n",
      "78/78 [==============================] - 6s 75ms/step - loss: 0.6078 - accuracy: 0.6710 - val_loss: 0.6592 - val_accuracy: 0.6214\n",
      "Epoch 7/40\n",
      "78/78 [==============================] - 8s 107ms/step - loss: 0.5770 - accuracy: 0.7223 - val_loss: 0.6672 - val_accuracy: 0.6295\n",
      "Epoch 8/40\n",
      "78/78 [==============================] - 8s 101ms/step - loss: 0.5717 - accuracy: 0.7292 - val_loss: 0.6681 - val_accuracy: 0.6269\n",
      "Epoch 9/40\n",
      "78/78 [==============================] - 8s 100ms/step - loss: 0.5409 - accuracy: 0.7504 - val_loss: 0.6837 - val_accuracy: 0.6245\n",
      "Epoch 10/40\n",
      "78/78 [==============================] - 8s 104ms/step - loss: 0.5039 - accuracy: 0.7803 - val_loss: 0.7006 - val_accuracy: 0.6233\n"
     ]
    }
   ],
   "source": [
    "# fit\n",
    "history_rnn = model_rnn.fit(X_train_pad, y_train, epochs=40, batch_size=200, validation_data=(X_test_pad, y_test),\n",
    "                            callbacks=[EarlyStopping(monitor='val_loss', patience=5, restore_best_weights=True)])"
   ]
  },
  {
   "cell_type": "markdown",
   "metadata": {},
   "source": [
    "## Evaluation"
   ]
  },
  {
   "cell_type": "code",
   "execution_count": 42,
   "metadata": {},
   "outputs": [
    {
     "data": {
      "image/png": "[encoded data removed]",
      "text/plain": [
       "<Figure size 1100x600 with 2 Axes>"
      ]
     },
     "metadata": {},
     "output_type": "display_data"
    }
   ],
   "source": [
    "plt.figure(figsize=(11,6))\n",
    "\n",
    "plt.subplot(1,2,1)\n",
    "plt.plot(history_rnn.history['val_loss'])\n",
    "plt.plot(history_rnn.history['loss'])\n",
    "plt.title(\"Fitting history: LOSS\")\n",
    "plt.ylabel('Loss')\n",
    "plt.xlabel('Epoch')\n",
    "plt.legend(['Validation', 'Train'], loc = 'upper right')\n",
    "\n",
    "plt.subplot(1,2,2)\n",
    "plt.plot(history_rnn.history['val_accuracy'])\n",
    "plt.plot(history_rnn.history['accuracy'])\n",
    "plt.title(\"Fitting history: ACCURACY\")\n",
    "plt.ylabel('Accuracy')\n",
    "plt.xlabel('Epoch')\n",
    "plt.legend(['Validation', 'Train'], loc = 'upper right')\n",
    "\n",
    "plt.show()"
   ]
  },
  {
   "cell_type": "markdown",
   "metadata": {},
   "source": [
    "On constate une moindre stabilité dans le score et la perte, par rapport à nos modèles précédents, ainsi qu'une moindre performance, même si une capacité d'apprentissage existe, avec toutefois un écart entre les données d'entraînement et de validation suggérant un overfitting."
   ]
  },
  {
   "cell_type": "markdown",
   "metadata": {},
   "source": [
    "# LSTM"
   ]
  },
  {
   "cell_type": "markdown",
   "metadata": {},
   "source": [
    "L'instabilité observée dans le RNN simple peut être attribuée à un problème d'exploding gradient, phénomène courant dans ce type d'architecture, lorsqu'un traitement séquentiel est réalisé sur des séquences très longues. Mathématiquement, lors de l'entraînement et plus précisément de la rétropropagation, les gradients des poids sont calculés par rapport à une fonction de perte à l'aide de la règle des chaînes. Si les poids sont grands, le gradient peut exploser à mesure du processus et empêcher la convergence de la fonction vers un minimum. Selon Al-Tai et al. (2023), l'utilisation d'une extension LSTM dans un RNN présente l'avantage de contourner le biais des vanishing/exploding gradients, tout en autorisant l'apprentissage sur de longues séquences. Cela s'explique par l'existence d'une 'mémoire à long terme' et d'une 'mémoire à court terme' inhérentes à la couche LSTM qui permettent au modèle de n'être pas autant affecté par la rétropropagation que les RNN simples. Des mécanismes de contrôle optimisent par l'intermédiaire de 'gate' les quantités d'informations à traiter à court ou à long terme, et celles à oublier, un peu à la manière dont travaille la mémoire humaine."
   ]
  },
  {
   "cell_type": "code",
   "execution_count": 98,
   "metadata": {},
   "outputs": [
    {
     "name": "stdout",
     "output_type": "stream",
     "text": [
      "Model: \"sequential_7\"\n",
      "_________________________________________________________________\n",
      " Layer (type)                Output Shape              Param #   \n",
      "=================================================================\n",
      " embedding_4 (Embedding)     (None, 405, 16)           1288704   \n",
      "                                                                 \n",
      " lstm_8 (LSTM)               (None, 405, 64)           20736     \n",
      "                                                                 \n",
      " lstm_9 (LSTM)               (None, 32)                12416     \n",
      "                                                                 \n",
      " dense_6 (Dense)             (None, 16)                528       \n",
      "                                                                 \n",
      " batch_normalization_3 (Bat  (None, 16)                64        \n",
      " chNormalization)                                                \n",
      "                                                                 \n",
      " dense_7 (Dense)             (None, 1)                 17        \n",
      "                                                                 \n",
      "=================================================================\n",
      "Total params: 1322465 (5.04 MB)\n",
      "Trainable params: 1322433 (5.04 MB)\n",
      "Non-trainable params: 32 (128.00 Byte)\n",
      "_________________________________________________________________\n"
     ]
    }
   ],
   "source": [
    "# LSTM simple\n",
    "model_LSTM = Sequential()\n",
    "model_LSTM.add(Embedding(input_dim=len(word_index), output_dim=16, input_length=avg_length_text))\n",
    "model_LSTM.add(LSTM(64, activation='tanh', return_sequences=True))\n",
    "model_LSTM.add(LSTM(32, activation='tanh', return_sequences=False))\n",
    "model_LSTM.add(Dense(16, activation='relu'))\n",
    "model_LSTM.add(BatchNormalization())\n",
    "model_LSTM.add(Dense(1, activation='sigmoid'))\n",
    "model_LSTM.compile(optimizer='adam', loss='binary_crossentropy', metrics=['accuracy'])\n",
    "model_LSTM.summary()"
   ]
  },
  {
   "cell_type": "code",
   "execution_count": 44,
   "metadata": {},
   "outputs": [
    {
     "name": "stdout",
     "output_type": "stream",
     "text": [
      "Epoch 1/10\n",
      "162/162 [==============================] - 72s 418ms/step - loss: 0.5250 - accuracy: 0.7432 - val_loss: 1.1062 - val_accuracy: 0.5889\n",
      "Epoch 2/10\n",
      "162/162 [==============================] - 67s 412ms/step - loss: 0.4051 - accuracy: 0.8181 - val_loss: 0.4419 - val_accuracy: 0.7863\n",
      "Epoch 3/10\n",
      "162/162 [==============================] - 65s 401ms/step - loss: 0.2534 - accuracy: 0.9008 - val_loss: 0.3400 - val_accuracy: 0.8819\n",
      "Epoch 4/10\n",
      "162/162 [==============================] - 65s 404ms/step - loss: 0.1751 - accuracy: 0.9424 - val_loss: 0.3066 - val_accuracy: 0.9005\n",
      "Epoch 5/10\n",
      "162/162 [==============================] - 66s 407ms/step - loss: 0.1725 - accuracy: 0.9447 - val_loss: 0.2529 - val_accuracy: 0.9176\n",
      "Epoch 6/10\n",
      "162/162 [==============================] - 67s 414ms/step - loss: 0.1518 - accuracy: 0.9554 - val_loss: 0.5991 - val_accuracy: 0.8525\n",
      "Epoch 7/10\n",
      "162/162 [==============================] - 65s 401ms/step - loss: 0.1563 - accuracy: 0.9557 - val_loss: 0.2863 - val_accuracy: 0.9189\n",
      "Epoch 8/10\n",
      "162/162 [==============================] - 65s 401ms/step - loss: 0.2540 - accuracy: 0.9142 - val_loss: 0.4199 - val_accuracy: 0.8388\n",
      "Epoch 9/10\n",
      "162/162 [==============================] - 66s 406ms/step - loss: 0.4447 - accuracy: 0.8211 - val_loss: 2.0006 - val_accuracy: 0.4351\n",
      "Epoch 10/10\n",
      "162/162 [==============================] - 68s 420ms/step - loss: 0.3810 - accuracy: 0.8387 - val_loss: 0.9720 - val_accuracy: 0.6426\n"
     ]
    }
   ],
   "source": [
    "history_LSTM = model_LSTM.fit(\n",
    "                              X_train_pad, y_train, \n",
    "                              epochs=10,\n",
    "                              batch_size=96,\n",
    "                              validation_data=(X_test_pad, y_test),\n",
    "                              callbacks=[EarlyStopping(monitor='val_loss', patience=10)]\n",
    "                              )"
   ]
  },
  {
   "cell_type": "markdown",
   "metadata": {},
   "source": [
    "L'originalité du LSTM réside également dans sa capacité à traiter l'information de manière bidirectionnelle, c'est-à-dire à la fois dans le sens de la phrase, mais également en sens inverse, capturant ainsi mieux les dépendances contextuelles. Cela rendrait plus efficace la prise en compte de la sémantique globale d'un texte."
   ]
  },
  {
   "cell_type": "code",
   "execution_count": 91,
   "metadata": {},
   "outputs": [
    {
     "name": "stdout",
     "output_type": "stream",
     "text": [
      "Model: \"sequential_4\"\n",
      "_________________________________________________________________\n",
      " Layer (type)                Output Shape              Param #   \n",
      "=================================================================\n",
      " embedding (Embedding)       (None, 405, 4)            322176    \n",
      "                                                                 \n",
      " dropout_3 (Dropout)         (None, 405, 4)            0         \n",
      "                                                                 \n",
      " bidirectional_lstm_1 (Bidi  (None, 405, 32)           2688      \n",
      " rectional)                                                      \n",
      "                                                                 \n",
      " bidirectional_lstm_2 (Bidi  (None, 16)                2624      \n",
      " rectional)                                                      \n",
      "                                                                 \n",
      " batch_normalization (Batch  (None, 16)                64        \n",
      " Normalization)                                                  \n",
      "                                                                 \n",
      " output (Dense)              (None, 1)                 17        \n",
      "                                                                 \n",
      "=================================================================\n",
      "Total params: 327569 (1.25 MB)\n",
      "Trainable params: 327537 (1.25 MB)\n",
      "Non-trainable params: 32 (128.00 Byte)\n",
      "_________________________________________________________________\n"
     ]
    }
   ],
   "source": [
    "# LSTM bidirectionnel\n",
    "model_bidirLSTM = Sequential()\n",
    "model_bidirLSTM.add(Embedding(input_dim=len(word_index), output_dim=4, input_shape=(X_train_pad.shape[1:])))\n",
    "model_bidirLSTM.add(Dropout(0.4))\n",
    "model_bidirLSTM.add(Bidirectional(LSTM(units=16, activation='tanh', return_sequences=True, recurrent_dropout=0.4, dropout=0.4)))\n",
    "model_bidirLSTM.add(Bidirectional(LSTM(units=8, activation='tanh', return_sequences=False, recurrent_dropout=0.3, dropout=0.3)))\n",
    "model_bidirLSTM.add(BatchNormalization())\n",
    "model_bidirLSTM.add(Dense(units=1, activation=\"sigmoid\"))\n",
    "model_bidirLSTM.compile(optimizer='adam', loss='binary_crossentropy', metrics=['accuracy'])\n",
    "model_bidirLSTM.summary()"
   ]
  },
  {
   "cell_type": "code",
   "execution_count": 48,
   "metadata": {},
   "outputs": [
    {
     "name": "stdout",
     "output_type": "stream",
     "text": [
      "Epoch 1/15\n",
      "78/78 [==============================] - 121s 1s/step - loss: 0.5322 - accuracy: 0.7148 - val_loss: 0.5497 - val_accuracy: 0.8630\n",
      "Epoch 2/15\n",
      "78/78 [==============================] - 114s 1s/step - loss: 0.2764 - accuracy: 0.8877 - val_loss: 0.4232 - val_accuracy: 0.8406\n",
      "Epoch 3/15\n",
      "78/78 [==============================] - 114s 1s/step - loss: 0.2039 - accuracy: 0.9217 - val_loss: 0.2700 - val_accuracy: 0.8974\n",
      "Epoch 4/15\n",
      "78/78 [==============================] - 120s 2s/step - loss: 0.1671 - accuracy: 0.9373 - val_loss: 0.1859 - val_accuracy: 0.9341\n",
      "Epoch 5/15\n",
      "78/78 [==============================] - 125s 2s/step - loss: 0.1463 - accuracy: 0.9468 - val_loss: 0.1830 - val_accuracy: 0.9351\n",
      "Epoch 6/15\n",
      "78/78 [==============================] - 136s 2s/step - loss: 0.1379 - accuracy: 0.9490 - val_loss: 0.2044 - val_accuracy: 0.9176\n",
      "Epoch 7/15\n",
      "78/78 [==============================] - 172s 2s/step - loss: 0.1241 - accuracy: 0.9532 - val_loss: 0.1797 - val_accuracy: 0.9364\n",
      "Epoch 8/15\n",
      "78/78 [==============================] - 186s 2s/step - loss: 0.1114 - accuracy: 0.9586 - val_loss: 0.1854 - val_accuracy: 0.9357\n",
      "Epoch 9/15\n",
      "78/78 [==============================] - 205s 3s/step - loss: 0.1022 - accuracy: 0.9625 - val_loss: 0.2008 - val_accuracy: 0.9385\n",
      "Epoch 10/15\n",
      "78/78 [==============================] - 214s 3s/step - loss: 0.0906 - accuracy: 0.9678 - val_loss: 0.1966 - val_accuracy: 0.9395\n",
      "Epoch 11/15\n",
      "78/78 [==============================] - 239s 3s/step - loss: 0.0881 - accuracy: 0.9680 - val_loss: 0.1783 - val_accuracy: 0.9426\n",
      "Epoch 12/15\n",
      "78/78 [==============================] - 276s 4s/step - loss: 0.0904 - accuracy: 0.9668 - val_loss: 0.2626 - val_accuracy: 0.9339\n",
      "Epoch 13/15\n",
      "78/78 [==============================] - 314s 4s/step - loss: 0.0864 - accuracy: 0.9684 - val_loss: 0.2061 - val_accuracy: 0.9362\n",
      "Epoch 14/15\n",
      "78/78 [==============================] - 377s 5s/step - loss: 0.0821 - accuracy: 0.9702 - val_loss: 0.2269 - val_accuracy: 0.9318\n",
      "Epoch 15/15\n",
      "78/78 [==============================] - 424s 5s/step - loss: 0.0894 - accuracy: 0.9668 - val_loss: 0.2123 - val_accuracy: 0.9359\n"
     ]
    }
   ],
   "source": [
    "history_bidirLSTM = model_bidirLSTM.fit(\n",
    "                                        x = X_train_pad,\n",
    "                                        y = y_train,\n",
    "                                        validation_data = (X_test_pad, y_test),\n",
    "                                        epochs = 15,\n",
    "                                        batch_size = 200,\n",
    "                                        shuffle = True,\n",
    "                                        callbacks = [EarlyStopping(monitor='val_loss', patience=5, restore_best_weights=True)]\n",
    "                                        )"
   ]
  },
  {
   "cell_type": "markdown",
   "metadata": {},
   "source": [
    "## Evaluation"
   ]
  },
  {
   "cell_type": "code",
   "execution_count": 49,
   "metadata": {},
   "outputs": [
    {
     "data": {
      "image/png": "[encoded data removed]",
      "text/plain": [
       "<Figure size 1100x600 with 2 Axes>"
      ]
     },
     "metadata": {},
     "output_type": "display_data"
    }
   ],
   "source": [
    "plt.figure(figsize=(11,6))\n",
    "\n",
    "plt.subplot(1,2,1)\n",
    "plt.plot(history_bidirLSTM.history['val_loss'])\n",
    "plt.plot(history_bidirLSTM.history['loss'])\n",
    "plt.title(\"Fitting history: LOSS\")\n",
    "plt.ylabel('Loss')\n",
    "plt.xlabel('Epoch')\n",
    "plt.legend(['Validation', 'Train'], loc = 'upper right')\n",
    "\n",
    "plt.subplot(1,2,2)\n",
    "plt.plot(history_bidirLSTM.history['val_accuracy'])\n",
    "plt.plot(history_bidirLSTM.history['accuracy'])\n",
    "plt.title(\"Fitting history: ACCURACY\")\n",
    "plt.ylabel('Accuracy')\n",
    "plt.xlabel('Epoch')\n",
    "plt.legend(['Validation', 'Train'], loc = 'upper right')\n",
    "\n",
    "plt.show()"
   ]
  },
  {
   "cell_type": "markdown",
   "metadata": {},
   "source": [
    "## Sauvegarde"
   ]
  },
  {
   "cell_type": "code",
   "execution_count": 71,
   "metadata": {},
   "outputs": [
    {
     "data": {
      "text/plain": [
       "['model_bidir_lstm.joblib']"
      ]
     },
     "execution_count": 71,
     "metadata": {},
     "output_type": "execute_result"
    }
   ],
   "source": [
    "# exportation\n",
    "dump(model_bidirLSTM, 'model_bidir_lstm.joblib')"
   ]
  },
  {
   "cell_type": "code",
   "execution_count": null,
   "metadata": {},
   "outputs": [],
   "source": [
    "# importation\n",
    "model_bidir_lstm = load('model_bidir_lstm.joblib')"
   ]
  },
  {
   "cell_type": "markdown",
   "metadata": {},
   "source": [
    "# LSTM + CNN"
   ]
  },
  {
   "cell_type": "markdown",
   "metadata": {},
   "source": [
    "Testons à présent l’approche combinant un réseau avec couches LSTM bidirectionnelles (les plus efficaces) et des couches de convolution propres au CNN, afin d’allier deux perspectives complémentaires dans l’extraction de caractéristiques propres aux documents, d’une part la capture de la séquentialité des mots avec LSTM (dans une perspective globale), associée à une extraction de caractéristiques locales par l’intermédiaire du CNN. "
   ]
  },
  {
   "cell_type": "code",
   "execution_count": 96,
   "metadata": {},
   "outputs": [
    {
     "name": "stdout",
     "output_type": "stream",
     "text": [
      "Model: \"sequential_6\"\n",
      "_________________________________________________________________\n",
      " Layer (type)                Output Shape              Param #   \n",
      "=================================================================\n",
      " embedding_3 (Embedding)     (None, 405, 4)            322176    \n",
      "                                                                 \n",
      " conv1d_1 (Conv1D)           (None, 405, 128)          640       \n",
      "                                                                 \n",
      " max_pooling1d_1 (MaxPoolin  (None, 203, 128)          0         \n",
      " g1D)                                                            \n",
      "                                                                 \n",
      " bidirectional_1 (Bidirecti  (None, 64)                41216     \n",
      " onal)                                                           \n",
      "                                                                 \n",
      " dense_4 (Dense)             (None, 100)               6500      \n",
      "                                                                 \n",
      " batch_normalization_2 (Bat  (None, 100)               400       \n",
      " chNormalization)                                                \n",
      "                                                                 \n",
      " dropout_5 (Dropout)         (None, 100)               0         \n",
      "                                                                 \n",
      " dense_5 (Dense)             (None, 1)                 101       \n",
      "                                                                 \n",
      "=================================================================\n",
      "Total params: 371033 (1.42 MB)\n",
      "Trainable params: 370833 (1.41 MB)\n",
      "Non-trainable params: 200 (800.00 Byte)\n",
      "_________________________________________________________________\n"
     ]
    }
   ],
   "source": [
    "# LSTM + CNN (Conv1D)\n",
    "model_lstm_cnn = Sequential()\n",
    "model_lstm_cnn.add(Embedding(input_dim=len(word_index), output_dim=4, input_shape=(X_train_pad.shape[1:])))\n",
    "model_lstm_cnn.add(Conv1D(128, 1, activation='relu'))\n",
    "model_lstm_cnn.add(MaxPooling1D(2, padding=\"same\"))\n",
    "model_lstm_cnn.add(Bidirectional(LSTM(32)))\n",
    "model_lstm_cnn.add(Dense(100, kernel_regularizer=regularizers.l1(0.005), activation='relu'))\n",
    "model_lstm_cnn.add(BatchNormalization())\n",
    "model_lstm_cnn.add(Dropout(0.5))\n",
    "model_lstm_cnn.add(Dense(1, kernel_regularizer=regularizers.l1(0.005), activation='sigmoid'))\n",
    "model_lstm_cnn.compile(loss='binary_crossentropy', optimizer='adam', metrics=['accuracy'])\n",
    "model_lstm_cnn.summary()"
   ]
  },
  {
   "cell_type": "code",
   "execution_count": 97,
   "metadata": {},
   "outputs": [
    {
     "name": "stdout",
     "output_type": "stream",
     "text": [
      "Epoch 1/15\n",
      "78/78 [==============================] - 98s 1s/step - loss: 2.4907 - accuracy: 0.7991 - val_loss: 1.7743 - val_accuracy: 0.6630\n",
      "Epoch 2/15\n",
      "78/78 [==============================] - 92s 1s/step - loss: 0.8069 - accuracy: 0.9360 - val_loss: 0.7833 - val_accuracy: 0.6628\n",
      "Epoch 3/15\n",
      "78/78 [==============================] - 93s 1s/step - loss: 0.2254 - accuracy: 0.9620 - val_loss: 0.5945 - val_accuracy: 0.6832\n",
      "Epoch 4/15\n",
      "78/78 [==============================] - 89s 1s/step - loss: 0.1457 - accuracy: 0.9760 - val_loss: 0.4150 - val_accuracy: 0.9227\n",
      "Epoch 5/15\n",
      "78/78 [==============================] - 86s 1s/step - loss: 0.1070 - accuracy: 0.9848 - val_loss: 0.3156 - val_accuracy: 0.9279\n",
      "Epoch 6/15\n",
      "78/78 [==============================] - 84s 1s/step - loss: 0.1003 - accuracy: 0.9857 - val_loss: 0.2678 - val_accuracy: 0.9191\n",
      "Epoch 7/15\n",
      "78/78 [==============================] - 85s 1s/step - loss: 0.0760 - accuracy: 0.9935 - val_loss: 0.2678 - val_accuracy: 0.9207\n",
      "Epoch 8/15\n",
      "78/78 [==============================] - 85s 1s/step - loss: 0.0685 - accuracy: 0.9948 - val_loss: 0.2872 - val_accuracy: 0.9186\n",
      "Epoch 9/15\n",
      "78/78 [==============================] - 88s 1s/step - loss: 0.0673 - accuracy: 0.9941 - val_loss: 0.3077 - val_accuracy: 0.9186\n",
      "Epoch 10/15\n",
      "78/78 [==============================] - 81s 1s/step - loss: 0.0580 - accuracy: 0.9966 - val_loss: 0.3422 - val_accuracy: 0.9137\n",
      "Epoch 11/15\n",
      "78/78 [==============================] - 85s 1s/step - loss: 0.0551 - accuracy: 0.9972 - val_loss: 0.3555 - val_accuracy: 0.9127\n"
     ]
    }
   ],
   "source": [
    "history_lstm_cnn = model_lstm_cnn.fit(\n",
    "                                        x = X_train_pad,\n",
    "                                        y = y_train,\n",
    "                                        validation_data = (X_test_pad, y_test),\n",
    "                                        epochs = 15,\n",
    "                                        batch_size = 200,\n",
    "                                        shuffle = True,\n",
    "                                        callbacks = [EarlyStopping(monitor='val_loss', patience=5, restore_best_weights=True)]\n",
    "                                        )"
   ]
  },
  {
   "cell_type": "markdown",
   "metadata": {},
   "source": [
    "## Evaluation"
   ]
  },
  {
   "cell_type": "code",
   "execution_count": 99,
   "metadata": {},
   "outputs": [
    {
     "data": {
      "image/png": "[encoded data removed]",
      "text/plain": [
       "<Figure size 1100x600 with 2 Axes>"
      ]
     },
     "metadata": {},
     "output_type": "display_data"
    }
   ],
   "source": [
    "plt.figure(figsize=(11,6))\n",
    "\n",
    "plt.subplot(1,2,1)\n",
    "plt.plot(history_lstm_cnn.history['val_loss'])\n",
    "plt.plot(history_lstm_cnn.history['loss'])\n",
    "plt.title(\"Fitting history: LOSS\")\n",
    "plt.ylabel('Loss')\n",
    "plt.xlabel('Epoch')\n",
    "plt.legend(['Validation', 'Train'], loc = 'upper right')\n",
    "\n",
    "plt.subplot(1,2,2)\n",
    "plt.plot(history_lstm_cnn.history['val_accuracy'])\n",
    "plt.plot(history_lstm_cnn.history['accuracy'])\n",
    "plt.title(\"Fitting history: ACCURACY\")\n",
    "plt.ylabel('Accuracy')\n",
    "plt.xlabel('Epoch')\n",
    "plt.legend(['Validation', 'Train'], loc = 'upper right')\n",
    "\n",
    "plt.show()"
   ]
  },
  {
   "cell_type": "markdown",
   "metadata": {},
   "source": [
    "## Sauvegarde"
   ]
  },
  {
   "cell_type": "code",
   "execution_count": 101,
   "metadata": {},
   "outputs": [],
   "source": [
    "# exportation\n",
    "dump(model_lstm_cnn, 'model_lstm_cnn.joblib')"
   ]
  },
  {
   "cell_type": "code",
   "execution_count": null,
   "metadata": {},
   "outputs": [],
   "source": [
    "# importation\n",
    "model_lstm_cnn = load('model_lstm_cnn.joblib')"
   ]
  },
  {
   "cell_type": "markdown",
   "metadata": {},
   "source": [
    "# Utilisation de Word2Vec"
   ]
  },
  {
   "cell_type": "markdown",
   "metadata": {},
   "source": [
    "Word2Vec est une méthode de représentation de mots à l'aide de vecteurs de réels denses. Des mots proches en termes de sens auront une représentation vectorielle proche. Le modèle a été développé par Google et se base sur un réseau de neurones peu profond : une couche intermédiaire (souvent 300 neurones), dont les poids forment la représentation vectorielle du mot. Le réseau sera pré-entraîné selon une méthode non supervisée, à partir de notre corpus de données."
   ]
  },
  {
   "cell_type": "code",
   "execution_count": 57,
   "metadata": {},
   "outputs": [],
   "source": [
    "# conversion des phrases en listes de mots (reprise de la matrice X)\n",
    "X_tokenized = [sentence.split() for sentence in X]"
   ]
  },
  {
   "cell_type": "code",
   "execution_count": 58,
   "metadata": {},
   "outputs": [],
   "source": [
    "# entraînement du modèle Word2Vec avec les phrases tokenizées\n",
    "embedding_dim = 100\n",
    "w2v_model = Word2Vec(sentences=X_tokenized, vector_size=embedding_dim, window=5, min_count=1)"
   ]
  },
  {
   "cell_type": "markdown",
   "metadata": {},
   "source": [
    "Nous avons choisi un espace vectoriel de taille conséquente ainsi qu'un min_count de 1 (nombre minimal d'occurrences d'un mot pour que celui-ci soit pris en compte) de 1, afin d'obtenir un grand lexique de mots."
   ]
  },
  {
   "cell_type": "code",
   "execution_count": 20,
   "metadata": {},
   "outputs": [
    {
     "data": {
      "text/plain": [
       "[('terrorist', 0.8045339584350586),\n",
       " ('jihadist', 0.6601217985153198),\n",
       " ('extremist', 0.63368821144104),\n",
       " ('islam', 0.5868473052978516),\n",
       " ('islamist', 0.5812920928001404),\n",
       " ('isi', 0.5807709693908691),\n",
       " ('isil', 0.5731128454208374),\n",
       " ('pakistan', 0.5714085102081299),\n",
       " ('enemi', 0.5690454244613647),\n",
       " ('homegrown', 0.5569483637809753)]"
      ]
     },
     "execution_count": 20,
     "metadata": {},
     "output_type": "execute_result"
    }
   ],
   "source": [
    "w2v_model.wv.most_similar(\"terror\")"
   ]
  },
  {
   "cell_type": "code",
   "execution_count": 21,
   "metadata": {},
   "outputs": [
    {
     "data": {
      "text/plain": [
       "[('bush', 0.5301826000213623),\n",
       " ('sander', 0.5144396424293518),\n",
       " ('oppon', 0.5076156258583069),\n",
       " ('repeat', 0.5024576187133789),\n",
       " ('rubio', 0.5013020634651184),\n",
       " ('candid', 0.4967515766620636),\n",
       " ('trail', 0.4875049591064453),\n",
       " ('hillari', 0.4644887447357178),\n",
       " ('romney', 0.46314746141433716),\n",
       " ('hesit', 0.4612003266811371)]"
      ]
     },
     "execution_count": 21,
     "metadata": {},
     "output_type": "execute_result"
    }
   ],
   "source": [
    "w2v_model.wv.most_similar(positive=[\"trump\",\"obama\", \"clinton\"])"
   ]
  },
  {
   "cell_type": "markdown",
   "metadata": {},
   "source": [
    "La similarité semble être fonctionnelle, le modèle parvient à capturer la sémantique des textes."
   ]
  },
  {
   "cell_type": "markdown",
   "metadata": {},
   "source": [
    "## Vectorisation pour le réseau de neurones"
   ]
  },
  {
   "cell_type": "code",
   "execution_count": 59,
   "metadata": {},
   "outputs": [],
   "source": [
    "# tokenising (mapping des mots par des indices)\n",
    "tokenizer = Tokenizer()\n",
    "tokenizer.fit_on_texts(X_tokenized)\n",
    "X = tokenizer.texts_to_sequences(X_tokenized)"
   ]
  },
  {
   "cell_type": "code",
   "execution_count": 60,
   "metadata": {},
   "outputs": [
    {
     "data": {
      "text/plain": [
       "[1830, 277, 1, 1755, 1085, 616, 439, 262, 1200, 28385]"
      ]
     },
     "execution_count": 60,
     "metadata": {},
     "output_type": "execute_result"
    }
   ],
   "source": [
    "# affichage des 10 premiers mots du premier texte\n",
    "X[0][:10]"
   ]
  },
  {
   "cell_type": "code",
   "execution_count": 61,
   "metadata": {},
   "outputs": [
    {
     "name": "stdout",
     "output_type": "stream",
     "text": [
      "trump : 1\n",
      "said : 2\n",
      "clinton : 3\n",
      "state : 4\n",
      "would : 5\n",
      "one : 6\n",
      "peopl : 7\n",
      "elect : 8\n",
      "presid : 9\n",
      "year : 10\n"
     ]
    }
   ],
   "source": [
    "# affichage des 10 premiers mappings\n",
    "word_index = tokenizer.word_index\n",
    "for word, num in word_index.items():\n",
    "    print(f\"{word} : {num}\")\n",
    "    if num == 10:\n",
    "        break"
   ]
  },
  {
   "cell_type": "code",
   "execution_count": 62,
   "metadata": {},
   "outputs": [],
   "source": [
    "avg_length_text = 430 # longueur moyenne des séquences obtenue dans le vectorizing précédent"
   ]
  },
  {
   "cell_type": "code",
   "execution_count": 63,
   "metadata": {},
   "outputs": [
    {
     "data": {
      "text/plain": [
       "90952"
      ]
     },
     "execution_count": 63,
     "metadata": {},
     "output_type": "execute_result"
    }
   ],
   "source": [
    "len(word_index)"
   ]
  },
  {
   "cell_type": "code",
   "execution_count": 64,
   "metadata": {},
   "outputs": [],
   "source": [
    "vocab_size = len(tokenizer.word_index) + 1"
   ]
  },
  {
   "cell_type": "code",
   "execution_count": 65,
   "metadata": {},
   "outputs": [],
   "source": [
    "# fonction qui créé d'une matrice de poids à partir du modèle w2v\n",
    "def get_weight_matrix(model, vocab):\n",
    "    vocab_size = len(vocab) + 1 # taille du vocabulaire (nombre de mots uniques): il faut ajouter 1 pour prendre en compte l'indice 0 (mots inconnus)\n",
    "    weight_matrix = np.zeros((vocab_size, embedding_dim))\n",
    "    for word, i in vocab.items():\n",
    "        weight_matrix[i] = model.wv[word]\n",
    "    return weight_matrix"
   ]
  },
  {
   "cell_type": "code",
   "execution_count": 66,
   "metadata": {},
   "outputs": [],
   "source": [
    "embedding_vectors = get_weight_matrix(w2v_model, word_index)"
   ]
  },
  {
   "cell_type": "code",
   "execution_count": 67,
   "metadata": {},
   "outputs": [
    {
     "name": "stdout",
     "output_type": "stream",
     "text": [
      "15478 3870 15478 3870\n"
     ]
    }
   ],
   "source": [
    "print(len(X_train), len(X_test), len(y_train), len(y_test))"
   ]
  },
  {
   "cell_type": "code",
   "execution_count": 68,
   "metadata": {},
   "outputs": [],
   "source": [
    "# sequencing\n",
    "X_train_seq = tokenizer.texts_to_sequences(X_train)\n",
    "X_test_seq = tokenizer.texts_to_sequences(X_test)"
   ]
  },
  {
   "cell_type": "code",
   "execution_count": 70,
   "metadata": {},
   "outputs": [],
   "source": [
    "max_sequence_length = 430\n",
    "\n",
    "# padding\n",
    "X_train_pad = pad_sequences(X_train_seq, maxlen=max_sequence_length)\n",
    "X_test_pad = pad_sequences(X_test_seq, maxlen=max_sequence_length)"
   ]
  },
  {
   "cell_type": "code",
   "execution_count": 76,
   "metadata": {},
   "outputs": [
    {
     "name": "stdout",
     "output_type": "stream",
     "text": [
      "(15478, 430)\n",
      "(3870, 430)\n",
      "=====================================\n",
      "[[3962    2   16 ...   13 2693 1095]\n",
      " [ 474  446  449 ...   30  163  732]\n",
      " [   0    0    0 ...  184 1154  245]\n",
      " [ 616   79 2248 ... 1456   12 3006]\n",
      " [   0    0    0 ...  104  206   14]]\n"
     ]
    }
   ],
   "source": [
    "# vérifications\n",
    "print(X_train_pad.shape)\n",
    "print(X_test_pad.shape)\n",
    "print('=====================================')\n",
    "print(X_train_pad[0:5])"
   ]
  },
  {
   "cell_type": "code",
   "execution_count": 71,
   "metadata": {},
   "outputs": [],
   "source": [
    "X_train = np.expand_dims(X_train_pad, axis=-1)\n",
    "X_test = np.expand_dims(X_test_pad, axis=-1)"
   ]
  },
  {
   "cell_type": "markdown",
   "metadata": {},
   "source": [
    "## Création du modèle prenant Word2Vec"
   ]
  },
  {
   "cell_type": "code",
   "execution_count": 74,
   "metadata": {},
   "outputs": [
    {
     "name": "stdout",
     "output_type": "stream",
     "text": [
      "Model: \"sequential_1\"\n",
      "_________________________________________________________________\n",
      " Layer (type)                Output Shape              Param #   \n",
      "=================================================================\n",
      " embedding_1 (Embedding)     (None, 430, 100)          9095300   \n",
      "                                                                 \n",
      " conv1d_1 (Conv1D)           (None, 430, 128)          12928     \n",
      "                                                                 \n",
      " max_pooling1d_1 (MaxPoolin  (None, 215, 128)          0         \n",
      " g1D)                                                            \n",
      "                                                                 \n",
      " bidirectional_1 (Bidirecti  (None, 64)                41216     \n",
      " onal)                                                           \n",
      "                                                                 \n",
      " dense_2 (Dense)             (None, 100)               6500      \n",
      "                                                                 \n",
      " batch_normalization_1 (Bat  (None, 100)               400       \n",
      " chNormalization)                                                \n",
      "                                                                 \n",
      " dropout_1 (Dropout)         (None, 100)               0         \n",
      "                                                                 \n",
      " dense_3 (Dense)             (None, 1)                 101       \n",
      "                                                                 \n",
      "=================================================================\n",
      "Total params: 9156445 (34.93 MB)\n",
      "Trainable params: 60945 (238.07 KB)\n",
      "Non-trainable params: 9095500 (34.70 MB)\n",
      "_________________________________________________________________\n"
     ]
    }
   ],
   "source": [
    "model_w2v_bidirlstm_cnn = Sequential()\n",
    "model_w2v_bidirlstm_cnn.add(Embedding(vocab_size, output_dim=embedding_dim, weights=[embedding_vectors], input_length=avg_length_text, trainable=False))\n",
    "model_w2v_bidirlstm_cnn.add(Conv1D(128, 1, activation='relu'))\n",
    "model_w2v_bidirlstm_cnn.add(MaxPooling1D(2, padding=\"same\"))\n",
    "model_w2v_bidirlstm_cnn.add(Bidirectional(LSTM(32)))\n",
    "model_w2v_bidirlstm_cnn.add(Dense(100, kernel_regularizer=regularizers.l1(0.005), activation='relu'))\n",
    "model_w2v_bidirlstm_cnn.add(BatchNormalization())\n",
    "model_w2v_bidirlstm_cnn.add(Dropout(0.5))\n",
    "model_w2v_bidirlstm_cnn.add(Dense(1, kernel_regularizer=regularizers.l1(0.005), activation='sigmoid'))\n",
    "model_w2v_bidirlstm_cnn.compile(loss='binary_crossentropy', optimizer='adam', metrics=['accuracy'])\n",
    "model_w2v_bidirlstm_cnn.summary()"
   ]
  },
  {
   "cell_type": "code",
   "execution_count": 75,
   "metadata": {},
   "outputs": [
    {
     "name": "stdout",
     "output_type": "stream",
     "text": [
      "Epoch 1/6\n",
      "WARNING:tensorflow:From c:\\Users\\Engasser Ophélie\\Desktop\\ProjetIA\\venv\\Lib\\site-packages\\keras\\src\\utils\\tf_utils.py:492: The name tf.ragged.RaggedTensorValue is deprecated. Please use tf.compat.v1.ragged.RaggedTensorValue instead.\n",
      "\n",
      "WARNING:tensorflow:From c:\\Users\\Engasser Ophélie\\Desktop\\ProjetIA\\venv\\Lib\\site-packages\\keras\\src\\engine\\base_layer_utils.py:384: The name tf.executing_eagerly_outside_functions is deprecated. Please use tf.compat.v1.executing_eagerly_outside_functions instead.\n",
      "\n",
      "339/339 [==============================] - 46s 112ms/step - loss: 1.9664 - accuracy: 0.8030 - val_loss: 0.9713 - val_accuracy: 0.8379\n",
      "Epoch 2/6\n",
      "339/339 [==============================] - 39s 114ms/step - loss: 0.5835 - accuracy: 0.8938 - val_loss: 0.4557 - val_accuracy: 0.8721\n",
      "Epoch 3/6\n",
      "339/339 [==============================] - 35s 104ms/step - loss: 0.3286 - accuracy: 0.9166 - val_loss: 0.3428 - val_accuracy: 0.8915\n",
      "Epoch 4/6\n",
      "339/339 [==============================] - 35s 104ms/step - loss: 0.2617 - accuracy: 0.9294 - val_loss: 0.2784 - val_accuracy: 0.9169\n",
      "Epoch 5/6\n",
      "339/339 [==============================] - 35s 105ms/step - loss: 0.2355 - accuracy: 0.9409 - val_loss: 0.2603 - val_accuracy: 0.9274\n",
      "Epoch 6/6\n",
      "339/339 [==============================] - 35s 104ms/step - loss: 0.2139 - accuracy: 0.9460 - val_loss: 0.2650 - val_accuracy: 0.9270\n"
     ]
    }
   ],
   "source": [
    "history_w2v_bidirlstm_cnn = model_w2v_bidirlstm_cnn.fit(X_train, y_train, validation_split=0.3, epochs=6)"
   ]
  },
  {
   "cell_type": "code",
   "execution_count": 77,
   "metadata": {},
   "outputs": [
    {
     "data": {
      "image/png": "[encoded data removed]",
      "text/plain": [
       "<Figure size 1100x600 with 2 Axes>"
      ]
     },
     "metadata": {},
     "output_type": "display_data"
    }
   ],
   "source": [
    "plt.figure(figsize=(11,6))\n",
    "\n",
    "plt.subplot(1,2,1)\n",
    "plt.plot(history_w2v_bidirlstm_cnn.history['val_loss'])\n",
    "plt.plot(history_w2v_bidirlstm_cnn.history['loss'])\n",
    "plt.title(\"Fitting history: LOSS\")\n",
    "plt.ylabel('Loss')\n",
    "plt.xlabel('Epoch')\n",
    "plt.legend(['Validation', 'Train'], loc = 'upper right')\n",
    "\n",
    "plt.subplot(1,2,2)\n",
    "plt.plot(history_w2v_bidirlstm_cnn.history['val_accuracy'])\n",
    "plt.plot(history_w2v_bidirlstm_cnn.history['accuracy'])\n",
    "plt.title(\"Fitting history: ACCURACY\")\n",
    "plt.ylabel('Accuracy')\n",
    "plt.xlabel('Epoch')\n",
    "plt.legend(['Validation', 'Train'], loc = 'upper right')\n",
    "\n",
    "plt.show()"
   ]
  },
  {
   "cell_type": "code",
   "execution_count": 78,
   "metadata": {},
   "outputs": [],
   "source": [
    "# exportation\n",
    "dump(model_w2v_bidirlstm_cnn, 'model_w2v_bidirlstm_cnn.joblib')"
   ]
  },
  {
   "cell_type": "code",
   "execution_count": null,
   "metadata": {},
   "outputs": [],
   "source": [
    "# importation\n",
    "model_w2v_bidirlstm_cnn = load('model_w2v_bidirlstm_cnn.joblib')"
   ]
  },
  {
   "cell_type": "markdown",
   "metadata": {},
   "source": [
    "# Tests sur de nouvelles données"
   ]
  },
  {
   "cell_type": "code",
   "execution_count": 16,
   "metadata": {},
   "outputs": [],
   "source": [
    "# récupération des df scrapés\n",
    "df_new_fake = pd.read_csv('data_new_fake_theonion.csv', usecols=['articles'])\n",
    "df_new_real = pd.read_csv('data_new_real_time.csv', usecols=['articles'])"
   ]
  },
  {
   "cell_type": "code",
   "execution_count": 17,
   "metadata": {},
   "outputs": [],
   "source": [
    "# ajout d'une colonne de labels\n",
    "df_new_fake['label'] = 0\n",
    "df_new_real['label'] = 1"
   ]
  },
  {
   "cell_type": "code",
   "execution_count": 18,
   "metadata": {},
   "outputs": [],
   "source": [
    "# concaténation\n",
    "df_new = pd.concat([df_new_fake, df_new_real], ignore_index=True)"
   ]
  },
  {
   "cell_type": "code",
   "execution_count": 19,
   "metadata": {},
   "outputs": [],
   "source": [
    "# rappel de la fonction pré-traitement linguistique\n",
    "common_abbreviations = [\"mr\", \"mrs\", \"ms\", \"dr\", \"etc\"]\n",
    "\n",
    "def preprocess_text(text):\n",
    "    tokenizer = RegexpTokenizer(r'\\w+')\n",
    "    tokens = tokenizer.tokenize(text)\n",
    "    tokens = [token.lower() for token in tokens]\n",
    "    tokens = [token for token in tokens if token not in string.punctuation]\n",
    "    stop_words = stopwords.words('english')\n",
    "    tokens = [token for token in tokens if token not in stop_words]\n",
    "    tokens = [w.strip() for w in tokens if w not in stop_words and len(w) > 1]\n",
    "    tokens = [word for word in tokens if not word.isdigit()]\n",
    "    stemmer = SnowballStemmer('english')\n",
    "    tokens = [stemmer.stem(token) for token in tokens]\n",
    "    tokens = [token for token in tokens if token.lower() not in common_abbreviations]\n",
    "    tokens = [re.sub(r'\\b[A-Za-z]\\.', '', token) for token in tokens]\n",
    "    preprocessed_text = ' '.join(tokens)\n",
    "    return preprocessed_text"
   ]
  },
  {
   "cell_type": "code",
   "execution_count": 20,
   "metadata": {},
   "outputs": [],
   "source": [
    "# pré-processing NLP avec la fonction préalablement implémentée\n",
    "df_new['preprocessed_text'] = df_new['articles'].apply(preprocess_text)"
   ]
  },
  {
   "cell_type": "code",
   "execution_count": 21,
   "metadata": {},
   "outputs": [
    {
     "data": {
      "text/plain": [
       "0       dayton oh greet crowd campaign ralli thursday ...\n",
       "1       presidenti candid donald trump recent remark l...\n",
       "2       rnc go pay probabl work worth shot week lara b...\n",
       "3       vandalia oh draw critic mani call dehuman hurt...\n",
       "4       washington mind spin pour sheaf paper vice pre...\n",
       "                              ...                        \n",
       "3686    florida legisl propos ban abort state allow la...\n",
       "3687    presid joe biden stood front icon green marbl ...\n",
       "3688    articl part dc brief time polit newslett sign ...\n",
       "3689    presid joe biden remark unit nation general as...\n",
       "3690    texa controversi six week abort banha effect d...\n",
       "Name: preprocessed_text, Length: 3691, dtype: object"
      ]
     },
     "execution_count": 21,
     "metadata": {},
     "output_type": "execute_result"
    }
   ],
   "source": [
    "# préparation\n",
    "X_new = df_new['preprocessed_text']\n",
    "X_new "
   ]
  },
  {
   "cell_type": "code",
   "execution_count": 22,
   "metadata": {},
   "outputs": [
    {
     "data": {
      "text/plain": [
       "0       0\n",
       "1       0\n",
       "2       0\n",
       "3       0\n",
       "4       0\n",
       "       ..\n",
       "3686    1\n",
       "3687    1\n",
       "3688    1\n",
       "3689    1\n",
       "3690    1\n",
       "Name: label, Length: 3691, dtype: int64"
      ]
     },
     "execution_count": 22,
     "metadata": {},
     "output_type": "execute_result"
    }
   ],
   "source": [
    "y_new = df_new['label']\n",
    "y_new"
   ]
  },
  {
   "cell_type": "code",
   "execution_count": 40,
   "metadata": {},
   "outputs": [],
   "source": [
    "# utilisation de l'objet tokenizer (instancié plus haut) pour obtenir des séquences d'index sur tout le corpus (matrice X)\n",
    "X_seq = tokenizer.texts_to_sequences(X_new)"
   ]
  },
  {
   "cell_type": "code",
   "execution_count": 41,
   "metadata": {},
   "outputs": [
    {
     "name": "stdout",
     "output_type": "stream",
     "text": [
      "<class 'list'>\n",
      "[1, 1787, 3385, 854, 15, 445, 475, 97, 10, 43, 2, 381, 3177, 28, 7352, 90, 230, 1165, 63, 1, 284, 814, 124, 216, 64, 59, 34, 1915, 1349, 3122, 3576, 1, 4791, 9959, 263, 296, 4922, 1, 2662, 9068, 5778, 1, 1, 3820, 1276, 29, 23, 7369, 284, 1, 7352, 3134, 29, 47, 213, 4139, 41, 1366, 6176, 56, 232, 230, 759, 2, 5483, 1311, 2992, 6, 240, 7352, 3748, 246, 445, 3763, 1695, 1607]\n",
      "[64, 59, 43, 2, 120, 821, 507, 9, 9338, 37, 1, 179, 1499, 288, 1099, 5792, 1564, 5263, 5263, 5263, 2389, 1416, 6627, 5536, 431, 31, 6857, 269, 354, 41, 3, 1, 79, 284, 1, 193, 79, 60, 2951, 2, 99, 609, 711, 560, 480, 7, 2, 891, 717, 612, 1131, 346, 1852, 4096, 6225, 1143, 40, 233, 1645, 2238, 835, 828, 9338, 17, 2, 1527, 320, 2941, 8398, 445, 1609, 576, 2951, 35, 8790, 748, 9338, 141, 901, 2221, 2070, 2, 581, 823, 116, 1861, 1167, 2486, 1065, 595, 630, 688, 489, 990, 197, 283, 2, 3, 283, 85, 300, 2, 642, 138, 9, 278, 22, 294, 687, 4646, 1, 9711, 453, 998, 127, 9711, 83, 79, 12, 7, 2405, 272, 787, 1313, 833, 2, 8535, 857, 337, 9285, 264, 836, 1, 1, 2293, 431, 47, 2211, 1404, 451, 711, 951, 1926, 507, 9, 151, 30, 14, 313, 29, 329, 273, 612, 1, 3530, 1, 7298, 30, 210, 7194, 5622, 2, 109, 17, 549, 24, 1, 6980, 1, 207, 14, 2, 908, 1832, 1, 1, 1, 549, 139, 169, 545, 1859, 85, 1379, 1338, 605, 367, 2, 823, 1475, 1, 1, 4139, 22, 3249, 2, 515, 3, 765, 3315, 1338, 6, 1739, 616, 4108, 496, 239, 275, 38, 7, 325, 271, 2, 1612, 210, 149, 724, 7, 28, 5952, 1077, 1270, 2312, 846, 247, 1811, 1416, 209, 6571, 1197, 1, 2708, 1620, 4478, 8945, 9, 24, 52, 1601, 507, 6, 1, 503, 1658, 1, 329, 1, 1416, 789, 148, 61, 14, 2654, 246, 374, 209, 109, 3558, 74, 209, 1337, 504, 40, 6246, 105]\n"
     ]
    }
   ],
   "source": [
    "# vérifications\n",
    "print(type(X_seq))\n",
    "print(X_seq[0])\n",
    "print(X_seq[1])"
   ]
  },
  {
   "cell_type": "code",
   "execution_count": 42,
   "metadata": {},
   "outputs": [],
   "source": [
    "# padding\n",
    "X_pad = pad_sequences(X_seq, maxlen=avg_length_text, padding='post', truncating='post')"
   ]
  },
  {
   "cell_type": "code",
   "execution_count": 89,
   "metadata": {},
   "outputs": [
    {
     "name": "stdout",
     "output_type": "stream",
     "text": [
      "(3691, 430)\n",
      "=====================================\n",
      "[[10354  1778  3334 ...     0     0     0]\n",
      " [   63    58    44 ...     0     0     0]\n",
      " [ 2076    23   305 ...     0     0     0]\n",
      " [39177  1778  1409 ...     0     0     0]\n",
      " [  125   476  2794 ...     0     0     0]]\n"
     ]
    }
   ],
   "source": [
    "# vérifications\n",
    "print(X_pad.shape)\n",
    "print('=====================================')\n",
    "print(X_pad[0:5])"
   ]
  },
  {
   "cell_type": "code",
   "execution_count": null,
   "metadata": {},
   "outputs": [],
   "source": [
    "# prédictions modèle embedding simple\n",
    "pred_simple_embed = model_simple_embed.predict(X_pad)"
   ]
  },
  {
   "cell_type": "code",
   "execution_count": 86,
   "metadata": {},
   "outputs": [
    {
     "data": {
      "text/plain": [
       "3691"
      ]
     },
     "execution_count": 86,
     "metadata": {},
     "output_type": "execute_result"
    }
   ],
   "source": [
    "len(pred_simple_embed)"
   ]
  },
  {
   "cell_type": "code",
   "execution_count": 87,
   "metadata": {},
   "outputs": [
    {
     "name": "stdout",
     "output_type": "stream",
     "text": [
      "              precision    recall  f1-score   support\n",
      "\n",
      "           0    0.76603   0.37719   0.50549      1710\n",
      "           1    0.62618   0.90056   0.73872      1981\n",
      "\n",
      "    accuracy                        0.65809      3691\n",
      "   macro avg    0.69611   0.63887   0.62210      3691\n",
      "weighted avg    0.69097   0.65809   0.63066      3691\n",
      "\n"
     ]
    }
   ],
   "source": [
    "# évaluation\n",
    "threshold = 0.5  # seuil de probabilité\n",
    "\n",
    "# classes prédites en fonction du seuil de probabilité\n",
    "pred_classes = (pred_simple_embed > threshold).astype(int)\n",
    "print(classification_report(y_new, pred_classes, digits=5))"
   ]
  },
  {
   "cell_type": "code",
   "execution_count": 50,
   "metadata": {},
   "outputs": [
    {
     "name": "stdout",
     "output_type": "stream",
     "text": [
      "116/116 [==============================] - 132s 1s/step\n",
      "              precision    recall  f1-score   support\n",
      "\n",
      "           0    0.81781   0.47251   0.59896      1710\n",
      "           1    0.66630   0.90914   0.76900      1981\n",
      "\n",
      "    accuracy                        0.70685      3691\n",
      "   macro avg    0.74206   0.69083   0.68398      3691\n",
      "weighted avg    0.73649   0.70685   0.69022      3691\n",
      "\n"
     ]
    }
   ],
   "source": [
    "# prédictions LSTM bidirectionnel\n",
    "pred_bidir_lstm = model_bidirLSTM.predict(X_pad)\n",
    "\n",
    "# évaluation\n",
    "threshold = 0.5  # seuil de probabilité\n",
    "pred_classes = (pred_bidir_lstm > threshold).astype(int)\n",
    "print(classification_report(y_new, pred_classes, digits=5))"
   ]
  },
  {
   "cell_type": "code",
   "execution_count": 46,
   "metadata": {},
   "outputs": [
    {
     "name": "stdout",
     "output_type": "stream",
     "text": [
      "116/116 [==============================] - 3s 24ms/step\n",
      "              precision    recall  f1-score   support\n",
      "\n",
      "           0    0.84695   0.57602   0.68569      1710\n",
      "           1    0.71321   0.91015   0.79973      1981\n",
      "\n",
      "    accuracy                        0.75535      3691\n",
      "   macro avg    0.78008   0.74308   0.74271      3691\n",
      "weighted avg    0.77517   0.75535   0.74690      3691\n",
      "\n"
     ]
    }
   ],
   "source": [
    "# prédictions BidirLSTM + CNN\n",
    "pred_lstm_cnn = model_lstm_cnn.predict(X_pad)\n",
    "\n",
    "# évaluation\n",
    "threshold = 0.5  # seuil de probabilité\n",
    "pred_classes = (pred_lstm_cnn > threshold).astype(int)\n",
    "print(classification_report(y_new, pred_classes, digits=5))"
   ]
  },
  {
   "cell_type": "code",
   "execution_count": 90,
   "metadata": {},
   "outputs": [
    {
     "name": "stdout",
     "output_type": "stream",
     "text": [
      "116/116 [==============================] - 4s 26ms/step\n",
      "              precision    recall  f1-score   support\n",
      "\n",
      "           0    0.77514   0.99181   0.87019      1710\n",
      "           1    0.99069   0.75164   0.85476      1981\n",
      "\n",
      "    accuracy                        0.86291      3691\n",
      "   macro avg    0.88291   0.87173   0.86248      3691\n",
      "weighted avg    0.89082   0.86291   0.86191      3691\n",
      "\n"
     ]
    }
   ],
   "source": [
    "# prédictions w2v / BidirLSTM + CNN\n",
    "pred_w2v_bidirlstm_cnn = model_w2v_bidirlstm_cnn.predict(X_pad)\n",
    "\n",
    "# évaluation\n",
    "threshold = 0.5  # seuil de probabilité\n",
    "pred_classes = (pred_w2v_bidirlstm_cnn > threshold).astype(int)\n",
    "print(classification_report(y_new, pred_classes, digits=5))"
   ]
  },
  {
   "cell_type": "markdown",
   "metadata": {},
   "source": [
    "# Benchmark et discussion"
   ]
  },
  {
   "cell_type": "markdown",
   "metadata": {},
   "source": [
    "Cf. notebook #3"
   ]
  }
 ],
 "metadata": {
  "kernelspec": {
   "display_name": "venv_projetIA",
   "language": "python",
   "name": "venv_projetia"
  },
  "language_info": {
   "codemirror_mode": {
    "name": "ipython",
    "version": 3
   },
   "file_extension": ".py",
   "mimetype": "text/x-python",
   "name": "python",
   "nbconvert_exporter": "python",
   "pygments_lexer": "ipython3",
   "version": "3.11.5"
  }
 },
 "nbformat": 4,
 "nbformat_minor": 2
}
