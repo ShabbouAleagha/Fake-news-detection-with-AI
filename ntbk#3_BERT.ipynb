{
  "cells": [
    {
      "cell_type": "markdown",
      "metadata": {},
      "source": [
        "<center><h1>Projet IA - Fake News & Deep Fake</h1></center>"
      ]
    },
    {
      "cell_type": "markdown",
      "metadata": {},
      "source": [
        "<center><h1>Présenté par Shabboo ALEAGHA & Ophélie ENGASSER</h1></center>"
      ]
    },
    {
      "cell_type": "markdown",
      "metadata": {},
      "source": [
        "<center><h2>M2-IADS-EL - Mai 2024</h2></center>"
      ]
    },
    {
      "cell_type": "markdown",
      "metadata": {},
      "source": [
        "# Notebook #3. Transfer learning - BERT"
      ]
    },
    {
      "cell_type": "markdown",
      "metadata": {},
      "source": [
        "Nous avons choisi de tester le modèle BERT selon une approche d'apprentissage par transfert, qui consiste à utiliser un modèle pré-entraîné et à l’adapter à une tâche cible en le ré-entraînant sur un corpus de données spécifique. Cette adaptation est possible grâce au fine-tuning du modèle. BERT est un modèle de pointe qui peut être utilisé dans de nombreuses applications de NLP (Mridha et al., 2021). Il intègre des représentations linguistiques pré-entraînées développées par Google et est construit sur une architecture codée par transformers. Il se distingue par sa capacité à identifier et capturer le sens contextuel dans un texte, et élimine les limitations habituellement liées à l’uni-directionnalité. Pour le fine-tuning, nous l’avons d’abord initialisé à partir de ‘bert-base-uncased’ avec les paramètres pré-entraînés, puis l’avons ré-entraîné à partir des données labellisées et adapté les paramètres à notre tâche, notamment en réglant plusieurs fois le learning rate."
      ]
    },
    {
      "cell_type": "code",
      "execution_count": null,
      "metadata": {
        "colab": {
          "base_uri": "https://localhost:8080/"
        },
        "id": "GXw9H7g_d98Y",
        "outputId": "68811e76-9276-41fa-e4b1-617bf2edf83b"
      },
      "outputs": [
        {
          "name": "stdout",
          "output_type": "stream",
          "text": [
            "Mounted at /content/drive\n"
          ]
        }
      ],
      "source": [
        "# connexion à Google Colab pour l'accès aux GPU\n",
        "from google.colab import drive\n",
        "drive.mount('/content/drive')"
      ]
    },
    {
      "cell_type": "markdown",
      "metadata": {},
      "source": [
        "# Importation des librairies"
      ]
    },
    {
      "cell_type": "code",
      "execution_count": null,
      "metadata": {
        "colab": {
          "base_uri": "https://localhost:8080/"
        },
        "id": "GurtD1o6NQvz",
        "outputId": "d1fd2bbb-3d70-4b6e-c2bd-1f14cc530e52"
      },
      "outputs": [
        {
          "name": "stdout",
          "output_type": "stream",
          "text": [
            "Requirement already satisfied: transformers in /usr/local/lib/python3.10/dist-packages (4.40.2)\n",
            "Requirement already satisfied: filelock in /usr/local/lib/python3.10/dist-packages (from transformers) (3.14.0)\n",
            "Requirement already satisfied: huggingface-hub<1.0,>=0.19.3 in /usr/local/lib/python3.10/dist-packages (from transformers) (0.20.3)\n",
            "Requirement already satisfied: numpy>=1.17 in /usr/local/lib/python3.10/dist-packages (from transformers) (1.25.2)\n",
            "Requirement already satisfied: packaging>=20.0 in /usr/local/lib/python3.10/dist-packages (from transformers) (24.0)\n",
            "Requirement already satisfied: pyyaml>=5.1 in /usr/local/lib/python3.10/dist-packages (from transformers) (6.0.1)\n",
            "Requirement already satisfied: regex!=2019.12.17 in /usr/local/lib/python3.10/dist-packages (from transformers) (2023.12.25)\n",
            "Requirement already satisfied: requests in /usr/local/lib/python3.10/dist-packages (from transformers) (2.31.0)\n",
            "Requirement already satisfied: tokenizers<0.20,>=0.19 in /usr/local/lib/python3.10/dist-packages (from transformers) (0.19.1)\n",
            "Requirement already satisfied: safetensors>=0.4.1 in /usr/local/lib/python3.10/dist-packages (from transformers) (0.4.3)\n",
            "Requirement already satisfied: tqdm>=4.27 in /usr/local/lib/python3.10/dist-packages (from transformers) (4.66.4)\n",
            "Requirement already satisfied: fsspec>=2023.5.0 in /usr/local/lib/python3.10/dist-packages (from huggingface-hub<1.0,>=0.19.3->transformers) (2023.6.0)\n",
            "Requirement already satisfied: typing-extensions>=3.7.4.3 in /usr/local/lib/python3.10/dist-packages (from huggingface-hub<1.0,>=0.19.3->transformers) (4.11.0)\n",
            "Requirement already satisfied: charset-normalizer<4,>=2 in /usr/local/lib/python3.10/dist-packages (from requests->transformers) (3.3.2)\n",
            "Requirement already satisfied: idna<4,>=2.5 in /usr/local/lib/python3.10/dist-packages (from requests->transformers) (3.7)\n",
            "Requirement already satisfied: urllib3<3,>=1.21.1 in /usr/local/lib/python3.10/dist-packages (from requests->transformers) (2.0.7)\n",
            "Requirement already satisfied: certifi>=2017.4.17 in /usr/local/lib/python3.10/dist-packages (from requests->transformers) (2024.2.2)\n",
            "Requirement already satisfied: torch in /usr/local/lib/python3.10/dist-packages (2.2.1+cu121)\n",
            "Requirement already satisfied: filelock in /usr/local/lib/python3.10/dist-packages (from torch) (3.14.0)\n",
            "Requirement already satisfied: typing-extensions>=4.8.0 in /usr/local/lib/python3.10/dist-packages (from torch) (4.11.0)\n",
            "Requirement already satisfied: sympy in /usr/local/lib/python3.10/dist-packages (from torch) (1.12)\n",
            "Requirement already satisfied: networkx in /usr/local/lib/python3.10/dist-packages (from torch) (3.3)\n",
            "Requirement already satisfied: jinja2 in /usr/local/lib/python3.10/dist-packages (from torch) (3.1.4)\n",
            "Requirement already satisfied: fsspec in /usr/local/lib/python3.10/dist-packages (from torch) (2023.6.0)\n",
            "Collecting nvidia-cuda-nvrtc-cu12==12.1.105 (from torch)\n",
            "  Using cached nvidia_cuda_nvrtc_cu12-12.1.105-py3-none-manylinux1_x86_64.whl (23.7 MB)\n",
            "Collecting nvidia-cuda-runtime-cu12==12.1.105 (from torch)\n",
            "  Using cached nvidia_cuda_runtime_cu12-12.1.105-py3-none-manylinux1_x86_64.whl (823 kB)\n",
            "Collecting nvidia-cuda-cupti-cu12==12.1.105 (from torch)\n",
            "  Using cached nvidia_cuda_cupti_cu12-12.1.105-py3-none-manylinux1_x86_64.whl (14.1 MB)\n",
            "Collecting nvidia-cudnn-cu12==8.9.2.26 (from torch)\n",
            "  Using cached nvidia_cudnn_cu12-8.9.2.26-py3-none-manylinux1_x86_64.whl (731.7 MB)\n",
            "Collecting nvidia-cublas-cu12==12.1.3.1 (from torch)\n",
            "  Using cached nvidia_cublas_cu12-12.1.3.1-py3-none-manylinux1_x86_64.whl (410.6 MB)\n",
            "Collecting nvidia-cufft-cu12==11.0.2.54 (from torch)\n",
            "  Using cached nvidia_cufft_cu12-11.0.2.54-py3-none-manylinux1_x86_64.whl (121.6 MB)\n",
            "Collecting nvidia-curand-cu12==10.3.2.106 (from torch)\n",
            "  Using cached nvidia_curand_cu12-10.3.2.106-py3-none-manylinux1_x86_64.whl (56.5 MB)\n",
            "Collecting nvidia-cusolver-cu12==11.4.5.107 (from torch)\n",
            "  Using cached nvidia_cusolver_cu12-11.4.5.107-py3-none-manylinux1_x86_64.whl (124.2 MB)\n",
            "Collecting nvidia-cusparse-cu12==12.1.0.106 (from torch)\n",
            "  Using cached nvidia_cusparse_cu12-12.1.0.106-py3-none-manylinux1_x86_64.whl (196.0 MB)\n",
            "Collecting nvidia-nccl-cu12==2.19.3 (from torch)\n",
            "  Using cached nvidia_nccl_cu12-2.19.3-py3-none-manylinux1_x86_64.whl (166.0 MB)\n",
            "Collecting nvidia-nvtx-cu12==12.1.105 (from torch)\n",
            "  Using cached nvidia_nvtx_cu12-12.1.105-py3-none-manylinux1_x86_64.whl (99 kB)\n",
            "Requirement already satisfied: triton==2.2.0 in /usr/local/lib/python3.10/dist-packages (from torch) (2.2.0)\n",
            "Collecting nvidia-nvjitlink-cu12 (from nvidia-cusolver-cu12==11.4.5.107->torch)\n",
            "  Using cached nvidia_nvjitlink_cu12-12.4.127-py3-none-manylinux2014_x86_64.whl (21.1 MB)\n",
            "Requirement already satisfied: MarkupSafe>=2.0 in /usr/local/lib/python3.10/dist-packages (from jinja2->torch) (2.1.5)\n",
            "Requirement already satisfied: mpmath>=0.19 in /usr/local/lib/python3.10/dist-packages (from sympy->torch) (1.3.0)\n",
            "Installing collected packages: nvidia-nvtx-cu12, nvidia-nvjitlink-cu12, nvidia-nccl-cu12, nvidia-curand-cu12, nvidia-cufft-cu12, nvidia-cuda-runtime-cu12, nvidia-cuda-nvrtc-cu12, nvidia-cuda-cupti-cu12, nvidia-cublas-cu12, nvidia-cusparse-cu12, nvidia-cudnn-cu12, nvidia-cusolver-cu12\n",
            "Successfully installed nvidia-cublas-cu12-12.1.3.1 nvidia-cuda-cupti-cu12-12.1.105 nvidia-cuda-nvrtc-cu12-12.1.105 nvidia-cuda-runtime-cu12-12.1.105 nvidia-cudnn-cu12-8.9.2.26 nvidia-cufft-cu12-11.0.2.54 nvidia-curand-cu12-10.3.2.106 nvidia-cusolver-cu12-11.4.5.107 nvidia-cusparse-cu12-12.1.0.106 nvidia-nccl-cu12-2.19.3 nvidia-nvjitlink-cu12-12.4.127 nvidia-nvtx-cu12-12.1.105\n",
            "Requirement already satisfied: nltk in /usr/local/lib/python3.10/dist-packages (3.8.1)\n",
            "Requirement already satisfied: click in /usr/local/lib/python3.10/dist-packages (from nltk) (8.1.7)\n",
            "Requirement already satisfied: joblib in /usr/local/lib/python3.10/dist-packages (from nltk) (1.4.2)\n",
            "Requirement already satisfied: regex>=2021.8.3 in /usr/local/lib/python3.10/dist-packages (from nltk) (2023.12.25)\n",
            "Requirement already satisfied: tqdm in /usr/local/lib/python3.10/dist-packages (from nltk) (4.66.4)\n",
            "Requirement already satisfied: tqdm in /usr/local/lib/python3.10/dist-packages (4.66.4)\n",
            "Requirement already satisfied: wordcloud in /usr/local/lib/python3.10/dist-packages (1.9.3)\n",
            "Requirement already satisfied: numpy>=1.6.1 in /usr/local/lib/python3.10/dist-packages (from wordcloud) (1.25.2)\n",
            "Requirement already satisfied: pillow in /usr/local/lib/python3.10/dist-packages (from wordcloud) (9.4.0)\n",
            "Requirement already satisfied: matplotlib in /usr/local/lib/python3.10/dist-packages (from wordcloud) (3.7.1)\n",
            "Requirement already satisfied: contourpy>=1.0.1 in /usr/local/lib/python3.10/dist-packages (from matplotlib->wordcloud) (1.2.1)\n",
            "Requirement already satisfied: cycler>=0.10 in /usr/local/lib/python3.10/dist-packages (from matplotlib->wordcloud) (0.12.1)\n",
            "Requirement already satisfied: fonttools>=4.22.0 in /usr/local/lib/python3.10/dist-packages (from matplotlib->wordcloud) (4.51.0)\n",
            "Requirement already satisfied: kiwisolver>=1.0.1 in /usr/local/lib/python3.10/dist-packages (from matplotlib->wordcloud) (1.4.5)\n",
            "Requirement already satisfied: packaging>=20.0 in /usr/local/lib/python3.10/dist-packages (from matplotlib->wordcloud) (24.0)\n",
            "Requirement already satisfied: pyparsing>=2.3.1 in /usr/local/lib/python3.10/dist-packages (from matplotlib->wordcloud) (3.1.2)\n",
            "Requirement already satisfied: python-dateutil>=2.7 in /usr/local/lib/python3.10/dist-packages (from matplotlib->wordcloud) (2.8.2)\n",
            "Requirement already satisfied: six>=1.5 in /usr/local/lib/python3.10/dist-packages (from python-dateutil>=2.7->matplotlib->wordcloud) (1.16.0)\n",
            "Requirement already satisfied: seaborn in /usr/local/lib/python3.10/dist-packages (0.13.1)\n",
            "Requirement already satisfied: numpy!=1.24.0,>=1.20 in /usr/local/lib/python3.10/dist-packages (from seaborn) (1.25.2)\n",
            "Requirement already satisfied: pandas>=1.2 in /usr/local/lib/python3.10/dist-packages (from seaborn) (2.0.3)\n",
            "Requirement already satisfied: matplotlib!=3.6.1,>=3.4 in /usr/local/lib/python3.10/dist-packages (from seaborn) (3.7.1)\n",
            "Requirement already satisfied: contourpy>=1.0.1 in /usr/local/lib/python3.10/dist-packages (from matplotlib!=3.6.1,>=3.4->seaborn) (1.2.1)\n",
            "Requirement already satisfied: cycler>=0.10 in /usr/local/lib/python3.10/dist-packages (from matplotlib!=3.6.1,>=3.4->seaborn) (0.12.1)\n",
            "Requirement already satisfied: fonttools>=4.22.0 in /usr/local/lib/python3.10/dist-packages (from matplotlib!=3.6.1,>=3.4->seaborn) (4.51.0)\n",
            "Requirement already satisfied: kiwisolver>=1.0.1 in /usr/local/lib/python3.10/dist-packages (from matplotlib!=3.6.1,>=3.4->seaborn) (1.4.5)\n",
            "Requirement already satisfied: packaging>=20.0 in /usr/local/lib/python3.10/dist-packages (from matplotlib!=3.6.1,>=3.4->seaborn) (24.0)\n",
            "Requirement already satisfied: pillow>=6.2.0 in /usr/local/lib/python3.10/dist-packages (from matplotlib!=3.6.1,>=3.4->seaborn) (9.4.0)\n",
            "Requirement already satisfied: pyparsing>=2.3.1 in /usr/local/lib/python3.10/dist-packages (from matplotlib!=3.6.1,>=3.4->seaborn) (3.1.2)\n",
            "Requirement already satisfied: python-dateutil>=2.7 in /usr/local/lib/python3.10/dist-packages (from matplotlib!=3.6.1,>=3.4->seaborn) (2.8.2)\n",
            "Requirement already satisfied: pytz>=2020.1 in /usr/local/lib/python3.10/dist-packages (from pandas>=1.2->seaborn) (2023.4)\n",
            "Requirement already satisfied: tzdata>=2022.1 in /usr/local/lib/python3.10/dist-packages (from pandas>=1.2->seaborn) (2024.1)\n",
            "Requirement already satisfied: six>=1.5 in /usr/local/lib/python3.10/dist-packages (from python-dateutil>=2.7->matplotlib!=3.6.1,>=3.4->seaborn) (1.16.0)\n"
          ]
        }
      ],
      "source": [
        "!pip install transformers\n",
        "!pip install torch\n",
        "!pip install nltk\n",
        "!pip install tqdm"
      ]
    },
    {
      "cell_type": "code",
      "execution_count": null,
      "metadata": {
        "id": "aJAQL9HAL-t7"
      },
      "outputs": [],
      "source": [
        "import numpy as np\n",
        "import pandas as pd\n",
        "import matplotlib.pyplot as plt\n",
        "import plotly.express as px\n",
        "import plotly.io as pio\n",
        "import plotly.graph_objects as go\n",
        "from plotly.subplots import make_subplots\n",
        "import re\n",
        "import nltk\n",
        "from nltk.tokenize import RegexpTokenizer\n",
        "from nltk.corpus import stopwords\n",
        "from nltk.stem import SnowballStemmer\n",
        "import string\n",
        "nltk.download('stopwords')\n",
        "from tqdm import tqdm\n",
        "from sklearn.preprocessing import LabelEncoder\n",
        "from transformers import AutoTokenizer, AutoModelForSequenceClassification\n",
        "import torch\n",
        "from sklearn.model_selection import train_test_split\n",
        "from transformers import BertTokenizer, BertForSequenceClassification, AdamW\n",
        "from torch.utils.data import DataLoader, TensorDataset, random_split\n",
        "from torch.nn import BatchNorm1d\n",
        "from torch.nn.utils import clip_grad_norm_\n",
        "from torch.optim.lr_scheduler import StepLR\n",
        "from torch import nn\n",
        "import joblib\n",
        "from sklearn.metrics import classification_report"
      ]
    },
    {
      "cell_type": "markdown",
      "metadata": {},
      "source": [
        "# Préparation"
      ]
    },
    {
      "cell_type": "code",
      "execution_count": null,
      "metadata": {
        "colab": {
          "base_uri": "https://localhost:8080/"
        },
        "id": "7v41_4LQeAM_",
        "outputId": "d1e7c08b-8c9c-4d33-845e-039ec76fae74"
      },
      "outputs": [
        {
          "name": "stderr",
          "output_type": "stream",
          "text": [
            "<ipython-input-60-ea20129424e9>:2: DtypeWarning: Columns (5,12,15) have mixed types. Specify dtype option on import or set low_memory=False.\n",
            "  df= pd.read_csv('/content/drive/Shareddrives/Projet IA M2 Fake News/Last fichiers/data_preprocessed.csv')\n"
          ]
        },
        {
          "data": {
            "text/plain": [
              "(19423, 54)"
            ]
          },
          "execution_count": 60,
          "metadata": {},
          "output_type": "execute_result"
        }
      ],
      "source": [
        "# récupération du df\n",
        "df= pd.read_csv('/content/drive/Shareddrives/Projet IA M2 Fake News/Last fichiers/data_preprocessed.csv')\n",
        "df.shape"
      ]
    },
    {
      "cell_type": "code",
      "execution_count": null,
      "metadata": {
        "colab": {
          "base_uri": "https://localhost:8080/",
          "height": 826
        },
        "id": "bYLNW523L_fo",
        "outputId": "c55d4f79-95b8-4418-97f5-1a7f2418f988"
      },
      "outputs": [],
      "source": [
        "df.drop(columns=['Unnamed: 0'], inplace=True)\n",
        "df.drop(columns=['index'], inplace=True)\n",
        "df = df.dropna(subset=['preprocessed_text'])"
      ]
    },
    {
      "cell_type": "code",
      "execution_count": null,
      "metadata": {
        "id": "03cpUXT-MIrp"
      },
      "outputs": [],
      "source": [
        "# préparation\n",
        "X = list(df['preprocessed_text'])\n",
        "y = list(df['type'])\n",
        "label_encoder = LabelEncoder()\n",
        "y_encoded = label_encoder.fit_transform(y)\n",
        "y = list(y_encoded)"
      ]
    },
    {
      "cell_type": "code",
      "execution_count": null,
      "metadata": {
        "colab": {
          "base_uri": "https://localhost:8080/"
        },
        "id": "lHRUDElyMKZm",
        "outputId": "1de2a9f9-39af-4633-c805-ea123ba3f423"
      },
      "outputs": [
        {
          "name": "stdout",
          "output_type": "stream",
          "text": [
            "Taille de l'ensemble d'entraînement : 12382\n",
            "Taille de l'ensemble de validation : 3096\n",
            "Taille de l'ensemble de test : 3870\n"
          ]
        }
      ],
      "source": [
        "# split train-test\n",
        "X_train, X_test, y_train, y_test = train_test_split(X, y, test_size=0.2, random_state=42)\n",
        "\n",
        "# split train-val\n",
        "X_train, X_val, y_train, y_val = train_test_split(X_train, y_train, test_size=0.2, random_state=42)\n",
        "\n",
        "# affichage des tailles des ensembles\n",
        "print(\"Taille de l'ensemble d'entraînement :\", len(X_train))\n",
        "print(\"Taille de l'ensemble de validation :\", len(X_val))\n",
        "print(\"Taille de l'ensemble de test :\", len(X_test))"
      ]
    },
    {
      "cell_type": "code",
      "execution_count": null,
      "metadata": {
        "id": "XrBkv_vOMWI1"
      },
      "outputs": [],
      "source": [
        "# instanciation du tokenizer de BERT\n",
        "tokenizer = BertTokenizer.from_pretrained('bert-base-uncased')"
      ]
    },
    {
      "cell_type": "code",
      "execution_count": null,
      "metadata": {
        "id": "VTnUFKV0MYOk"
      },
      "outputs": [],
      "source": [
        "# transformation en listes\n",
        "texts_train = list(X_train)\n",
        "texts_val = list(X_val)\n",
        "\n",
        "max_length = 100"
      ]
    },
    {
      "cell_type": "code",
      "execution_count": null,
      "metadata": {
        "id": "3qm7PHNhMbuK"
      },
      "outputs": [],
      "source": [
        "# tokenization\n",
        "tokenized_texts_train = tokenizer(texts_train, padding=True, truncation=True, return_tensors=\"pt\", max_length=max_length)\n",
        "tokenized_texts_val = tokenizer(texts_val, padding=True, truncation=True, return_tensors=\"pt\", max_length=max_length)"
      ]
    },
    {
      "cell_type": "code",
      "execution_count": null,
      "metadata": {
        "id": "mV8IvgF6Mbww"
      },
      "outputs": [],
      "source": [
        "# conversion des labels en tensors\n",
        "train_labels = torch.tensor(list(y_train), dtype=torch.long)\n",
        "val_labels = torch.tensor(list(y_val), dtype=torch.long)"
      ]
    },
    {
      "cell_type": "code",
      "execution_count": null,
      "metadata": {
        "colab": {
          "base_uri": "https://localhost:8080/"
        },
        "id": "68za8mpXMbz-",
        "outputId": "01a29f2a-414a-4253-ca9b-989913d43bd8"
      },
      "outputs": [
        {
          "name": "stderr",
          "output_type": "stream",
          "text": [
            "<ipython-input-73-3345ff943c91>:1: UserWarning: To copy construct from a tensor, it is recommended to use sourceTensor.clone().detach() or sourceTensor.clone().detach().requires_grad_(True), rather than torch.tensor(sourceTensor).\n",
            "  train_dataset = TensorDataset(torch.tensor(tokenized_texts_train['input_ids']),\n",
            "<ipython-input-73-3345ff943c91>:2: UserWarning: To copy construct from a tensor, it is recommended to use sourceTensor.clone().detach() or sourceTensor.clone().detach().requires_grad_(True), rather than torch.tensor(sourceTensor).\n",
            "  torch.tensor(tokenized_texts_train['attention_mask']),\n",
            "<ipython-input-73-3345ff943c91>:5: UserWarning: To copy construct from a tensor, it is recommended to use sourceTensor.clone().detach() or sourceTensor.clone().detach().requires_grad_(True), rather than torch.tensor(sourceTensor).\n",
            "  val_dataset = TensorDataset(torch.tensor(tokenized_texts_val['input_ids']),\n",
            "<ipython-input-73-3345ff943c91>:6: UserWarning: To copy construct from a tensor, it is recommended to use sourceTensor.clone().detach() or sourceTensor.clone().detach().requires_grad_(True), rather than torch.tensor(sourceTensor).\n",
            "  torch.tensor(tokenized_texts_val['attention_mask']),\n"
          ]
        }
      ],
      "source": [
        "# conversion des textes en tensors\n",
        "train_dataset = TensorDataset(torch.tensor(tokenized_texts_train['input_ids']),\n",
        "                              torch.tensor(tokenized_texts_train['attention_mask']),\n",
        "                              torch.tensor(y_train))\n",
        "\n",
        "val_dataset = TensorDataset(torch.tensor(tokenized_texts_val['input_ids']),\n",
        "                            torch.tensor(tokenized_texts_val['attention_mask']),\n",
        "                            torch.tensor(y_val))"
      ]
    },
    {
      "cell_type": "code",
      "execution_count": null,
      "metadata": {
        "colab": {
          "base_uri": "https://localhost:8080/"
        },
        "id": "2TTB2Q07Mb3V",
        "outputId": "b757c8f6-fffb-47be-9a5f-bbdf610e712e"
      },
      "outputs": [
        {
          "name": "stderr",
          "output_type": "stream",
          "text": [
            "Some weights of BertForSequenceClassification were not initialized from the model checkpoint at bert-base-uncased and are newly initialized: ['classifier.bias', 'classifier.weight']\n",
            "You should probably TRAIN this model on a down-stream task to be able to use it for predictions and inference.\n"
          ]
        }
      ],
      "source": [
        "# création d'un modèle de classification de séquences avec l'architecture BERT pré-entraînée\n",
        "model = BertForSequenceClassification.from_pretrained('bert-base-uncased', num_labels=2, num_hidden_layers=12, hidden_size=768, output_attentions=True)"
      ]
    },
    {
      "cell_type": "code",
      "execution_count": null,
      "metadata": {
        "colab": {
          "base_uri": "https://localhost:8080/"
        },
        "id": "LUFtW3YOMq3t",
        "outputId": "445aaeab-b950-43f5-9dd8-ed73c7364aff"
      },
      "outputs": [
        {
          "name": "stderr",
          "output_type": "stream",
          "text": [
            "/usr/local/lib/python3.10/dist-packages/transformers/optimization.py:521: FutureWarning: This implementation of AdamW is deprecated and will be removed in a future version. Use the PyTorch implementation torch.optim.AdamW instead, or set `no_deprecation_warning=True` to disable this warning\n",
            "  warnings.warn(\n"
          ]
        }
      ],
      "source": [
        "# configurations : optimizer, fonction de coût et scheduler\n",
        "optimizer = AdamW([\n",
        "    {'params': model.bert.parameters(), 'lr': 5e-6},\n",
        "    {'params': model.classifier.parameters(), 'lr': 5e-6}\n",
        "], lr=5e-6)\n",
        "criterion = torch.nn.CrossEntropyLoss()\n",
        "scheduler = StepLR(optimizer, step_size=1, gamma=0.1)"
      ]
    },
    {
      "cell_type": "code",
      "execution_count": null,
      "metadata": {
        "id": "58AD_ql8Msrg"
      },
      "outputs": [],
      "source": [
        "# chargement des données en lots\n",
        "batch_size = 64\n",
        "train_loader = DataLoader(train_dataset, batch_size=batch_size, shuffle=True)\n",
        "val_loader = DataLoader(val_dataset, batch_size=batch_size, shuffle=False)"
      ]
    },
    {
      "cell_type": "code",
      "execution_count": null,
      "metadata": {
        "colab": {
          "base_uri": "https://localhost:8080/"
        },
        "id": "PBdOjRxhMsud",
        "outputId": "817f33b2-8f33-4d37-8f3b-c5754acd6ba5"
      },
      "outputs": [
        {
          "data": {
            "text/plain": [
              "BertForSequenceClassification(\n",
              "  (bert): BertModel(\n",
              "    (embeddings): BertEmbeddings(\n",
              "      (word_embeddings): Embedding(30522, 768, padding_idx=0)\n",
              "      (position_embeddings): Embedding(512, 768)\n",
              "      (token_type_embeddings): Embedding(2, 768)\n",
              "      (LayerNorm): LayerNorm((768,), eps=1e-12, elementwise_affine=True)\n",
              "      (dropout): Dropout(p=0.1, inplace=False)\n",
              "    )\n",
              "    (encoder): BertEncoder(\n",
              "      (layer): ModuleList(\n",
              "        (0-11): 12 x BertLayer(\n",
              "          (attention): BertAttention(\n",
              "            (self): BertSelfAttention(\n",
              "              (query): Linear(in_features=768, out_features=768, bias=True)\n",
              "              (key): Linear(in_features=768, out_features=768, bias=True)\n",
              "              (value): Linear(in_features=768, out_features=768, bias=True)\n",
              "              (dropout): Dropout(p=0.1, inplace=False)\n",
              "            )\n",
              "            (output): BertSelfOutput(\n",
              "              (dense): Linear(in_features=768, out_features=768, bias=True)\n",
              "              (LayerNorm): LayerNorm((768,), eps=1e-12, elementwise_affine=True)\n",
              "              (dropout): Dropout(p=0.1, inplace=False)\n",
              "            )\n",
              "          )\n",
              "          (intermediate): BertIntermediate(\n",
              "            (dense): Linear(in_features=768, out_features=3072, bias=True)\n",
              "            (intermediate_act_fn): GELUActivation()\n",
              "          )\n",
              "          (output): BertOutput(\n",
              "            (dense): Linear(in_features=3072, out_features=768, bias=True)\n",
              "            (LayerNorm): LayerNorm((768,), eps=1e-12, elementwise_affine=True)\n",
              "            (dropout): Dropout(p=0.1, inplace=False)\n",
              "          )\n",
              "        )\n",
              "      )\n",
              "    )\n",
              "    (pooler): BertPooler(\n",
              "      (dense): Linear(in_features=768, out_features=768, bias=True)\n",
              "      (activation): Tanh()\n",
              "    )\n",
              "  )\n",
              "  (dropout): Dropout(p=0.1, inplace=False)\n",
              "  (classifier): Linear(in_features=768, out_features=2, bias=True)\n",
              ")"
            ]
          },
          "execution_count": 78,
          "metadata": {},
          "output_type": "execute_result"
        }
      ],
      "source": [
        "# configuration des epochs et du matériel\n",
        "num_epochs = 6\n",
        "device = torch.device(\"cuda\" if torch.cuda.is_available() else \"cpu\")\n",
        "model.to(device)"
      ]
    },
    {
      "cell_type": "markdown",
      "metadata": {},
      "source": [
        "# Entraînement"
      ]
    },
    {
      "cell_type": "code",
      "execution_count": null,
      "metadata": {
        "id": "5HHCK7XaMyTG"
      },
      "outputs": [],
      "source": [
        "train_losses = []\n",
        "val_losses = []\n",
        "val_accuracies = []\n",
        "train_accuracies = []"
      ]
    },
    {
      "cell_type": "code",
      "execution_count": null,
      "metadata": {
        "colab": {
          "base_uri": "https://localhost:8080/"
        },
        "id": "5mlyshXtM0wu",
        "outputId": "88a48423-9ed7-4d8b-e5e5-9c1d7472994c"
      },
      "outputs": [
        {
          "name": "stdout",
          "output_type": "stream",
          "text": [
            "Epoch 1/6, Validation Loss: 15.5311, Validation Accuracy: 0.8782, Training Loss: 96.2003, Training Accuracy: 0.7574\n",
            "Epoch 2/6, Validation Loss: 14.8371, Validation Accuracy: 0.8828, Training Loss: 61.4232, Training Accuracy: 0.8755\n",
            "Epoch 3/6, Validation Loss: 14.7192, Validation Accuracy: 0.8860, Training Loss: 59.2762, Training Accuracy: 0.8832\n",
            "Epoch 4/6, Validation Loss: 14.7038, Validation Accuracy: 0.8860, Training Loss: 58.7822, Training Accuracy: 0.8833\n",
            "Epoch 5/6, Validation Loss: 14.7038, Validation Accuracy: 0.8860, Training Loss: 58.9782, Training Accuracy: 0.8805\n",
            "Epoch 6/6, Validation Loss: 14.7038, Validation Accuracy: 0.8860, Training Loss: 58.8029, Training Accuracy: 0.8830\n"
          ]
        }
      ],
      "source": [
        "# boucle d'entraînement\n",
        "for epoch in range(num_epochs):\n",
        "    model.train()\n",
        "    train_loss = 0.0\n",
        "    tr_correct_preds = 0\n",
        "    for batch in train_loader:\n",
        "        input_ids, attention_mask, labels = batch\n",
        "        input_ids, attention_mask, labels = input_ids.to(device), attention_mask.to(device), labels.to(device)\n",
        "\n",
        "        optimizer.zero_grad()\n",
        "        outputs = model(input_ids, attention_mask=attention_mask, labels=labels)\n",
        "        tr_loss = outputs.loss\n",
        "        train_loss += tr_loss.item()\n",
        "        tr_loss.backward()\n",
        "\n",
        "        tr_logits = outputs.logits\n",
        "        tr_preds = torch.argmax(tr_logits, dim=1)\n",
        "        tr_correct_preds += torch.sum(tr_preds == labels).item()\n",
        "\n",
        "        clip_grad_norm_(model.parameters(), max_norm=1.0)\n",
        "\n",
        "        optimizer.step()\n",
        "\n",
        "    scheduler.step()\n",
        "\n",
        "    # calcul de la perte moyenne d'entraînement pour chaque epoch\n",
        "    avg_train_loss = train_loss / len(train_loader)\n",
        "    train_losses.append(avg_train_loss)\n",
        "\n",
        "    train_accuracy = tr_correct_preds / len(X_train)\n",
        "    train_accuracies.append(train_accuracy)\n",
        "\n",
        "    model.eval()\n",
        "    val_loss = 0.0\n",
        "    correct_preds = 0\n",
        "\n",
        "    with torch.no_grad():\n",
        "        for batch in val_loader:\n",
        "            input_ids, attention_mask, labels = batch\n",
        "            input_ids, attention_mask, labels = input_ids.to(device), attention_mask.to(device), labels.to(device)\n",
        "\n",
        "            outputs = model(input_ids, attention_mask=attention_mask, labels=labels)\n",
        "            loss = outputs.loss\n",
        "            val_loss += loss.item()\n",
        "\n",
        "            logits = outputs.logits\n",
        "            preds = torch.argmax(logits, dim=1)\n",
        "            correct_preds += torch.sum(preds == labels).item()\n",
        "\n",
        "    # calcul de la perte moyenne de validation pour chaque epoch\n",
        "    avg_val_loss = val_loss / len(val_loader)\n",
        "    val_losses.append(avg_val_loss)\n",
        "\n",
        "    val_accuracy = correct_preds / len(X_val)\n",
        "    val_accuracies.append(val_accuracy)\n",
        "    print(f\"Epoch {epoch + 1}/{num_epochs}, Validation Loss: {val_loss:.4f}, Validation Accuracy: {val_accuracy:.4f}, Training Loss: {train_loss:.4f}, Training Accuracy: {train_accuracy:.4f}\")"
      ]
    },
    {
      "cell_type": "markdown",
      "metadata": {},
      "source": [
        "# Evaluation"
      ]
    },
    {
      "cell_type": "code",
      "execution_count": null,
      "metadata": {
        "colab": {
          "base_uri": "https://localhost:8080/",
          "height": 564
        },
        "id": "insTB7GqnuVK",
        "outputId": "b0ad93eb-fc68-4d93-98e3-838da6ef6b0f"
      },
      "outputs": [
        {
          "data": {
            "image/png": "[encoded data removed]",
            "text/plain": [
              "<Figure size 1100x600 with 2 Axes>"
            ]
          },
          "metadata": {},
          "output_type": "display_data"
        }
      ],
      "source": [
        "plt.figure(figsize=(11,6))\n",
        "\n",
        "plt.subplot(1,2,1)\n",
        "plt.plot(train_losses, label='Training Loss')\n",
        "plt.plot(val_losses, label='Validation Loss')\n",
        "plt.title('Training and Validation Loss')\n",
        "plt.xlabel('Epoch')\n",
        "plt.ylabel('Loss')\n",
        "plt.legend()\n",
        "\n",
        "plt.subplot(1,2,2)\n",
        "plt.plot(train_accuracies, label='Training Accuracy')\n",
        "plt.plot(val_accuracies, label='Validation Accuracy')\n",
        "plt.title('Training and Validation Accuracy')\n",
        "plt.xlabel('Epoch')\n",
        "plt.ylabel('Accuracy')\n",
        "plt.legend()\n",
        "plt.show();"
      ]
    },
    {
      "cell_type": "markdown",
      "metadata": {},
      "source": [
        "# Sauvegarde du modèle"
      ]
    },
    {
      "cell_type": "code",
      "execution_count": null,
      "metadata": {
        "colab": {
          "base_uri": "https://localhost:8080/"
        },
        "id": "IR81_SS_Q5F_",
        "outputId": "949afcf5-207a-40ce-e0be-aac0b6afa029"
      },
      "outputs": [
        {
          "data": {
            "text/plain": [
              "['model_bert.joblib']"
            ]
          },
          "execution_count": 82,
          "metadata": {},
          "output_type": "execute_result"
        }
      ],
      "source": [
        "joblib.dump(model, 'model_bert.joblib')"
      ]
    },
    {
      "cell_type": "code",
      "execution_count": null,
      "metadata": {
        "id": "thgUeMAYtQxU"
      },
      "outputs": [],
      "source": [
        "loaded_model = joblib.load('model_bert.joblib')"
      ]
    },
    {
      "cell_type": "markdown",
      "metadata": {
        "id": "LPAkNX-HQ6NW"
      },
      "source": [
        "# Test sur les données inédites"
      ]
    },
    {
      "cell_type": "code",
      "execution_count": null,
      "metadata": {
        "id": "QGJwD4xtQ9Jm"
      },
      "outputs": [],
      "source": [
        "# récupération des df scrapés\n",
        "df_new_real = pd.read_csv('/content/drive/Shareddrives/Projet IA M2 Fake News/Last fichiers/data_new_real_time.csv', usecols=['articles'])\n",
        "df_new_fake = pd.read_csv('/content/drive/Shareddrives/Projet IA M2 Fake News/Last fichiers/data_new_fake_theonion.csv', usecols=['articles'])"
      ]
    },
    {
      "cell_type": "code",
      "execution_count": null,
      "metadata": {
        "id": "rUTzYd2bQ__m"
      },
      "outputs": [],
      "source": [
        "# ajout d'une colonne de labels\n",
        "df_new_fake['label'] = 0\n",
        "df_new_real['label'] = 1"
      ]
    },
    {
      "cell_type": "code",
      "execution_count": null,
      "metadata": {
        "colab": {
          "base_uri": "https://localhost:8080/",
          "height": 424
        },
        "id": "ApdZ-7xuTjkK",
        "outputId": "5a654595-5bc4-4851-ef67-13634dcdf165"
      },
      "outputs": [
        {
          "data": {
            "application/vnd.google.colaboratory.intrinsic+json": {
              "summary": "{\n  \"name\": \"df_new\",\n  \"rows\": 3691,\n  \"fields\": [\n    {\n      \"column\": \"articles\",\n      \"properties\": {\n        \"dtype\": \"string\",\n        \"num_unique_values\": 3677,\n        \"samples\": [\n          \"For nearly an hour, Republican presidential candidates at the first debate on Wednesday night largely managed to avoid talking about former President Donald Trump. But halfway through the debate, moderator Bret Baier said they had to address the \\u201celephant not in the room\\u201d head-on. He asked the eight candidates on stage to raise their hands if they would support Trump as the nominee even if he\\u2019s convicted of charges in any of his four criminal cases. Only Chris Christie and Asa Hutchinson, the former governors of New Jersey and Arkansas, did not raise their hands, even though all candidates had to signa loyalty pledgeagreeing to support the party\\u2019s eventual nominee, whoever it might be, in order to participate in the debate. The discussion of Trump\\u2019s legal troubles and his influence within the Republican party marked one of the more dramatic moments of the night, eliciting audible reactions from the crowd and a fodder of intense on-stage exchanges. Trump, who skipped the debate, faces acascade of legal troublesafter becoming the first U.S. President to be indicted in the nation\\u2019s 234-year history. He has now been charged in four separate criminal cases related to his business and political activities, bringing his total criminal charges to date to 91. \\u201cSomeone has got to stop normalizing this conduct,\\u201d Christie said of Trump. \\u201cThe conduct is beneath the office of president of the United States.\\u201d His response sparked an argument with Biotech entrepreneurVivek Ramaswamy, who defended Trump and called him \\\"the best president of the 21st century.\\u201d Christie replied: \\u201cI\\u2019m not going to bow to anyone when we have a president of the United States who disrespects the Constitution. I will always stand up for the Constitution regardless of the political pressure.\\u201d Some in the crowd booed. Ramaswamy jumped in again: \\u201cHonest to God, your claim that Donald Trump is motivated by vengeance and grievance would be a lot more credible if your entire campaign wasn\\u2019t motivated by vengeance and grievance against one man.\\u201d The heated exchange between the two candidates underscores how the criminal cases against Trump are expected to be at the forefront of the 2024 campaign. A recentNew YorkTimes/Siena College pollfound that 71% of GOP primary voters think Republicans should stand behind Trump amid the investigations and indictments he\\u2019s facing. The cases are expected to play outover the coming months, setting up a long string of legal battles that will overlap with next year\\u2019s presidential primaries. In New York, Trumpfaces 34 felony countsover allegations that he falsified business records to conceal hush-money payments to a porn star. He\\u2019s also facing40 felony counts in Floridafor allegedly hoarding classified documents and obstructing the government\\u2019s efforts to retrieve them, andfour counts in Washingtonrelated to his alleged efforts to overturn the 2020 election. Most recently, the district attorney in Fulton County, Ga. charged Trump with13 felony countsin connection to his alleged attempts to overturn the 2020 election result in that state. Trump has cast the four separate indictments against him as apartisan witch-huntto stop him from reclaiming the White House. In both the federal and Georgia cases that allege he knowingly spread lies of election fraud to stay in power, Trump\\u2019s attorneys have argued that he was acting within his First Amendment rights to challenge the election outcome. They also insist that Trump believed his own claims and was therefore not operating with criminal intent. Trump\\u2019s rivals have so far been wary of directly attacking the former President, who remains the undisputed frontrunner in the crowded field. The latestFiveThirtyEight average of national pollsshows Trump enjoys the support of just over half of Republican voters, followed by Florida Gov. Ron DeSantis in second at around 15%. But on the debate stage Wednesday night, some candidates decided to use the moment to blitz the absent frontrunner. \\u201cWe have to face the fact that Trump is the most disliked politician in America,\\u201d said Nikki Haley, a former U.N. ambassador in the Trump administration. \\u201cWe can\\u2019t win a general election that way.\\u201d The candidates were also asked whether former Vice President Mike Pence did the right thing on Jan. 6, 2021 by refusing Trump\\u2019s request to unilaterally reject the results of the 2020 presidential election\\u2014conduct at issue in Trump\\u2019s latest indictment. Pence has always maintained that he had no legal power as Vice President to reject the Electoral College votes in Congress. All of the candidates on the debate stage with him agreed. \\u201cAbsolutely,\\u201d said South Carolina Sen. Tim Scott, who was the first candidate to answer the question. DeSantis initially sidestepped the question, saying \\u201cIt\\u2019s not about Jan. 6, 2021, it\\u2019s about Jan. 20, 2025.\\u201d He later clarified and said \\u201cMike did his duty. I got no beef with him.\\u201d \\u201cI\\u2019m relieved,\\u201d Pence quipped.\",\n          \"The Department of Justice (DOJ) sued Apple on Thursday, accusing the tech giant of maintaining a monopoly over the smartphone market. The complaint, which was filed with 16 state and district attorneys general, argues thatAppleengages in anticompetitive behavior by restricting how third-party products can interact with its products, including apps, non-Apple smartwatches, and more. \\u201cFor years, Apple responded to competitive threats by imposing a series of \\u2018Whac-A-Mole\\u2019 contractual rules and restrictions that have allowed Apple to extract higher prices from consumers, impose higher fees on developers and creators, and to throttle competitive alternatives from rival technologies,\\u201d said Assistant Attorney General Jonathan Kanter of the Justice Department\\u2019s Antitrust Division. Attorney General Merrick Garlandclaimedin a press conference that Apple\\u2019s dominance comes \\\"not by making its own products better\\u2014but by making other products worse.\\\" Apple argues the latest lawsuit would lead to government overreach that would restrict the company\\u2019s ability to freelydesign its technology. \\u201cThis lawsuit threatens who we are and the principles that set Apple products apart in fiercely competitive markets,\\u201d said Apple in a statement. \\u201cIf successful, it would hinder our ability to create the kind of technology people expect from Apple\\u2014where hardware, software, and services intersect.\\u201d Apple\\u2019s shares fell more than 4% during trading on Thursday as of 2 p.m. ET. Here\\u2019s what to know about the lawsuit. The antitrust lawsuit alleges that Apple has violated Section 2 of the Sherman Act, which says that anyone who monopolizes, or tries to monopolize a part of the trade or commerce industry will be guilty of a felony. The Justice Department alleges that Apple has monopoly power over the smartphone market because it favors Apple products\\u2014think: Apple Watch or Apple Wallet\\u2014over those of third-parties. \\u201cThis is about opening the smartphone market and making sure that the emerging technologies of the future, the innovation, the creativity that American consumers want is ultimately available because of cases about the future,\\u201d a DOJ official said during a Thursday press call. The complaint claims Apple has suppressed mobile cloud streaming services, blocked apps that would make it easier for users to switch between smartphone platforms, and made cross-platform messaging worse. For instance, an app called Beeper Mini that allowed Android users to use iMessage and send texts with blue bubbles, wasshut down by Applein December 2023. Apple\\u2019s conduct, the Department alleges, affects web browsers, news subscriptions,\\u00a0 location services, and more. Apple argues that the lawsuit would set a \\u201cdangerous precedent\\u201d and would allow the government to \\u201ctake a heavy hand in designing people\\u2019s technology.\\u201d \\u201cWe believe this lawsuit is wrong on the facts and the law, and we will vigorously defend against it,\\u201d the company added. It is not clear what relief the DOJ is seeking under this suit or how the outcome could affect consumers. If the court rules in the DOJ\\u2019s favor, it's possible Apple could be forced to break up. A DOJ official said the consequences would have to be determined after a trial. \\u201cEquitable relief is on the table for Sherman Act Section Two violations and the range of possible remedies are supposed to not only redress violations but prevent their recurrence and fully restore competition that's been lacking in the market,\\u201d the official said. Thursday's lawsuit is the third filed against the company by the DOJ since 2010. The department reached asettlementwith Apple and five other tech companies in 2010 after they faced allegations of colluding to suppress workers\\u2019 salaries. In 2016, the company was forced to pay $450 million to settle allegations that it conspired with publishers to increase e-book prices. In 2020, Epic Games, the maker of the popular video game Fortnite, sued Apple, arguing that requiring customers to get apps through the app store and pay for digital content inside an app using Apple\\u2019s system was a monopolistic practice. A judge in 2021 required Apple to let developers give consumers other payment options, but didn't find that the company had an illegal monopoly in the issue at hand. Across the pond, the European Union confirmed that it is investigating Apple\\u2019s decision to shut down Epic Games\\u2019 developer accounts,according to TechCrunch. Apple is the last major tech giant to face a major federal antitrust case, as regulators continue to apply greater scrutiny to Big Tech practices with complaints filed against Google andMeta. Apple has long defended its practices.In response to an E.U. antitrust complaint from Spotify in 2019, Apple said that its aim has always been to \\u201cgrow the pie\\u201d and \\u201ccreate more opportunities not just for our business, but for artists, creators, entrepreneurs and every \\u2018crazy one\\u2019 with a big idea.\\u201d After a 2020 House Judiciary antitrust subcommittee report on Big Tech claimed that Apple has \\u201cmonopoly power\\u201d over software distribution on iPhones, the company pushed back: \\u201cWe have always said that scrutiny is reasonable and appropriate but we vehemently disagree with the conclusions reached in this staff report with respect to Apple,\\u201d Apple said in astatementat the time. \\u201cOur company does not have a dominant market share in any category where we do business.\\u201d\",\n          \"After a summer of speculation, the contours of the deal needed to pass President Joe Biden\\u2019spopular\\u201cBuild Back Better\\u201d agenda are becoming clear. To winkey votes, Congress will have to find fresh sources of revenue to match new spending. Fortunately, there is an economically sound, overwhelmingly popular path that the President is endorsing: requiring ultra-wealthy families like ours to pay more in taxes. Doing so would mean reforming a tax code that allows the wealthiest to build and maintain fortunes without paying their share in taxes. Ultra-wealthy families further reduce their tax burdens to a pittance by deferring sale of their appreciated assets, borrowing against those assets and structuring their charitable giving. From 2014 to 2018, America\\u2019s 25 wealthiest people amassed a combined $401 billion, but in some years paid zero federal income tax, according toProPublica. The Biden Administration calculates that America\\u2019s richest 400 families pay an average annual income tax rate of just8.2%. Billionaires generate headlines, but a larger number of American families worth hundreds of millions\\u2014including ours\\u2014enjoy similar benefits. In 2018, a family in the most common income bracket (adjusted gross incomeof $50,000 to $75,000) paid average federal income taxes of$4,866. If their tax burden (relative to wealth) had been the same as our own, they would have paid less than $400. Unless Congress acts, those who can afford to pay the most will continue to pay nothing, or relatively little, shortchanging urgent priorities. Unlike some, we do not view the existence of billionaires as a policy failure. But as investors, we see the tiny effective tax rates paid by the ultra-wealthy undermining innovation, competitive capitalism and ultimately U.S. democracy. A status quo in which people who work for paychecks pay more in taxes, proportionately, than the wealthiest Americans is driving cynicism and kneecapping our national ambition. Recent developments suggest this status quo could soon change. Last week, Bidenlent his supportto a billionaire\\u2019s income tax\\u2014a new tax on currently untaxed investment income for anyone whose wealth tops $1 billion. He did so as Senate and House leadership announced aframeworkto fully pay for the $3.5 trillion reconciliation package, which contains much of the Build Back Better agenda. While income from wages is taxed immediately, many kinds of investment income are not taxed until assets are sold\\u2014if ever. Unlike most Americans, billionaires do not need wages or salaries. Instead, many use investment income to help fund their lifestyles by borrowing against appreciated assets at extremely low rates without paying much in income taxes. Taxing billionaires\\u2019 untaxed investment income would raise hundreds of billions for public investments such as high-speed internet, quality child care and clean drinking water. Sen. Ron Wyden (D-Ore.), who chairs the Senate Finance Committee, haschampionedthis proposal. Various House members have supported aone-time version of the tax. Read more:The Pandemic Made the Top 1% Richer. Why We Need a Wealth Tax In addition to a billionaire\\u2019s income tax, Congress should include a small annual tax of 2% on fortunes above $50 million to ensure that families like ours also pull their weight. That measure, which Senators including Elizabeth Warren (D-Mass.)have advocated for, would raise hundreds of billions annually to sustain economic growth. Wealthy countries including Switzerland and Norway have implemented versions of a wealth tax successfully, and it would be relatively cheap to administer across the roughly 100,000 U.S. households who would pay it. Lawmakers should include both of these revenue provisions in the final reconciliation bill. They are smart policyandsmart politics. Among Democrats, Republicans, and independents, few issuesattract more supportthan raising taxes on the ultra-wealthy. Anoverwhelming majority(71%) of Americans supports an annual wealth tax on fortunes above $50 million, including 57% of Republicans. More than60%of people with more than $1 million in investable assets support a wealth tax.Many billionaireseven support it. In 1999, acertain former presidentcurrently residing in Florida proposed to tax himself with a wealth tax. Including taxes on billionaires and ultra-millionaires dramatically increases supportfor infrastructureand other Build Back Better investments. Bidentweeted, amid the ongoing negotiations, that he was \\u201csick and tired of the super-wealthy and giant corporations not paying their fair share in taxes.\\u201d It appears that voters, including those in crucial states, agree. In West Virginia, funding the $3.5 trillion reconciliation bill with a billionaire\\u2019s income taxincreases supportfrom even (48% in favor, 47% oppose) to 2-1 in favor (65% in favor, 29% opposed)\\u2014a bipartisan supermajority. In Arizona, likely voterssupportthe reconciliation bill when funded by a billionaire income tax by a 39-point margin (67% in favor, 28% opposed). These states are home to Sens. Joe Manchin and Kyrsten Sinema, respectively, whose votes will be needed to pass any final agreement. It\\u2019s popular, powerful politics for a simple reason: higher taxes on the ultra-wealthy can pay for urgent, shared needs without overburdening anyone. Less than 1,000 Americans would pay a billionaire\\u2019s income tax. Only one-twentieth of the richest 1% would pay the annual tax on fortunes over $50 million. Taxes like these on billionaires and ultra-millionaires wouldn\\u2019t damage their quality of life\\u2014it certainly wouldn\\u2019t hurt ours\\u2014and no one who wasn\\u2019t already an ultra-millionaire would pay a cent under either policy. Taxing America\\u2019s wealthiest citizens is productive and patriotic, not punitive. Improved roads and railways, safer neighborhoods and high-quality schools in every zip code boost economic freedom and allow working people to build wealth of their own. Foundations bearing the names of billionaire families frequently advocate for government action on productive investments likehealth care,educationandclimate change. Taxing a fraction of the fortunes of billionaire families would pay for scaling the most effective solutions in a way that philanthropy cannot. For those worried about a backlash, trust us: There may be some whining and bluffing, but a wealth tax won\\u2019t hinder the drive of the wealthiest to invest in entrepreneurs. Ultra-wealthy people won\\u2019t renounce their citizenship en masse. Our family\\u2019s relative tax burden will still be light; billionaires\\u2019 will be manageable, to say the least. Not everyone agrees. In response to ProPublica\\u2019s report, billionaire Carl Icahn asked incredulously, \\u201cDo you think a rich person should pay taxes no matter what?\\u201d For Americans who prefer economic freedom to free-riding, the answer should be a resounding \\u201cYes!\\u201d All of our wealth, in one way or another, is built on investments our country has already made. Additional investments will empower more Americans to compete in the global economy, strengthen America\\u2019s ability to compete with China, and give the wealthiest investors more reason to create jobs at home. We can pay for solutions to short- and long-term challenges without asking wage earners, small-business owners or future generations to pick up the tab. Voters across the political spectrumviewa system that asks Americans with massive fortunes to contribute so little to America\\u2019s future as fundamentally broken. They are right. Our estate attorneys might not thank us for pointing that out\\u2014but our grandchildren will.\"\n        ],\n        \"semantic_type\": \"\",\n        \"description\": \"\"\n      }\n    },\n    {\n      \"column\": \"label\",\n      \"properties\": {\n        \"dtype\": \"number\",\n        \"std\": 0,\n        \"min\": 0,\n        \"max\": 1,\n        \"num_unique_values\": 2,\n        \"samples\": [\n          1,\n          0\n        ],\n        \"semantic_type\": \"\",\n        \"description\": \"\"\n      }\n    }\n  ]\n}",
              "type": "dataframe",
              "variable_name": "df_new"
            },
            "text/html": [
              "\n",
              "  <div id=\"df-7efb651b-5bd7-47e5-a4c7-55bb23ff25b3\" class=\"colab-df-container\">\n",
              "    <div>\n",
              "<style scoped>\n",
              "    .dataframe tbody tr th:only-of-type {\n",
              "        vertical-align: middle;\n",
              "    }\n",
              "\n",
              "    .dataframe tbody tr th {\n",
              "        vertical-align: top;\n",
              "    }\n",
              "\n",
              "    .dataframe thead th {\n",
              "        text-align: right;\n",
              "    }\n",
              "</style>\n",
              "<table border=\"1\" class=\"dataframe\">\n",
              "  <thead>\n",
              "    <tr style=\"text-align: right;\">\n",
              "      <th></th>\n",
              "      <th>articles</th>\n",
              "      <th>label</th>\n",
              "    </tr>\n",
              "  </thead>\n",
              "  <tbody>\n",
              "    <tr>\n",
              "      <th>0</th>\n",
              "      <td>DAYTON, OH—While greeting the crowd at a campa...</td>\n",
              "      <td>0</td>\n",
              "    </tr>\n",
              "    <tr>\n",
              "      <th>1</th>\n",
              "      <td>Presidential candidate Donald Trump recently r...</td>\n",
              "      <td>0</td>\n",
              "    </tr>\n",
              "    <tr>\n",
              "      <th>2</th>\n",
              "      <td>And the RNC is going to pay for it. It probabl...</td>\n",
              "      <td>0</td>\n",
              "    </tr>\n",
              "    <tr>\n",
              "      <th>3</th>\n",
              "      <td>VANDALIA, OH—Drawing criticism for what many c...</td>\n",
              "      <td>0</td>\n",
              "    </tr>\n",
              "    <tr>\n",
              "      <th>4</th>\n",
              "      <td>WASHINGTON—Her mind spinning as she poured ove...</td>\n",
              "      <td>0</td>\n",
              "    </tr>\n",
              "    <tr>\n",
              "      <th>...</th>\n",
              "      <td>...</td>\n",
              "      <td>...</td>\n",
              "    </tr>\n",
              "    <tr>\n",
              "      <th>3686</th>\n",
              "      <td>A Florida legislator has proposed banning most...</td>\n",
              "      <td>1</td>\n",
              "    </tr>\n",
              "    <tr>\n",
              "      <th>3687</th>\n",
              "      <td>When President Joe Biden stood in front of the...</td>\n",
              "      <td>1</td>\n",
              "    </tr>\n",
              "    <tr>\n",
              "      <th>3688</th>\n",
              "      <td>This article is part of the The DC Brief, TIME...</td>\n",
              "      <td>1</td>\n",
              "    </tr>\n",
              "    <tr>\n",
              "      <th>3689</th>\n",
              "      <td>President Joe Biden’s remarks to the United Na...</td>\n",
              "      <td>1</td>\n",
              "    </tr>\n",
              "    <tr>\n",
              "      <th>3690</th>\n",
              "      <td>Texas’controversial six-week abortion banhas b...</td>\n",
              "      <td>1</td>\n",
              "    </tr>\n",
              "  </tbody>\n",
              "</table>\n",
              "<p>3691 rows × 2 columns</p>\n",
              "</div>\n",
              "    <div class=\"colab-df-buttons\">\n",
              "\n",
              "  <div class=\"colab-df-container\">\n",
              "    <button class=\"colab-df-convert\" onclick=\"convertToInteractive('df-7efb651b-5bd7-47e5-a4c7-55bb23ff25b3')\"\n",
              "            title=\"Convert this dataframe to an interactive table.\"\n",
              "            style=\"display:none;\">\n",
              "\n",
              "  <svg xmlns=\"http://www.w3.org/2000/svg\" height=\"24px\" viewBox=\"0 -960 960 960\">\n",
              "    <path d=\"M120-120v-720h720v720H120Zm60-500h600v-160H180v160Zm220 220h160v-160H400v160Zm0 220h160v-160H400v160ZM180-400h160v-160H180v160Zm440 0h160v-160H620v160ZM180-180h160v-160H180v160Zm440 0h160v-160H620v160Z\"/>\n",
              "  </svg>\n",
              "    </button>\n",
              "\n",
              "  <style>\n",
              "    .colab-df-container {\n",
              "      display:flex;\n",
              "      gap: 12px;\n",
              "    }\n",
              "\n",
              "    .colab-df-convert {\n",
              "      background-color: #E8F0FE;\n",
              "      border: none;\n",
              "      border-radius: 50%;\n",
              "      cursor: pointer;\n",
              "      display: none;\n",
              "      fill: #1967D2;\n",
              "      height: 32px;\n",
              "      padding: 0 0 0 0;\n",
              "      width: 32px;\n",
              "    }\n",
              "\n",
              "    .colab-df-convert:hover {\n",
              "      background-color: #E2EBFA;\n",
              "      box-shadow: 0px 1px 2px rgba(60, 64, 67, 0.3), 0px 1px 3px 1px rgba(60, 64, 67, 0.15);\n",
              "      fill: #174EA6;\n",
              "    }\n",
              "\n",
              "    .colab-df-buttons div {\n",
              "      margin-bottom: 4px;\n",
              "    }\n",
              "\n",
              "    [theme=dark] .colab-df-convert {\n",
              "      background-color: #3B4455;\n",
              "      fill: #D2E3FC;\n",
              "    }\n",
              "\n",
              "    [theme=dark] .colab-df-convert:hover {\n",
              "      background-color: #434B5C;\n",
              "      box-shadow: 0px 1px 3px 1px rgba(0, 0, 0, 0.15);\n",
              "      filter: drop-shadow(0px 1px 2px rgba(0, 0, 0, 0.3));\n",
              "      fill: #FFFFFF;\n",
              "    }\n",
              "  </style>\n",
              "\n",
              "    <script>\n",
              "      const buttonEl =\n",
              "        document.querySelector('#df-7efb651b-5bd7-47e5-a4c7-55bb23ff25b3 button.colab-df-convert');\n",
              "      buttonEl.style.display =\n",
              "        google.colab.kernel.accessAllowed ? 'block' : 'none';\n",
              "\n",
              "      async function convertToInteractive(key) {\n",
              "        const element = document.querySelector('#df-7efb651b-5bd7-47e5-a4c7-55bb23ff25b3');\n",
              "        const dataTable =\n",
              "          await google.colab.kernel.invokeFunction('convertToInteractive',\n",
              "                                                    [key], {});\n",
              "        if (!dataTable) return;\n",
              "\n",
              "        const docLinkHtml = 'Like what you see? Visit the ' +\n",
              "          '<a target=\"_blank\" href=https://colab.research.google.com/notebooks/data_table.ipynb>data table notebook</a>'\n",
              "          + ' to learn more about interactive tables.';\n",
              "        element.innerHTML = '';\n",
              "        dataTable['output_type'] = 'display_data';\n",
              "        await google.colab.output.renderOutput(dataTable, element);\n",
              "        const docLink = document.createElement('div');\n",
              "        docLink.innerHTML = docLinkHtml;\n",
              "        element.appendChild(docLink);\n",
              "      }\n",
              "    </script>\n",
              "  </div>\n",
              "\n",
              "\n",
              "<div id=\"df-9c1cfe60-cd2a-416a-81cf-e5a4718b1224\">\n",
              "  <button class=\"colab-df-quickchart\" onclick=\"quickchart('df-9c1cfe60-cd2a-416a-81cf-e5a4718b1224')\"\n",
              "            title=\"Suggest charts\"\n",
              "            style=\"display:none;\">\n",
              "\n",
              "<svg xmlns=\"http://www.w3.org/2000/svg\" height=\"24px\"viewBox=\"0 0 24 24\"\n",
              "     width=\"24px\">\n",
              "    <g>\n",
              "        <path d=\"M19 3H5c-1.1 0-2 .9-2 2v14c0 1.1.9 2 2 2h14c1.1 0 2-.9 2-2V5c0-1.1-.9-2-2-2zM9 17H7v-7h2v7zm4 0h-2V7h2v10zm4 0h-2v-4h2v4z\"/>\n",
              "    </g>\n",
              "</svg>\n",
              "  </button>\n",
              "\n",
              "<style>\n",
              "  .colab-df-quickchart {\n",
              "      --bg-color: #E8F0FE;\n",
              "      --fill-color: #1967D2;\n",
              "      --hover-bg-color: #E2EBFA;\n",
              "      --hover-fill-color: #174EA6;\n",
              "      --disabled-fill-color: #AAA;\n",
              "      --disabled-bg-color: #DDD;\n",
              "  }\n",
              "\n",
              "  [theme=dark] .colab-df-quickchart {\n",
              "      --bg-color: #3B4455;\n",
              "      --fill-color: #D2E3FC;\n",
              "      --hover-bg-color: #434B5C;\n",
              "      --hover-fill-color: #FFFFFF;\n",
              "      --disabled-bg-color: #3B4455;\n",
              "      --disabled-fill-color: #666;\n",
              "  }\n",
              "\n",
              "  .colab-df-quickchart {\n",
              "    background-color: var(--bg-color);\n",
              "    border: none;\n",
              "    border-radius: 50%;\n",
              "    cursor: pointer;\n",
              "    display: none;\n",
              "    fill: var(--fill-color);\n",
              "    height: 32px;\n",
              "    padding: 0;\n",
              "    width: 32px;\n",
              "  }\n",
              "\n",
              "  .colab-df-quickchart:hover {\n",
              "    background-color: var(--hover-bg-color);\n",
              "    box-shadow: 0 1px 2px rgba(60, 64, 67, 0.3), 0 1px 3px 1px rgba(60, 64, 67, 0.15);\n",
              "    fill: var(--button-hover-fill-color);\n",
              "  }\n",
              "\n",
              "  .colab-df-quickchart-complete:disabled,\n",
              "  .colab-df-quickchart-complete:disabled:hover {\n",
              "    background-color: var(--disabled-bg-color);\n",
              "    fill: var(--disabled-fill-color);\n",
              "    box-shadow: none;\n",
              "  }\n",
              "\n",
              "  .colab-df-spinner {\n",
              "    border: 2px solid var(--fill-color);\n",
              "    border-color: transparent;\n",
              "    border-bottom-color: var(--fill-color);\n",
              "    animation:\n",
              "      spin 1s steps(1) infinite;\n",
              "  }\n",
              "\n",
              "  @keyframes spin {\n",
              "    0% {\n",
              "      border-color: transparent;\n",
              "      border-bottom-color: var(--fill-color);\n",
              "      border-left-color: var(--fill-color);\n",
              "    }\n",
              "    20% {\n",
              "      border-color: transparent;\n",
              "      border-left-color: var(--fill-color);\n",
              "      border-top-color: var(--fill-color);\n",
              "    }\n",
              "    30% {\n",
              "      border-color: transparent;\n",
              "      border-left-color: var(--fill-color);\n",
              "      border-top-color: var(--fill-color);\n",
              "      border-right-color: var(--fill-color);\n",
              "    }\n",
              "    40% {\n",
              "      border-color: transparent;\n",
              "      border-right-color: var(--fill-color);\n",
              "      border-top-color: var(--fill-color);\n",
              "    }\n",
              "    60% {\n",
              "      border-color: transparent;\n",
              "      border-right-color: var(--fill-color);\n",
              "    }\n",
              "    80% {\n",
              "      border-color: transparent;\n",
              "      border-right-color: var(--fill-color);\n",
              "      border-bottom-color: var(--fill-color);\n",
              "    }\n",
              "    90% {\n",
              "      border-color: transparent;\n",
              "      border-bottom-color: var(--fill-color);\n",
              "    }\n",
              "  }\n",
              "</style>\n",
              "\n",
              "  <script>\n",
              "    async function quickchart(key) {\n",
              "      const quickchartButtonEl =\n",
              "        document.querySelector('#' + key + ' button');\n",
              "      quickchartButtonEl.disabled = true;  // To prevent multiple clicks.\n",
              "      quickchartButtonEl.classList.add('colab-df-spinner');\n",
              "      try {\n",
              "        const charts = await google.colab.kernel.invokeFunction(\n",
              "            'suggestCharts', [key], {});\n",
              "      } catch (error) {\n",
              "        console.error('Error during call to suggestCharts:', error);\n",
              "      }\n",
              "      quickchartButtonEl.classList.remove('colab-df-spinner');\n",
              "      quickchartButtonEl.classList.add('colab-df-quickchart-complete');\n",
              "    }\n",
              "    (() => {\n",
              "      let quickchartButtonEl =\n",
              "        document.querySelector('#df-9c1cfe60-cd2a-416a-81cf-e5a4718b1224 button');\n",
              "      quickchartButtonEl.style.display =\n",
              "        google.colab.kernel.accessAllowed ? 'block' : 'none';\n",
              "    })();\n",
              "  </script>\n",
              "</div>\n",
              "    </div>\n",
              "  </div>\n"
            ],
            "text/plain": [
              "                                               articles  label\n",
              "0     DAYTON, OH—While greeting the crowd at a campa...      0\n",
              "1     Presidential candidate Donald Trump recently r...      0\n",
              "2     And the RNC is going to pay for it. It probabl...      0\n",
              "3     VANDALIA, OH—Drawing criticism for what many c...      0\n",
              "4     WASHINGTON—Her mind spinning as she poured ove...      0\n",
              "...                                                 ...    ...\n",
              "3686  A Florida legislator has proposed banning most...      1\n",
              "3687  When President Joe Biden stood in front of the...      1\n",
              "3688  This article is part of the The DC Brief, TIME...      1\n",
              "3689  President Joe Biden’s remarks to the United Na...      1\n",
              "3690  Texas’controversial six-week abortion banhas b...      1\n",
              "\n",
              "[3691 rows x 2 columns]"
            ]
          },
          "execution_count": 86,
          "metadata": {},
          "output_type": "execute_result"
        }
      ],
      "source": [
        "# concaténation\n",
        "df_new = pd.concat([df_new_fake, df_new_real], ignore_index=True)\n",
        "df_new"
      ]
    },
    {
      "cell_type": "code",
      "execution_count": null,
      "metadata": {
        "id": "IZ0BWzKgTmSX"
      },
      "outputs": [],
      "source": [
        "# rappel de la fonction pré-traitement linguistique\n",
        "common_abbreviations = [\"mr\", \"mrs\", \"ms\", \"dr\", \"etc\"]\n",
        "\n",
        "def preprocess_text(text):\n",
        "    tokenizer = RegexpTokenizer(r'\\w+')\n",
        "    tokens = tokenizer.tokenize(text)\n",
        "    tokens = [token.lower() for token in tokens]\n",
        "    tokens = [token for token in tokens if token not in string.punctuation]\n",
        "    stop_words = stopwords.words('english')\n",
        "    tokens = [token for token in tokens if token not in stop_words]\n",
        "    tokens = [w.strip() for w in tokens if w not in stop_words and len(w) > 1]\n",
        "    tokens = [word for word in tokens if not word.isdigit()]\n",
        "    stemmer = SnowballStemmer('english')\n",
        "    tokens = [stemmer.stem(token) for token in tokens]\n",
        "    tokens = [token for token in tokens if token.lower() not in common_abbreviations]\n",
        "    tokens = [re.sub(r'\\b[A-Za-z]\\.', '', token) for token in tokens]\n",
        "    preprocessed_text = ' '.join(tokens)\n",
        "    return preprocessed_text"
      ]
    },
    {
      "cell_type": "code",
      "execution_count": null,
      "metadata": {
        "id": "oRFyNPEETxuk"
      },
      "outputs": [],
      "source": [
        "# pré-processing NLP avec la fonction préalablement implémentée\n",
        "df_new['preprocessed_text'] = df_new['articles'].apply(preprocess_text)"
      ]
    },
    {
      "cell_type": "code",
      "execution_count": null,
      "metadata": {
        "colab": {
          "base_uri": "https://localhost:8080/"
        },
        "id": "n5_zCQWZTzeA",
        "outputId": "1318a40b-52fc-4678-945d-3777ed9c17ca"
      },
      "outputs": [
        {
          "data": {
            "text/plain": [
              "0       dayton oh greet crowd campaign ralli thursday ...\n",
              "1       presidenti candid donald trump recent remark l...\n",
              "2       rnc go pay probabl work worth shot week lara b...\n",
              "3       vandalia oh draw critic mani call dehuman hurt...\n",
              "4       washington mind spin pour sheaf paper vice pre...\n",
              "                              ...                        \n",
              "3686    florida legisl propos ban abort state allow la...\n",
              "3687    presid joe biden stood front icon green marbl ...\n",
              "3688    articl part dc brief time polit newslett sign ...\n",
              "3689    presid joe biden remark unit nation general as...\n",
              "3690    texa controversi six week abort banha effect d...\n",
              "Name: preprocessed_text, Length: 3691, dtype: object"
            ]
          },
          "execution_count": 90,
          "metadata": {},
          "output_type": "execute_result"
        }
      ],
      "source": [
        "# préparation\n",
        "X_new = df_new['preprocessed_text']\n",
        "X_new"
      ]
    },
    {
      "cell_type": "code",
      "execution_count": null,
      "metadata": {
        "colab": {
          "base_uri": "https://localhost:8080/"
        },
        "id": "TkOOiH6PT19H",
        "outputId": "7b64b991-a3e4-4a8b-a6f6-05160cbcd76b"
      },
      "outputs": [
        {
          "data": {
            "text/plain": [
              "0       0\n",
              "1       0\n",
              "2       0\n",
              "3       0\n",
              "4       0\n",
              "       ..\n",
              "3686    1\n",
              "3687    1\n",
              "3688    1\n",
              "3689    1\n",
              "3690    1\n",
              "Name: label, Length: 3691, dtype: int64"
            ]
          },
          "execution_count": 91,
          "metadata": {},
          "output_type": "execute_result"
        }
      ],
      "source": [
        "y_new = df_new['label']\n",
        "y_new"
      ]
    },
    {
      "cell_type": "code",
      "execution_count": null,
      "metadata": {
        "id": "-6j63FM6cIsD"
      },
      "outputs": [],
      "source": [
        "# tokenization\n",
        "def tokenize_dataset(dataset, tokenizer, max_length):\n",
        "    tokenized_dataset = tokenizer(\n",
        "        list(X_new),\n",
        "        max_length=max_length,\n",
        "        padding=True,\n",
        "        truncation=True,\n",
        "        return_tensors='pt'\n",
        "    )\n",
        "    return tokenized_dataset"
      ]
    },
    {
      "cell_type": "code",
      "execution_count": null,
      "metadata": {
        "id": "B94cRByCpBmQ"
      },
      "outputs": [],
      "source": [
        "max_length = 100\n",
        "X_new_tokenized = []\n",
        "for text in X_new:\n",
        "    encoded_input = tokenizer(text, max_length=max_length, padding='max_length', truncation=True, return_tensors='pt')\n",
        "    X_new_tokenized.append(encoded_input)"
      ]
    },
    {
      "cell_type": "code",
      "execution_count": null,
      "metadata": {
        "colab": {
          "base_uri": "https://localhost:8080/"
        },
        "id": "6pqAzJl8eC1h",
        "outputId": "4d1b25c8-f225-491c-c121-cc3b8b1f2bda"
      },
      "outputs": [
        {
          "name": "stdout",
          "output_type": "stream",
          "text": [
            "              precision    recall  f1-score   support\n",
            "\n",
            "           0    0.35241   0.13684   0.19714      1710\n",
            "           1    0.51239   0.78294   0.61941      1981\n",
            "\n",
            "    accuracy                        0.48361      3691\n",
            "   macro avg    0.43240   0.45989   0.40827      3691\n",
            "weighted avg    0.43827   0.48361   0.42377      3691\n",
            "\n"
          ]
        }
      ],
      "source": [
        "# prédictions\n",
        "loaded_model.eval()\n",
        "with torch.no_grad():\n",
        "    pred_logits = []\n",
        "    for batch in X_new_tokenized:\n",
        "        input_ids, attention_mask = batch['input_ids'].to(device), batch['attention_mask'].to(device)\n",
        "        outputs = loaded_model(input_ids, attention_mask=attention_mask)\n",
        "        logits = outputs.logits\n",
        "        pred_logits.extend(logits.cpu().numpy())\n",
        "\n",
        "# conversion des logits en probabilités avec une fonction softmax\n",
        "pred_probs = torch.softmax(torch.tensor(pred_logits), dim=1).numpy()\n",
        "\n",
        "# seuil\n",
        "threshold = 0.5\n",
        "\n",
        "# conversion des probabilités en classes binaires\n",
        "pred_classes = np.where(pred_probs[:, 1] > threshold, 1, 0)\n",
        "\n",
        "# classification report\n",
        "report = classification_report(y_new, pred_classes, digits=5)\n",
        "print(report)"
      ]
    },
    {
      "cell_type": "markdown",
      "metadata": {},
      "source": [
        "# Benchmark final de tous les modèles de Deep Learning"
      ]
    },
    {
      "cell_type": "markdown",
      "metadata": {},
      "source": [
        "## Benchmark de l'accuracy train versus validation"
      ]
    },
    {
      "cell_type": "code",
      "execution_count": 2,
      "metadata": {},
      "outputs": [
        {
          "data": {
            "text/html": [
              "<div>\n",
              "<style scoped>\n",
              "    .dataframe tbody tr th:only-of-type {\n",
              "        vertical-align: middle;\n",
              "    }\n",
              "\n",
              "    .dataframe tbody tr th {\n",
              "        vertical-align: top;\n",
              "    }\n",
              "\n",
              "    .dataframe thead th {\n",
              "        text-align: right;\n",
              "    }\n",
              "</style>\n",
              "<table border=\"1\" class=\"dataframe\">\n",
              "  <thead>\n",
              "    <tr style=\"text-align: right;\">\n",
              "      <th></th>\n",
              "      <th>Modèles</th>\n",
              "      <th>Train accuracy</th>\n",
              "      <th>Validation accuracy</th>\n",
              "    </tr>\n",
              "  </thead>\n",
              "  <tbody>\n",
              "    <tr>\n",
              "      <th>0</th>\n",
              "      <td>Simple embedding</td>\n",
              "      <td>0.9826</td>\n",
              "      <td>0.9442</td>\n",
              "    </tr>\n",
              "    <tr>\n",
              "      <th>1</th>\n",
              "      <td>Simple RNN</td>\n",
              "      <td>0.7803</td>\n",
              "      <td>0.6233</td>\n",
              "    </tr>\n",
              "    <tr>\n",
              "      <th>2</th>\n",
              "      <td>LSTM</td>\n",
              "      <td>0.8387</td>\n",
              "      <td>0.6426</td>\n",
              "    </tr>\n",
              "    <tr>\n",
              "      <th>3</th>\n",
              "      <td>BidirLSTM</td>\n",
              "      <td>0.9668</td>\n",
              "      <td>0.9359</td>\n",
              "    </tr>\n",
              "    <tr>\n",
              "      <th>4</th>\n",
              "      <td>BidirLSTM + CNN</td>\n",
              "      <td>0.9972</td>\n",
              "      <td>0.9127</td>\n",
              "    </tr>\n",
              "    <tr>\n",
              "      <th>5</th>\n",
              "      <td>w2v/BidirLSTM + CNN</td>\n",
              "      <td>0.9460</td>\n",
              "      <td>0.9270</td>\n",
              "    </tr>\n",
              "    <tr>\n",
              "      <th>6</th>\n",
              "      <td>BERT</td>\n",
              "      <td>0.8830</td>\n",
              "      <td>0.8860</td>\n",
              "    </tr>\n",
              "  </tbody>\n",
              "</table>\n",
              "</div>"
            ],
            "text/plain": [
              "               Modèles  Train accuracy  Validation accuracy\n",
              "0     Simple embedding          0.9826               0.9442\n",
              "1           Simple RNN          0.7803               0.6233\n",
              "2                 LSTM          0.8387               0.6426\n",
              "3            BidirLSTM          0.9668               0.9359\n",
              "4      BidirLSTM + CNN          0.9972               0.9127\n",
              "5  w2v/BidirLSTM + CNN          0.9460               0.9270\n",
              "6                 BERT          0.8830               0.8860"
            ]
          },
          "execution_count": 2,
          "metadata": {},
          "output_type": "execute_result"
        }
      ],
      "source": [
        "# tableau comparatif de l'accuracy train versus validation de l'ensemble des modèles testés\n",
        "df_final_eval_acc = pd.DataFrame({\n",
        "    'Modèles': ['Simple embedding', 'Simple RNN', 'LSTM', 'BidirLSTM', 'BidirLSTM + CNN', 'w2v/BidirLSTM + CNN', 'BERT'],\n",
        "    'Train accuracy': [.9826, .7803, .8387, .9668, .9972, .9460, .8830],\n",
        "    'Validation accuracy': [.9442, .6233, .6426, .9359, .9127, .9270, .8860]\n",
        "})\n",
        "df_final_eval_acc"
      ]
    },
    {
      "cell_type": "code",
      "execution_count": 10,
      "metadata": {},
      "outputs": [
        {
          "data": {
            "application/vnd.plotly.v1+json": {
              "config": {
                "plotlyServerURL": "https://plot.ly"
              },
              "data": [
                {
                  "alignmentgroup": "True",
                  "hovertemplate": "Métrique=Train accuracy<br>Modèle=%{x}<br>Valeur=%{text}<extra></extra>",
                  "legendgroup": "Train accuracy",
                  "marker": {
                    "color": "lightyellow",
                    "pattern": {
                      "shape": ""
                    }
                  },
                  "name": "Train accuracy",
                  "offsetgroup": "Train accuracy",
                  "orientation": "v",
                  "showlegend": true,
                  "text": [
                    0.9826,
                    0.7803,
                    0.8387,
                    0.9668,
                    0.9972,
                    0.946,
                    0.883
                  ],
                  "textposition": "auto",
                  "type": "bar",
                  "x": [
                    "Simple embedding",
                    "Simple RNN",
                    "LSTM",
                    "BidirLSTM",
                    "BidirLSTM + CNN",
                    "w2v/BidirLSTM + CNN",
                    "BERT"
                  ],
                  "xaxis": "x",
                  "y": [
                    0.9826,
                    0.7803,
                    0.8387,
                    0.9668,
                    0.9972,
                    0.946,
                    0.883
                  ],
                  "yaxis": "y"
                },
                {
                  "alignmentgroup": "True",
                  "hovertemplate": "Métrique=Validation accuracy<br>Modèle=%{x}<br>Valeur=%{text}<extra></extra>",
                  "legendgroup": "Validation accuracy",
                  "marker": {
                    "color": "lightgrey",
                    "pattern": {
                      "shape": ""
                    }
                  },
                  "name": "Validation accuracy",
                  "offsetgroup": "Validation accuracy",
                  "orientation": "v",
                  "showlegend": true,
                  "text": [
                    0.9442,
                    0.6233,
                    0.6426,
                    0.9359,
                    0.9127,
                    0.927,
                    0.886
                  ],
                  "textposition": "auto",
                  "type": "bar",
                  "x": [
                    "Simple embedding",
                    "Simple RNN",
                    "LSTM",
                    "BidirLSTM",
                    "BidirLSTM + CNN",
                    "w2v/BidirLSTM + CNN",
                    "BERT"
                  ],
                  "xaxis": "x",
                  "y": [
                    0.9442,
                    0.6233,
                    0.6426,
                    0.9359,
                    0.9127,
                    0.927,
                    0.886
                  ],
                  "yaxis": "y"
                }
              ],
              "layout": {
                "barmode": "group",
                "legend": {
                  "title": {
                    "text": "Métrique"
                  },
                  "tracegroupgap": 0
                },
                "template": {
                  "data": {
                    "bar": [
                      {
                        "error_x": {
                          "color": "#2a3f5f"
                        },
                        "error_y": {
                          "color": "#2a3f5f"
                        },
                        "marker": {
                          "line": {
                            "color": "white",
                            "width": 0.5
                          },
                          "pattern": {
                            "fillmode": "overlay",
                            "size": 10,
                            "solidity": 0.2
                          }
                        },
                        "type": "bar"
                      }
                    ],
                    "barpolar": [
                      {
                        "marker": {
                          "line": {
                            "color": "white",
                            "width": 0.5
                          },
                          "pattern": {
                            "fillmode": "overlay",
                            "size": 10,
                            "solidity": 0.2
                          }
                        },
                        "type": "barpolar"
                      }
                    ],
                    "carpet": [
                      {
                        "aaxis": {
                          "endlinecolor": "#2a3f5f",
                          "gridcolor": "#C8D4E3",
                          "linecolor": "#C8D4E3",
                          "minorgridcolor": "#C8D4E3",
                          "startlinecolor": "#2a3f5f"
                        },
                        "baxis": {
                          "endlinecolor": "#2a3f5f",
                          "gridcolor": "#C8D4E3",
                          "linecolor": "#C8D4E3",
                          "minorgridcolor": "#C8D4E3",
                          "startlinecolor": "#2a3f5f"
                        },
                        "type": "carpet"
                      }
                    ],
                    "choropleth": [
                      {
                        "colorbar": {
                          "outlinewidth": 0,
                          "ticks": ""
                        },
                        "type": "choropleth"
                      }
                    ],
                    "contour": [
                      {
                        "colorbar": {
                          "outlinewidth": 0,
                          "ticks": ""
                        },
                        "colorscale": [
                          [
                            0,
                            "#0d0887"
                          ],
                          [
                            0.1111111111111111,
                            "#46039f"
                          ],
                          [
                            0.2222222222222222,
                            "#7201a8"
                          ],
                          [
                            0.3333333333333333,
                            "#9c179e"
                          ],
                          [
                            0.4444444444444444,
                            "#bd3786"
                          ],
                          [
                            0.5555555555555556,
                            "#d8576b"
                          ],
                          [
                            0.6666666666666666,
                            "#ed7953"
                          ],
                          [
                            0.7777777777777778,
                            "#fb9f3a"
                          ],
                          [
                            0.8888888888888888,
                            "#fdca26"
                          ],
                          [
                            1,
                            "#f0f921"
                          ]
                        ],
                        "type": "contour"
                      }
                    ],
                    "contourcarpet": [
                      {
                        "colorbar": {
                          "outlinewidth": 0,
                          "ticks": ""
                        },
                        "type": "contourcarpet"
                      }
                    ],
                    "heatmap": [
                      {
                        "colorbar": {
                          "outlinewidth": 0,
                          "ticks": ""
                        },
                        "colorscale": [
                          [
                            0,
                            "#0d0887"
                          ],
                          [
                            0.1111111111111111,
                            "#46039f"
                          ],
                          [
                            0.2222222222222222,
                            "#7201a8"
                          ],
                          [
                            0.3333333333333333,
                            "#9c179e"
                          ],
                          [
                            0.4444444444444444,
                            "#bd3786"
                          ],
                          [
                            0.5555555555555556,
                            "#d8576b"
                          ],
                          [
                            0.6666666666666666,
                            "#ed7953"
                          ],
                          [
                            0.7777777777777778,
                            "#fb9f3a"
                          ],
                          [
                            0.8888888888888888,
                            "#fdca26"
                          ],
                          [
                            1,
                            "#f0f921"
                          ]
                        ],
                        "type": "heatmap"
                      }
                    ],
                    "heatmapgl": [
                      {
                        "colorbar": {
                          "outlinewidth": 0,
                          "ticks": ""
                        },
                        "colorscale": [
                          [
                            0,
                            "#0d0887"
                          ],
                          [
                            0.1111111111111111,
                            "#46039f"
                          ],
                          [
                            0.2222222222222222,
                            "#7201a8"
                          ],
                          [
                            0.3333333333333333,
                            "#9c179e"
                          ],
                          [
                            0.4444444444444444,
                            "#bd3786"
                          ],
                          [
                            0.5555555555555556,
                            "#d8576b"
                          ],
                          [
                            0.6666666666666666,
                            "#ed7953"
                          ],
                          [
                            0.7777777777777778,
                            "#fb9f3a"
                          ],
                          [
                            0.8888888888888888,
                            "#fdca26"
                          ],
                          [
                            1,
                            "#f0f921"
                          ]
                        ],
                        "type": "heatmapgl"
                      }
                    ],
                    "histogram": [
                      {
                        "marker": {
                          "pattern": {
                            "fillmode": "overlay",
                            "size": 10,
                            "solidity": 0.2
                          }
                        },
                        "type": "histogram"
                      }
                    ],
                    "histogram2d": [
                      {
                        "colorbar": {
                          "outlinewidth": 0,
                          "ticks": ""
                        },
                        "colorscale": [
                          [
                            0,
                            "#0d0887"
                          ],
                          [
                            0.1111111111111111,
                            "#46039f"
                          ],
                          [
                            0.2222222222222222,
                            "#7201a8"
                          ],
                          [
                            0.3333333333333333,
                            "#9c179e"
                          ],
                          [
                            0.4444444444444444,
                            "#bd3786"
                          ],
                          [
                            0.5555555555555556,
                            "#d8576b"
                          ],
                          [
                            0.6666666666666666,
                            "#ed7953"
                          ],
                          [
                            0.7777777777777778,
                            "#fb9f3a"
                          ],
                          [
                            0.8888888888888888,
                            "#fdca26"
                          ],
                          [
                            1,
                            "#f0f921"
                          ]
                        ],
                        "type": "histogram2d"
                      }
                    ],
                    "histogram2dcontour": [
                      {
                        "colorbar": {
                          "outlinewidth": 0,
                          "ticks": ""
                        },
                        "colorscale": [
                          [
                            0,
                            "#0d0887"
                          ],
                          [
                            0.1111111111111111,
                            "#46039f"
                          ],
                          [
                            0.2222222222222222,
                            "#7201a8"
                          ],
                          [
                            0.3333333333333333,
                            "#9c179e"
                          ],
                          [
                            0.4444444444444444,
                            "#bd3786"
                          ],
                          [
                            0.5555555555555556,
                            "#d8576b"
                          ],
                          [
                            0.6666666666666666,
                            "#ed7953"
                          ],
                          [
                            0.7777777777777778,
                            "#fb9f3a"
                          ],
                          [
                            0.8888888888888888,
                            "#fdca26"
                          ],
                          [
                            1,
                            "#f0f921"
                          ]
                        ],
                        "type": "histogram2dcontour"
                      }
                    ],
                    "mesh3d": [
                      {
                        "colorbar": {
                          "outlinewidth": 0,
                          "ticks": ""
                        },
                        "type": "mesh3d"
                      }
                    ],
                    "parcoords": [
                      {
                        "line": {
                          "colorbar": {
                            "outlinewidth": 0,
                            "ticks": ""
                          }
                        },
                        "type": "parcoords"
                      }
                    ],
                    "pie": [
                      {
                        "automargin": true,
                        "type": "pie"
                      }
                    ],
                    "scatter": [
                      {
                        "fillpattern": {
                          "fillmode": "overlay",
                          "size": 10,
                          "solidity": 0.2
                        },
                        "type": "scatter"
                      }
                    ],
                    "scatter3d": [
                      {
                        "line": {
                          "colorbar": {
                            "outlinewidth": 0,
                            "ticks": ""
                          }
                        },
                        "marker": {
                          "colorbar": {
                            "outlinewidth": 0,
                            "ticks": ""
                          }
                        },
                        "type": "scatter3d"
                      }
                    ],
                    "scattercarpet": [
                      {
                        "marker": {
                          "colorbar": {
                            "outlinewidth": 0,
                            "ticks": ""
                          }
                        },
                        "type": "scattercarpet"
                      }
                    ],
                    "scattergeo": [
                      {
                        "marker": {
                          "colorbar": {
                            "outlinewidth": 0,
                            "ticks": ""
                          }
                        },
                        "type": "scattergeo"
                      }
                    ],
                    "scattergl": [
                      {
                        "marker": {
                          "colorbar": {
                            "outlinewidth": 0,
                            "ticks": ""
                          }
                        },
                        "type": "scattergl"
                      }
                    ],
                    "scattermapbox": [
                      {
                        "marker": {
                          "colorbar": {
                            "outlinewidth": 0,
                            "ticks": ""
                          }
                        },
                        "type": "scattermapbox"
                      }
                    ],
                    "scatterpolar": [
                      {
                        "marker": {
                          "colorbar": {
                            "outlinewidth": 0,
                            "ticks": ""
                          }
                        },
                        "type": "scatterpolar"
                      }
                    ],
                    "scatterpolargl": [
                      {
                        "marker": {
                          "colorbar": {
                            "outlinewidth": 0,
                            "ticks": ""
                          }
                        },
                        "type": "scatterpolargl"
                      }
                    ],
                    "scatterternary": [
                      {
                        "marker": {
                          "colorbar": {
                            "outlinewidth": 0,
                            "ticks": ""
                          }
                        },
                        "type": "scatterternary"
                      }
                    ],
                    "surface": [
                      {
                        "colorbar": {
                          "outlinewidth": 0,
                          "ticks": ""
                        },
                        "colorscale": [
                          [
                            0,
                            "#0d0887"
                          ],
                          [
                            0.1111111111111111,
                            "#46039f"
                          ],
                          [
                            0.2222222222222222,
                            "#7201a8"
                          ],
                          [
                            0.3333333333333333,
                            "#9c179e"
                          ],
                          [
                            0.4444444444444444,
                            "#bd3786"
                          ],
                          [
                            0.5555555555555556,
                            "#d8576b"
                          ],
                          [
                            0.6666666666666666,
                            "#ed7953"
                          ],
                          [
                            0.7777777777777778,
                            "#fb9f3a"
                          ],
                          [
                            0.8888888888888888,
                            "#fdca26"
                          ],
                          [
                            1,
                            "#f0f921"
                          ]
                        ],
                        "type": "surface"
                      }
                    ],
                    "table": [
                      {
                        "cells": {
                          "fill": {
                            "color": "#EBF0F8"
                          },
                          "line": {
                            "color": "white"
                          }
                        },
                        "header": {
                          "fill": {
                            "color": "#C8D4E3"
                          },
                          "line": {
                            "color": "white"
                          }
                        },
                        "type": "table"
                      }
                    ]
                  },
                  "layout": {
                    "annotationdefaults": {
                      "arrowcolor": "#2a3f5f",
                      "arrowhead": 0,
                      "arrowwidth": 1
                    },
                    "autotypenumbers": "strict",
                    "coloraxis": {
                      "colorbar": {
                        "outlinewidth": 0,
                        "ticks": ""
                      }
                    },
                    "colorscale": {
                      "diverging": [
                        [
                          0,
                          "#8e0152"
                        ],
                        [
                          0.1,
                          "#c51b7d"
                        ],
                        [
                          0.2,
                          "#de77ae"
                        ],
                        [
                          0.3,
                          "#f1b6da"
                        ],
                        [
                          0.4,
                          "#fde0ef"
                        ],
                        [
                          0.5,
                          "#f7f7f7"
                        ],
                        [
                          0.6,
                          "#e6f5d0"
                        ],
                        [
                          0.7,
                          "#b8e186"
                        ],
                        [
                          0.8,
                          "#7fbc41"
                        ],
                        [
                          0.9,
                          "#4d9221"
                        ],
                        [
                          1,
                          "#276419"
                        ]
                      ],
                      "sequential": [
                        [
                          0,
                          "#0d0887"
                        ],
                        [
                          0.1111111111111111,
                          "#46039f"
                        ],
                        [
                          0.2222222222222222,
                          "#7201a8"
                        ],
                        [
                          0.3333333333333333,
                          "#9c179e"
                        ],
                        [
                          0.4444444444444444,
                          "#bd3786"
                        ],
                        [
                          0.5555555555555556,
                          "#d8576b"
                        ],
                        [
                          0.6666666666666666,
                          "#ed7953"
                        ],
                        [
                          0.7777777777777778,
                          "#fb9f3a"
                        ],
                        [
                          0.8888888888888888,
                          "#fdca26"
                        ],
                        [
                          1,
                          "#f0f921"
                        ]
                      ],
                      "sequentialminus": [
                        [
                          0,
                          "#0d0887"
                        ],
                        [
                          0.1111111111111111,
                          "#46039f"
                        ],
                        [
                          0.2222222222222222,
                          "#7201a8"
                        ],
                        [
                          0.3333333333333333,
                          "#9c179e"
                        ],
                        [
                          0.4444444444444444,
                          "#bd3786"
                        ],
                        [
                          0.5555555555555556,
                          "#d8576b"
                        ],
                        [
                          0.6666666666666666,
                          "#ed7953"
                        ],
                        [
                          0.7777777777777778,
                          "#fb9f3a"
                        ],
                        [
                          0.8888888888888888,
                          "#fdca26"
                        ],
                        [
                          1,
                          "#f0f921"
                        ]
                      ]
                    },
                    "colorway": [
                      "#636efa",
                      "#EF553B",
                      "#00cc96",
                      "#ab63fa",
                      "#FFA15A",
                      "#19d3f3",
                      "#FF6692",
                      "#B6E880",
                      "#FF97FF",
                      "#FECB52"
                    ],
                    "font": {
                      "color": "#2a3f5f"
                    },
                    "geo": {
                      "bgcolor": "white",
                      "lakecolor": "white",
                      "landcolor": "white",
                      "showlakes": true,
                      "showland": true,
                      "subunitcolor": "#C8D4E3"
                    },
                    "hoverlabel": {
                      "align": "left"
                    },
                    "hovermode": "closest",
                    "mapbox": {
                      "style": "light"
                    },
                    "paper_bgcolor": "white",
                    "plot_bgcolor": "white",
                    "polar": {
                      "angularaxis": {
                        "gridcolor": "#EBF0F8",
                        "linecolor": "#EBF0F8",
                        "ticks": ""
                      },
                      "bgcolor": "white",
                      "radialaxis": {
                        "gridcolor": "#EBF0F8",
                        "linecolor": "#EBF0F8",
                        "ticks": ""
                      }
                    },
                    "scene": {
                      "xaxis": {
                        "backgroundcolor": "white",
                        "gridcolor": "#DFE8F3",
                        "gridwidth": 2,
                        "linecolor": "#EBF0F8",
                        "showbackground": true,
                        "ticks": "",
                        "zerolinecolor": "#EBF0F8"
                      },
                      "yaxis": {
                        "backgroundcolor": "white",
                        "gridcolor": "#DFE8F3",
                        "gridwidth": 2,
                        "linecolor": "#EBF0F8",
                        "showbackground": true,
                        "ticks": "",
                        "zerolinecolor": "#EBF0F8"
                      },
                      "zaxis": {
                        "backgroundcolor": "white",
                        "gridcolor": "#DFE8F3",
                        "gridwidth": 2,
                        "linecolor": "#EBF0F8",
                        "showbackground": true,
                        "ticks": "",
                        "zerolinecolor": "#EBF0F8"
                      }
                    },
                    "shapedefaults": {
                      "line": {
                        "color": "#2a3f5f"
                      }
                    },
                    "ternary": {
                      "aaxis": {
                        "gridcolor": "#DFE8F3",
                        "linecolor": "#A2B1C6",
                        "ticks": ""
                      },
                      "baxis": {
                        "gridcolor": "#DFE8F3",
                        "linecolor": "#A2B1C6",
                        "ticks": ""
                      },
                      "bgcolor": "white",
                      "caxis": {
                        "gridcolor": "#DFE8F3",
                        "linecolor": "#A2B1C6",
                        "ticks": ""
                      }
                    },
                    "title": {
                      "x": 0.05
                    },
                    "xaxis": {
                      "automargin": true,
                      "gridcolor": "#EBF0F8",
                      "linecolor": "#EBF0F8",
                      "ticks": "",
                      "title": {
                        "standoff": 15
                      },
                      "zerolinecolor": "#EBF0F8",
                      "zerolinewidth": 2
                    },
                    "yaxis": {
                      "automargin": true,
                      "gridcolor": "#EBF0F8",
                      "linecolor": "#EBF0F8",
                      "ticks": "",
                      "title": {
                        "standoff": 15
                      },
                      "zerolinecolor": "#EBF0F8",
                      "zerolinewidth": 2
                    }
                  }
                },
                "title": {
                  "text": "Comparaison des performances sur l'ensemble des modèles testés"
                },
                "xaxis": {
                  "anchor": "y",
                  "domain": [
                    0,
                    1
                  ],
                  "tickangle": -45,
                  "title": {
                    "text": "Modèle"
                  }
                },
                "yaxis": {
                  "anchor": "x",
                  "domain": [
                    0,
                    1
                  ],
                  "range": [
                    0.49,
                    0.99
                  ],
                  "showgrid": false,
                  "title": {
                    "text": "Valeur"
                  }
                }
              }
            }
          },
          "metadata": {},
          "output_type": "display_data"
        }
      ],
      "source": [
        "# graphique\n",
        "df_melted = df_final_eval_acc.melt(id_vars='Modèles', var_name='Métrique', value_name='Valeur')\n",
        "pio.templates.default = 'plotly_white'\n",
        "fig = px.bar(df_melted, x='Modèles', y='Valeur', color='Métrique', barmode='group', text='Valeur',\n",
        "             color_discrete_map={'Train accuracy': 'lightyellow', 'Validation accuracy': 'lightgrey'},\n",
        "             title=\"Comparaison des performances sur l'ensemble des modèles testés\",\n",
        "             labels={'Modèles': 'Modèle', 'Valeur': 'Valeur'})\n",
        "fig.update_layout(yaxis_showgrid=False, xaxis_tickangle=-45, xaxis_title='Modèle', yaxis_title='Valeur', yaxis_range=[0.49, 0.99], legend_title='Métrique')\n",
        "fig.show()"
      ]
    },
    {
      "cell_type": "markdown",
      "metadata": {},
      "source": [
        "Les modèles qui performent le mieux (seuil d’accuracy > .90), et présentent un bon compromis entre le train et la validation, ont été retenus pour être testés sur les données inédites."
      ]
    },
    {
      "cell_type": "markdown",
      "metadata": {},
      "source": [
        "## Benchmark des métriques sur les données inédites"
      ]
    },
    {
      "cell_type": "code",
      "execution_count": 11,
      "metadata": {},
      "outputs": [
        {
          "data": {
            "text/html": [
              "<div>\n",
              "<style scoped>\n",
              "    .dataframe tbody tr th:only-of-type {\n",
              "        vertical-align: middle;\n",
              "    }\n",
              "\n",
              "    .dataframe tbody tr th {\n",
              "        vertical-align: top;\n",
              "    }\n",
              "\n",
              "    .dataframe thead th {\n",
              "        text-align: right;\n",
              "    }\n",
              "</style>\n",
              "<table border=\"1\" class=\"dataframe\">\n",
              "  <thead>\n",
              "    <tr style=\"text-align: right;\">\n",
              "      <th></th>\n",
              "      <th>Modèles finaux</th>\n",
              "      <th>Accuracy</th>\n",
              "      <th>Précision</th>\n",
              "      <th>Recall</th>\n",
              "      <th>F1-Score</th>\n",
              "    </tr>\n",
              "  </thead>\n",
              "  <tbody>\n",
              "    <tr>\n",
              "      <th>0</th>\n",
              "      <td>Simple embedding</td>\n",
              "      <td>0.65809</td>\n",
              "      <td>0.69097</td>\n",
              "      <td>0.65809</td>\n",
              "      <td>0.63066</td>\n",
              "    </tr>\n",
              "    <tr>\n",
              "      <th>1</th>\n",
              "      <td>BidirLSTM</td>\n",
              "      <td>0.70685</td>\n",
              "      <td>0.73649</td>\n",
              "      <td>0.70685</td>\n",
              "      <td>0.69022</td>\n",
              "    </tr>\n",
              "    <tr>\n",
              "      <th>2</th>\n",
              "      <td>BidirLSTM + CNN</td>\n",
              "      <td>0.75535</td>\n",
              "      <td>0.77517</td>\n",
              "      <td>0.75353</td>\n",
              "      <td>0.74690</td>\n",
              "    </tr>\n",
              "    <tr>\n",
              "      <th>3</th>\n",
              "      <td>w2v/BidirLSTM + CNN</td>\n",
              "      <td>0.86291</td>\n",
              "      <td>0.89082</td>\n",
              "      <td>0.86291</td>\n",
              "      <td>0.86191</td>\n",
              "    </tr>\n",
              "    <tr>\n",
              "      <th>4</th>\n",
              "      <td>BERT</td>\n",
              "      <td>0.48361</td>\n",
              "      <td>0.43827</td>\n",
              "      <td>0.48361</td>\n",
              "      <td>0.42377</td>\n",
              "    </tr>\n",
              "  </tbody>\n",
              "</table>\n",
              "</div>"
            ],
            "text/plain": [
              "        Modèles finaux  Accuracy  Précision   Recall  F1-Score\n",
              "0     Simple embedding   0.65809    0.69097  0.65809   0.63066\n",
              "1            BidirLSTM   0.70685    0.73649  0.70685   0.69022\n",
              "2      BidirLSTM + CNN   0.75535    0.77517  0.75353   0.74690\n",
              "3  w2v/BidirLSTM + CNN   0.86291    0.89082  0.86291   0.86191\n",
              "4                 BERT   0.48361    0.43827  0.48361   0.42377"
            ]
          },
          "execution_count": 11,
          "metadata": {},
          "output_type": "execute_result"
        }
      ],
      "source": [
        "# tableau comparatif des métriques des 5 modèles retenus sur l'ensemble inédit\n",
        "df_final_eval_1 = pd.DataFrame({\n",
        "    'Modèles finaux': ['Simple embedding', 'BidirLSTM', 'BidirLSTM + CNN', 'w2v/BidirLSTM + CNN', 'BERT'],\n",
        "    'Accuracy': [.65809, .70685, .75535, .86291, .48361],\n",
        "    'Précision': [.69097, .73649, .77517, .89082, .43827],\n",
        "    'Recall': [.65809, .70685, .75353, .86291, .48361],\n",
        "    'F1-Score': [.63066, .69022, .74690, .86191, .42377]\n",
        "})\n",
        "df_final_eval_1"
      ]
    },
    {
      "cell_type": "code",
      "execution_count": 18,
      "metadata": {},
      "outputs": [
        {
          "data": {
            "application/vnd.plotly.v1+json": {
              "config": {
                "plotlyServerURL": "https://plot.ly"
              },
              "data": [
                {
                  "alignmentgroup": "True",
                  "hovertemplate": "Métrique=Accuracy<br>Modèle=%{x}<br>Valeur=%{text}<extra></extra>",
                  "legendgroup": "Accuracy",
                  "marker": {
                    "color": "lightyellow",
                    "pattern": {
                      "shape": ""
                    }
                  },
                  "name": "Accuracy",
                  "offsetgroup": "Accuracy",
                  "orientation": "v",
                  "showlegend": true,
                  "text": [
                    0.65809,
                    0.70685,
                    0.75535,
                    0.86291,
                    0.48361
                  ],
                  "textposition": "auto",
                  "type": "bar",
                  "x": [
                    "Simple embedding",
                    "BidirLSTM",
                    "BidirLSTM + CNN",
                    "w2v/BidirLSTM + CNN",
                    "BERT"
                  ],
                  "xaxis": "x",
                  "y": [
                    0.65809,
                    0.70685,
                    0.75535,
                    0.86291,
                    0.48361
                  ],
                  "yaxis": "y"
                },
                {
                  "alignmentgroup": "True",
                  "hovertemplate": "Métrique=Précision<br>Modèle=%{x}<br>Valeur=%{text}<extra></extra>",
                  "legendgroup": "Précision",
                  "marker": {
                    "color": "lightgrey",
                    "pattern": {
                      "shape": ""
                    }
                  },
                  "name": "Précision",
                  "offsetgroup": "Précision",
                  "orientation": "v",
                  "showlegend": true,
                  "text": [
                    0.69097,
                    0.73649,
                    0.77517,
                    0.89082,
                    0.43827
                  ],
                  "textposition": "auto",
                  "type": "bar",
                  "x": [
                    "Simple embedding",
                    "BidirLSTM",
                    "BidirLSTM + CNN",
                    "w2v/BidirLSTM + CNN",
                    "BERT"
                  ],
                  "xaxis": "x",
                  "y": [
                    0.69097,
                    0.73649,
                    0.77517,
                    0.89082,
                    0.43827
                  ],
                  "yaxis": "y"
                },
                {
                  "alignmentgroup": "True",
                  "hovertemplate": "Métrique=Recall<br>Modèle=%{x}<br>Valeur=%{text}<extra></extra>",
                  "legendgroup": "Recall",
                  "marker": {
                    "color": "grey",
                    "pattern": {
                      "shape": ""
                    }
                  },
                  "name": "Recall",
                  "offsetgroup": "Recall",
                  "orientation": "v",
                  "showlegend": true,
                  "text": [
                    0.65809,
                    0.70685,
                    0.75353,
                    0.86291,
                    0.48361
                  ],
                  "textposition": "auto",
                  "type": "bar",
                  "x": [
                    "Simple embedding",
                    "BidirLSTM",
                    "BidirLSTM + CNN",
                    "w2v/BidirLSTM + CNN",
                    "BERT"
                  ],
                  "xaxis": "x",
                  "y": [
                    0.65809,
                    0.70685,
                    0.75353,
                    0.86291,
                    0.48361
                  ],
                  "yaxis": "y"
                },
                {
                  "alignmentgroup": "True",
                  "hovertemplate": "Métrique=F1-Score<br>Modèle=%{x}<br>Valeur=%{text}<extra></extra>",
                  "legendgroup": "F1-Score",
                  "marker": {
                    "color": "yellow",
                    "pattern": {
                      "shape": ""
                    }
                  },
                  "name": "F1-Score",
                  "offsetgroup": "F1-Score",
                  "orientation": "v",
                  "showlegend": true,
                  "text": [
                    0.63066,
                    0.69022,
                    0.7469,
                    0.86191,
                    0.42377
                  ],
                  "textposition": "auto",
                  "type": "bar",
                  "x": [
                    "Simple embedding",
                    "BidirLSTM",
                    "BidirLSTM + CNN",
                    "w2v/BidirLSTM + CNN",
                    "BERT"
                  ],
                  "xaxis": "x",
                  "y": [
                    0.63066,
                    0.69022,
                    0.7469,
                    0.86191,
                    0.42377
                  ],
                  "yaxis": "y"
                }
              ],
              "layout": {
                "barmode": "group",
                "legend": {
                  "title": {
                    "text": "Métrique"
                  },
                  "tracegroupgap": 0
                },
                "template": {
                  "data": {
                    "bar": [
                      {
                        "error_x": {
                          "color": "#2a3f5f"
                        },
                        "error_y": {
                          "color": "#2a3f5f"
                        },
                        "marker": {
                          "line": {
                            "color": "white",
                            "width": 0.5
                          },
                          "pattern": {
                            "fillmode": "overlay",
                            "size": 10,
                            "solidity": 0.2
                          }
                        },
                        "type": "bar"
                      }
                    ],
                    "barpolar": [
                      {
                        "marker": {
                          "line": {
                            "color": "white",
                            "width": 0.5
                          },
                          "pattern": {
                            "fillmode": "overlay",
                            "size": 10,
                            "solidity": 0.2
                          }
                        },
                        "type": "barpolar"
                      }
                    ],
                    "carpet": [
                      {
                        "aaxis": {
                          "endlinecolor": "#2a3f5f",
                          "gridcolor": "#C8D4E3",
                          "linecolor": "#C8D4E3",
                          "minorgridcolor": "#C8D4E3",
                          "startlinecolor": "#2a3f5f"
                        },
                        "baxis": {
                          "endlinecolor": "#2a3f5f",
                          "gridcolor": "#C8D4E3",
                          "linecolor": "#C8D4E3",
                          "minorgridcolor": "#C8D4E3",
                          "startlinecolor": "#2a3f5f"
                        },
                        "type": "carpet"
                      }
                    ],
                    "choropleth": [
                      {
                        "colorbar": {
                          "outlinewidth": 0,
                          "ticks": ""
                        },
                        "type": "choropleth"
                      }
                    ],
                    "contour": [
                      {
                        "colorbar": {
                          "outlinewidth": 0,
                          "ticks": ""
                        },
                        "colorscale": [
                          [
                            0,
                            "#0d0887"
                          ],
                          [
                            0.1111111111111111,
                            "#46039f"
                          ],
                          [
                            0.2222222222222222,
                            "#7201a8"
                          ],
                          [
                            0.3333333333333333,
                            "#9c179e"
                          ],
                          [
                            0.4444444444444444,
                            "#bd3786"
                          ],
                          [
                            0.5555555555555556,
                            "#d8576b"
                          ],
                          [
                            0.6666666666666666,
                            "#ed7953"
                          ],
                          [
                            0.7777777777777778,
                            "#fb9f3a"
                          ],
                          [
                            0.8888888888888888,
                            "#fdca26"
                          ],
                          [
                            1,
                            "#f0f921"
                          ]
                        ],
                        "type": "contour"
                      }
                    ],
                    "contourcarpet": [
                      {
                        "colorbar": {
                          "outlinewidth": 0,
                          "ticks": ""
                        },
                        "type": "contourcarpet"
                      }
                    ],
                    "heatmap": [
                      {
                        "colorbar": {
                          "outlinewidth": 0,
                          "ticks": ""
                        },
                        "colorscale": [
                          [
                            0,
                            "#0d0887"
                          ],
                          [
                            0.1111111111111111,
                            "#46039f"
                          ],
                          [
                            0.2222222222222222,
                            "#7201a8"
                          ],
                          [
                            0.3333333333333333,
                            "#9c179e"
                          ],
                          [
                            0.4444444444444444,
                            "#bd3786"
                          ],
                          [
                            0.5555555555555556,
                            "#d8576b"
                          ],
                          [
                            0.6666666666666666,
                            "#ed7953"
                          ],
                          [
                            0.7777777777777778,
                            "#fb9f3a"
                          ],
                          [
                            0.8888888888888888,
                            "#fdca26"
                          ],
                          [
                            1,
                            "#f0f921"
                          ]
                        ],
                        "type": "heatmap"
                      }
                    ],
                    "heatmapgl": [
                      {
                        "colorbar": {
                          "outlinewidth": 0,
                          "ticks": ""
                        },
                        "colorscale": [
                          [
                            0,
                            "#0d0887"
                          ],
                          [
                            0.1111111111111111,
                            "#46039f"
                          ],
                          [
                            0.2222222222222222,
                            "#7201a8"
                          ],
                          [
                            0.3333333333333333,
                            "#9c179e"
                          ],
                          [
                            0.4444444444444444,
                            "#bd3786"
                          ],
                          [
                            0.5555555555555556,
                            "#d8576b"
                          ],
                          [
                            0.6666666666666666,
                            "#ed7953"
                          ],
                          [
                            0.7777777777777778,
                            "#fb9f3a"
                          ],
                          [
                            0.8888888888888888,
                            "#fdca26"
                          ],
                          [
                            1,
                            "#f0f921"
                          ]
                        ],
                        "type": "heatmapgl"
                      }
                    ],
                    "histogram": [
                      {
                        "marker": {
                          "pattern": {
                            "fillmode": "overlay",
                            "size": 10,
                            "solidity": 0.2
                          }
                        },
                        "type": "histogram"
                      }
                    ],
                    "histogram2d": [
                      {
                        "colorbar": {
                          "outlinewidth": 0,
                          "ticks": ""
                        },
                        "colorscale": [
                          [
                            0,
                            "#0d0887"
                          ],
                          [
                            0.1111111111111111,
                            "#46039f"
                          ],
                          [
                            0.2222222222222222,
                            "#7201a8"
                          ],
                          [
                            0.3333333333333333,
                            "#9c179e"
                          ],
                          [
                            0.4444444444444444,
                            "#bd3786"
                          ],
                          [
                            0.5555555555555556,
                            "#d8576b"
                          ],
                          [
                            0.6666666666666666,
                            "#ed7953"
                          ],
                          [
                            0.7777777777777778,
                            "#fb9f3a"
                          ],
                          [
                            0.8888888888888888,
                            "#fdca26"
                          ],
                          [
                            1,
                            "#f0f921"
                          ]
                        ],
                        "type": "histogram2d"
                      }
                    ],
                    "histogram2dcontour": [
                      {
                        "colorbar": {
                          "outlinewidth": 0,
                          "ticks": ""
                        },
                        "colorscale": [
                          [
                            0,
                            "#0d0887"
                          ],
                          [
                            0.1111111111111111,
                            "#46039f"
                          ],
                          [
                            0.2222222222222222,
                            "#7201a8"
                          ],
                          [
                            0.3333333333333333,
                            "#9c179e"
                          ],
                          [
                            0.4444444444444444,
                            "#bd3786"
                          ],
                          [
                            0.5555555555555556,
                            "#d8576b"
                          ],
                          [
                            0.6666666666666666,
                            "#ed7953"
                          ],
                          [
                            0.7777777777777778,
                            "#fb9f3a"
                          ],
                          [
                            0.8888888888888888,
                            "#fdca26"
                          ],
                          [
                            1,
                            "#f0f921"
                          ]
                        ],
                        "type": "histogram2dcontour"
                      }
                    ],
                    "mesh3d": [
                      {
                        "colorbar": {
                          "outlinewidth": 0,
                          "ticks": ""
                        },
                        "type": "mesh3d"
                      }
                    ],
                    "parcoords": [
                      {
                        "line": {
                          "colorbar": {
                            "outlinewidth": 0,
                            "ticks": ""
                          }
                        },
                        "type": "parcoords"
                      }
                    ],
                    "pie": [
                      {
                        "automargin": true,
                        "type": "pie"
                      }
                    ],
                    "scatter": [
                      {
                        "fillpattern": {
                          "fillmode": "overlay",
                          "size": 10,
                          "solidity": 0.2
                        },
                        "type": "scatter"
                      }
                    ],
                    "scatter3d": [
                      {
                        "line": {
                          "colorbar": {
                            "outlinewidth": 0,
                            "ticks": ""
                          }
                        },
                        "marker": {
                          "colorbar": {
                            "outlinewidth": 0,
                            "ticks": ""
                          }
                        },
                        "type": "scatter3d"
                      }
                    ],
                    "scattercarpet": [
                      {
                        "marker": {
                          "colorbar": {
                            "outlinewidth": 0,
                            "ticks": ""
                          }
                        },
                        "type": "scattercarpet"
                      }
                    ],
                    "scattergeo": [
                      {
                        "marker": {
                          "colorbar": {
                            "outlinewidth": 0,
                            "ticks": ""
                          }
                        },
                        "type": "scattergeo"
                      }
                    ],
                    "scattergl": [
                      {
                        "marker": {
                          "colorbar": {
                            "outlinewidth": 0,
                            "ticks": ""
                          }
                        },
                        "type": "scattergl"
                      }
                    ],
                    "scattermapbox": [
                      {
                        "marker": {
                          "colorbar": {
                            "outlinewidth": 0,
                            "ticks": ""
                          }
                        },
                        "type": "scattermapbox"
                      }
                    ],
                    "scatterpolar": [
                      {
                        "marker": {
                          "colorbar": {
                            "outlinewidth": 0,
                            "ticks": ""
                          }
                        },
                        "type": "scatterpolar"
                      }
                    ],
                    "scatterpolargl": [
                      {
                        "marker": {
                          "colorbar": {
                            "outlinewidth": 0,
                            "ticks": ""
                          }
                        },
                        "type": "scatterpolargl"
                      }
                    ],
                    "scatterternary": [
                      {
                        "marker": {
                          "colorbar": {
                            "outlinewidth": 0,
                            "ticks": ""
                          }
                        },
                        "type": "scatterternary"
                      }
                    ],
                    "surface": [
                      {
                        "colorbar": {
                          "outlinewidth": 0,
                          "ticks": ""
                        },
                        "colorscale": [
                          [
                            0,
                            "#0d0887"
                          ],
                          [
                            0.1111111111111111,
                            "#46039f"
                          ],
                          [
                            0.2222222222222222,
                            "#7201a8"
                          ],
                          [
                            0.3333333333333333,
                            "#9c179e"
                          ],
                          [
                            0.4444444444444444,
                            "#bd3786"
                          ],
                          [
                            0.5555555555555556,
                            "#d8576b"
                          ],
                          [
                            0.6666666666666666,
                            "#ed7953"
                          ],
                          [
                            0.7777777777777778,
                            "#fb9f3a"
                          ],
                          [
                            0.8888888888888888,
                            "#fdca26"
                          ],
                          [
                            1,
                            "#f0f921"
                          ]
                        ],
                        "type": "surface"
                      }
                    ],
                    "table": [
                      {
                        "cells": {
                          "fill": {
                            "color": "#EBF0F8"
                          },
                          "line": {
                            "color": "white"
                          }
                        },
                        "header": {
                          "fill": {
                            "color": "#C8D4E3"
                          },
                          "line": {
                            "color": "white"
                          }
                        },
                        "type": "table"
                      }
                    ]
                  },
                  "layout": {
                    "annotationdefaults": {
                      "arrowcolor": "#2a3f5f",
                      "arrowhead": 0,
                      "arrowwidth": 1
                    },
                    "autotypenumbers": "strict",
                    "coloraxis": {
                      "colorbar": {
                        "outlinewidth": 0,
                        "ticks": ""
                      }
                    },
                    "colorscale": {
                      "diverging": [
                        [
                          0,
                          "#8e0152"
                        ],
                        [
                          0.1,
                          "#c51b7d"
                        ],
                        [
                          0.2,
                          "#de77ae"
                        ],
                        [
                          0.3,
                          "#f1b6da"
                        ],
                        [
                          0.4,
                          "#fde0ef"
                        ],
                        [
                          0.5,
                          "#f7f7f7"
                        ],
                        [
                          0.6,
                          "#e6f5d0"
                        ],
                        [
                          0.7,
                          "#b8e186"
                        ],
                        [
                          0.8,
                          "#7fbc41"
                        ],
                        [
                          0.9,
                          "#4d9221"
                        ],
                        [
                          1,
                          "#276419"
                        ]
                      ],
                      "sequential": [
                        [
                          0,
                          "#0d0887"
                        ],
                        [
                          0.1111111111111111,
                          "#46039f"
                        ],
                        [
                          0.2222222222222222,
                          "#7201a8"
                        ],
                        [
                          0.3333333333333333,
                          "#9c179e"
                        ],
                        [
                          0.4444444444444444,
                          "#bd3786"
                        ],
                        [
                          0.5555555555555556,
                          "#d8576b"
                        ],
                        [
                          0.6666666666666666,
                          "#ed7953"
                        ],
                        [
                          0.7777777777777778,
                          "#fb9f3a"
                        ],
                        [
                          0.8888888888888888,
                          "#fdca26"
                        ],
                        [
                          1,
                          "#f0f921"
                        ]
                      ],
                      "sequentialminus": [
                        [
                          0,
                          "#0d0887"
                        ],
                        [
                          0.1111111111111111,
                          "#46039f"
                        ],
                        [
                          0.2222222222222222,
                          "#7201a8"
                        ],
                        [
                          0.3333333333333333,
                          "#9c179e"
                        ],
                        [
                          0.4444444444444444,
                          "#bd3786"
                        ],
                        [
                          0.5555555555555556,
                          "#d8576b"
                        ],
                        [
                          0.6666666666666666,
                          "#ed7953"
                        ],
                        [
                          0.7777777777777778,
                          "#fb9f3a"
                        ],
                        [
                          0.8888888888888888,
                          "#fdca26"
                        ],
                        [
                          1,
                          "#f0f921"
                        ]
                      ]
                    },
                    "colorway": [
                      "#636efa",
                      "#EF553B",
                      "#00cc96",
                      "#ab63fa",
                      "#FFA15A",
                      "#19d3f3",
                      "#FF6692",
                      "#B6E880",
                      "#FF97FF",
                      "#FECB52"
                    ],
                    "font": {
                      "color": "#2a3f5f"
                    },
                    "geo": {
                      "bgcolor": "white",
                      "lakecolor": "white",
                      "landcolor": "white",
                      "showlakes": true,
                      "showland": true,
                      "subunitcolor": "#C8D4E3"
                    },
                    "hoverlabel": {
                      "align": "left"
                    },
                    "hovermode": "closest",
                    "mapbox": {
                      "style": "light"
                    },
                    "paper_bgcolor": "white",
                    "plot_bgcolor": "white",
                    "polar": {
                      "angularaxis": {
                        "gridcolor": "#EBF0F8",
                        "linecolor": "#EBF0F8",
                        "ticks": ""
                      },
                      "bgcolor": "white",
                      "radialaxis": {
                        "gridcolor": "#EBF0F8",
                        "linecolor": "#EBF0F8",
                        "ticks": ""
                      }
                    },
                    "scene": {
                      "xaxis": {
                        "backgroundcolor": "white",
                        "gridcolor": "#DFE8F3",
                        "gridwidth": 2,
                        "linecolor": "#EBF0F8",
                        "showbackground": true,
                        "ticks": "",
                        "zerolinecolor": "#EBF0F8"
                      },
                      "yaxis": {
                        "backgroundcolor": "white",
                        "gridcolor": "#DFE8F3",
                        "gridwidth": 2,
                        "linecolor": "#EBF0F8",
                        "showbackground": true,
                        "ticks": "",
                        "zerolinecolor": "#EBF0F8"
                      },
                      "zaxis": {
                        "backgroundcolor": "white",
                        "gridcolor": "#DFE8F3",
                        "gridwidth": 2,
                        "linecolor": "#EBF0F8",
                        "showbackground": true,
                        "ticks": "",
                        "zerolinecolor": "#EBF0F8"
                      }
                    },
                    "shapedefaults": {
                      "line": {
                        "color": "#2a3f5f"
                      }
                    },
                    "ternary": {
                      "aaxis": {
                        "gridcolor": "#DFE8F3",
                        "linecolor": "#A2B1C6",
                        "ticks": ""
                      },
                      "baxis": {
                        "gridcolor": "#DFE8F3",
                        "linecolor": "#A2B1C6",
                        "ticks": ""
                      },
                      "bgcolor": "white",
                      "caxis": {
                        "gridcolor": "#DFE8F3",
                        "linecolor": "#A2B1C6",
                        "ticks": ""
                      }
                    },
                    "title": {
                      "x": 0.05
                    },
                    "xaxis": {
                      "automargin": true,
                      "gridcolor": "#EBF0F8",
                      "linecolor": "#EBF0F8",
                      "ticks": "",
                      "title": {
                        "standoff": 15
                      },
                      "zerolinecolor": "#EBF0F8",
                      "zerolinewidth": 2
                    },
                    "yaxis": {
                      "automargin": true,
                      "gridcolor": "#EBF0F8",
                      "linecolor": "#EBF0F8",
                      "ticks": "",
                      "title": {
                        "standoff": 15
                      },
                      "zerolinecolor": "#EBF0F8",
                      "zerolinewidth": 2
                    }
                  }
                },
                "title": {
                  "text": "Comparaison des performances des 5 modèles sur les données inédites"
                },
                "xaxis": {
                  "anchor": "y",
                  "domain": [
                    0,
                    1
                  ],
                  "tickangle": -45,
                  "title": {
                    "text": "Modèle final"
                  }
                },
                "yaxis": {
                  "anchor": "x",
                  "domain": [
                    0,
                    1
                  ],
                  "range": [
                    0.26,
                    0.891
                  ],
                  "showgrid": false,
                  "title": {
                    "text": "Valeur"
                  }
                }
              }
            }
          },
          "metadata": {},
          "output_type": "display_data"
        }
      ],
      "source": [
        "# graphique\n",
        "df_melted = df_final_eval_1.melt(id_vars='Modèles finaux', var_name='Métrique', value_name='Valeur')\n",
        "pio.templates.default = 'plotly_white'\n",
        "fig = px.bar(df_melted, x='Modèles finaux', y='Valeur', color='Métrique', barmode='group', text='Valeur',\n",
        "             color_discrete_map={'Accuracy': 'lightyellow', 'Précision': 'lightgrey', 'Recall': 'grey', 'F1-Score': 'yellow'},\n",
        "             title='Comparaison des performances des 5 modèles sur les données inédites',\n",
        "             labels={'Modèles finaux': 'Modèle', 'Valeur': 'Valeur'})\n",
        "fig.update_layout(yaxis_showgrid=False, xaxis_tickangle=-45, xaxis_title='Modèle final', yaxis_title='Valeur', yaxis_range=[0.26, 0.891], legend_title='Métrique')\n",
        "fig.show()"
      ]
    },
    {
      "cell_type": "markdown",
      "metadata": {},
      "source": [
        "Nous voyons une meilleure capacité du modèle combinant Word2Vec+BidirLSTM+CNN à généraliser sur les données inédites, avec un bon compromis entre la précision et le rappel."
      ]
    },
    {
      "cell_type": "markdown",
      "metadata": {},
      "source": [
        "## Métriques selon les classes"
      ]
    },
    {
      "cell_type": "code",
      "execution_count": 13,
      "metadata": {},
      "outputs": [
        {
          "data": {
            "text/html": [
              "<div>\n",
              "<style scoped>\n",
              "    .dataframe tbody tr th:only-of-type {\n",
              "        vertical-align: middle;\n",
              "    }\n",
              "\n",
              "    .dataframe tbody tr th {\n",
              "        vertical-align: top;\n",
              "    }\n",
              "\n",
              "    .dataframe thead th {\n",
              "        text-align: right;\n",
              "    }\n",
              "</style>\n",
              "<table border=\"1\" class=\"dataframe\">\n",
              "  <thead>\n",
              "    <tr style=\"text-align: right;\">\n",
              "      <th></th>\n",
              "      <th>Modèle</th>\n",
              "      <th>Precision_0</th>\n",
              "      <th>Recall_0</th>\n",
              "      <th>F1-Score_0</th>\n",
              "      <th>Precision_1</th>\n",
              "      <th>Recall_1</th>\n",
              "      <th>F1-Score_1</th>\n",
              "    </tr>\n",
              "  </thead>\n",
              "  <tbody>\n",
              "    <tr>\n",
              "      <th>0</th>\n",
              "      <td>Simple embedding</td>\n",
              "      <td>0.76603</td>\n",
              "      <td>0.37719</td>\n",
              "      <td>0.50549</td>\n",
              "      <td>0.62618</td>\n",
              "      <td>0.90056</td>\n",
              "      <td>0.73872</td>\n",
              "    </tr>\n",
              "    <tr>\n",
              "      <th>1</th>\n",
              "      <td>BidirLSTM</td>\n",
              "      <td>0.81781</td>\n",
              "      <td>0.47251</td>\n",
              "      <td>0.59896</td>\n",
              "      <td>0.66630</td>\n",
              "      <td>0.90914</td>\n",
              "      <td>0.76900</td>\n",
              "    </tr>\n",
              "    <tr>\n",
              "      <th>2</th>\n",
              "      <td>BidirLSTM + CNN</td>\n",
              "      <td>0.84695</td>\n",
              "      <td>0.57602</td>\n",
              "      <td>0.68569</td>\n",
              "      <td>0.71321</td>\n",
              "      <td>0.91015</td>\n",
              "      <td>0.79973</td>\n",
              "    </tr>\n",
              "    <tr>\n",
              "      <th>3</th>\n",
              "      <td>w2v/BidirLSTM + CNN</td>\n",
              "      <td>0.77514</td>\n",
              "      <td>0.99181</td>\n",
              "      <td>0.87019</td>\n",
              "      <td>0.99069</td>\n",
              "      <td>0.75164</td>\n",
              "      <td>0.85476</td>\n",
              "    </tr>\n",
              "    <tr>\n",
              "      <th>4</th>\n",
              "      <td>BERT</td>\n",
              "      <td>0.35241</td>\n",
              "      <td>0.13684</td>\n",
              "      <td>0.19714</td>\n",
              "      <td>0.51239</td>\n",
              "      <td>0.78294</td>\n",
              "      <td>0.61941</td>\n",
              "    </tr>\n",
              "  </tbody>\n",
              "</table>\n",
              "</div>"
            ],
            "text/plain": [
              "                Modèle  Precision_0  Recall_0  F1-Score_0  Precision_1  \\\n",
              "0     Simple embedding      0.76603   0.37719     0.50549      0.62618   \n",
              "1            BidirLSTM      0.81781   0.47251     0.59896      0.66630   \n",
              "2      BidirLSTM + CNN      0.84695   0.57602     0.68569      0.71321   \n",
              "3  w2v/BidirLSTM + CNN      0.77514   0.99181     0.87019      0.99069   \n",
              "4                 BERT      0.35241   0.13684     0.19714      0.51239   \n",
              "\n",
              "   Recall_1  F1-Score_1  \n",
              "0   0.90056     0.73872  \n",
              "1   0.90914     0.76900  \n",
              "2   0.91015     0.79973  \n",
              "3   0.75164     0.85476  \n",
              "4   0.78294     0.61941  "
            ]
          },
          "execution_count": 13,
          "metadata": {},
          "output_type": "execute_result"
        }
      ],
      "source": [
        "# données des métriques pour chaque modèle\n",
        "data = {\n",
        "    'Modèle': ['Simple embedding', 'BidirLSTM', 'BidirLSTM + CNN', 'w2v/BidirLSTM + CNN', 'BERT'],\n",
        "    'Precision_0': [0.76603, 0.81781, 0.84695, 0.77514, 0.35241],\n",
        "    'Recall_0': [0.37719, 0.47251, 0.57602, 0.99181, 0.13684],\n",
        "    'F1-Score_0': [0.50549, 0.59896, 0.68569, 0.87019, 0.19714],\n",
        "    'Precision_1': [0.62618, 0.66630, 0.71321, 0.99069, 0.51239],\n",
        "    'Recall_1': [0.90056, 0.90914, 0.91015, 0.75164, 0.78294],\n",
        "    'F1-Score_1': [0.73872, 0.76900, 0.79973, 0.85476, 0.61941],\n",
        "}\n",
        "df = pd.DataFrame(data)\n",
        "df"
      ]
    },
    {
      "cell_type": "code",
      "execution_count": 14,
      "metadata": {},
      "outputs": [
        {
          "data": {
            "application/vnd.plotly.v1+json": {
              "config": {
                "plotlyServerURL": "https://plot.ly"
              },
              "data": [
                {
                  "mode": "lines+markers",
                  "name": "Precision (Classe 0)",
                  "text": [
                    0.76603,
                    0.81781,
                    0.84695,
                    0.77514,
                    0.35241
                  ],
                  "textposition": "top center",
                  "type": "scatter",
                  "x": [
                    "Simple embedding",
                    "BidirLSTM",
                    "BidirLSTM + CNN",
                    "w2v/BidirLSTM + CNN",
                    "BERT"
                  ],
                  "xaxis": "x",
                  "y": [
                    0.76603,
                    0.81781,
                    0.84695,
                    0.77514,
                    0.35241
                  ],
                  "yaxis": "y"
                },
                {
                  "mode": "lines+markers",
                  "name": "Precision (Classe 1)",
                  "text": [
                    0.62618,
                    0.6663,
                    0.71321,
                    0.99069,
                    0.51239
                  ],
                  "textposition": "top center",
                  "type": "scatter",
                  "x": [
                    "Simple embedding",
                    "BidirLSTM",
                    "BidirLSTM + CNN",
                    "w2v/BidirLSTM + CNN",
                    "BERT"
                  ],
                  "xaxis": "x",
                  "y": [
                    0.62618,
                    0.6663,
                    0.71321,
                    0.99069,
                    0.51239
                  ],
                  "yaxis": "y"
                },
                {
                  "mode": "lines+markers",
                  "name": "Recall (Classe 0)",
                  "text": [
                    0.37719,
                    0.47251,
                    0.57602,
                    0.99181,
                    0.13684
                  ],
                  "textposition": "top center",
                  "type": "scatter",
                  "x": [
                    "Simple embedding",
                    "BidirLSTM",
                    "BidirLSTM + CNN",
                    "w2v/BidirLSTM + CNN",
                    "BERT"
                  ],
                  "xaxis": "x2",
                  "y": [
                    0.37719,
                    0.47251,
                    0.57602,
                    0.99181,
                    0.13684
                  ],
                  "yaxis": "y2"
                },
                {
                  "mode": "lines+markers",
                  "name": "Recall (Classe 1)",
                  "text": [
                    0.90056,
                    0.90914,
                    0.91015,
                    0.75164,
                    0.78294
                  ],
                  "textposition": "top center",
                  "type": "scatter",
                  "x": [
                    "Simple embedding",
                    "BidirLSTM",
                    "BidirLSTM + CNN",
                    "w2v/BidirLSTM + CNN",
                    "BERT"
                  ],
                  "xaxis": "x2",
                  "y": [
                    0.90056,
                    0.90914,
                    0.91015,
                    0.75164,
                    0.78294
                  ],
                  "yaxis": "y2"
                },
                {
                  "mode": "lines+markers",
                  "name": "F1-Score (Classe 0)",
                  "text": [
                    0.50549,
                    0.59896,
                    0.68569,
                    0.87019,
                    0.19714
                  ],
                  "textposition": "top center",
                  "type": "scatter",
                  "x": [
                    "Simple embedding",
                    "BidirLSTM",
                    "BidirLSTM + CNN",
                    "w2v/BidirLSTM + CNN",
                    "BERT"
                  ],
                  "xaxis": "x3",
                  "y": [
                    0.50549,
                    0.59896,
                    0.68569,
                    0.87019,
                    0.19714
                  ],
                  "yaxis": "y3"
                },
                {
                  "mode": "lines+markers",
                  "name": "F1-Score (Classe 1)",
                  "text": [
                    0.73872,
                    0.769,
                    0.79973,
                    0.85476,
                    0.61941
                  ],
                  "textposition": "top center",
                  "type": "scatter",
                  "x": [
                    "Simple embedding",
                    "BidirLSTM",
                    "BidirLSTM + CNN",
                    "w2v/BidirLSTM + CNN",
                    "BERT"
                  ],
                  "xaxis": "x3",
                  "y": [
                    0.73872,
                    0.769,
                    0.79973,
                    0.85476,
                    0.61941
                  ],
                  "yaxis": "y3"
                }
              ],
              "layout": {
                "annotations": [
                  {
                    "font": {
                      "size": 16
                    },
                    "showarrow": false,
                    "text": "Précision",
                    "x": 0.5,
                    "xanchor": "center",
                    "xref": "paper",
                    "y": 1,
                    "yanchor": "bottom",
                    "yref": "paper"
                  },
                  {
                    "font": {
                      "size": 16
                    },
                    "showarrow": false,
                    "text": "Rappel",
                    "x": 0.5,
                    "xanchor": "center",
                    "xref": "paper",
                    "y": 0.6111111111111112,
                    "yanchor": "bottom",
                    "yref": "paper"
                  },
                  {
                    "font": {
                      "size": 16
                    },
                    "showarrow": false,
                    "text": "F1-Score",
                    "x": 0.5,
                    "xanchor": "center",
                    "xref": "paper",
                    "y": 0.22222222222222224,
                    "yanchor": "bottom",
                    "yref": "paper"
                  },
                  {
                    "showarrow": false,
                    "text": "0.77",
                    "x": "Simple embedding",
                    "xref": "x",
                    "y": 0.80603,
                    "yref": "y"
                  },
                  {
                    "showarrow": false,
                    "text": "0.82",
                    "x": "BidirLSTM",
                    "xref": "x",
                    "y": 0.8578100000000001,
                    "yref": "y"
                  },
                  {
                    "showarrow": false,
                    "text": "0.85",
                    "x": "BidirLSTM + CNN",
                    "xref": "x",
                    "y": 0.88695,
                    "yref": "y"
                  },
                  {
                    "showarrow": false,
                    "text": "0.78",
                    "x": "w2v/BidirLSTM + CNN",
                    "xref": "x",
                    "y": 0.8151400000000001,
                    "yref": "y"
                  },
                  {
                    "showarrow": false,
                    "text": "0.35",
                    "x": "BERT",
                    "xref": "x",
                    "y": 0.39241,
                    "yref": "y"
                  },
                  {
                    "showarrow": false,
                    "text": "0.63",
                    "x": "Simple embedding",
                    "xref": "x",
                    "y": 0.66618,
                    "yref": "y"
                  },
                  {
                    "showarrow": false,
                    "text": "0.67",
                    "x": "BidirLSTM",
                    "xref": "x",
                    "y": 0.7063,
                    "yref": "y"
                  },
                  {
                    "showarrow": false,
                    "text": "0.71",
                    "x": "BidirLSTM + CNN",
                    "xref": "x",
                    "y": 0.75321,
                    "yref": "y"
                  },
                  {
                    "showarrow": false,
                    "text": "0.99",
                    "x": "w2v/BidirLSTM + CNN",
                    "xref": "x",
                    "y": 1.0306899999999999,
                    "yref": "y"
                  },
                  {
                    "showarrow": false,
                    "text": "0.51",
                    "x": "BERT",
                    "xref": "x",
                    "y": 0.55239,
                    "yref": "y"
                  },
                  {
                    "showarrow": false,
                    "text": "0.38",
                    "x": "Simple embedding",
                    "xref": "x2",
                    "y": 0.41719,
                    "yref": "y2"
                  },
                  {
                    "showarrow": false,
                    "text": "0.47",
                    "x": "BidirLSTM",
                    "xref": "x2",
                    "y": 0.51251,
                    "yref": "y2"
                  },
                  {
                    "showarrow": false,
                    "text": "0.58",
                    "x": "BidirLSTM + CNN",
                    "xref": "x2",
                    "y": 0.61602,
                    "yref": "y2"
                  },
                  {
                    "showarrow": false,
                    "text": "0.99",
                    "x": "w2v/BidirLSTM + CNN",
                    "xref": "x2",
                    "y": 1.03181,
                    "yref": "y2"
                  },
                  {
                    "showarrow": false,
                    "text": "0.14",
                    "x": "BERT",
                    "xref": "x2",
                    "y": 0.17684,
                    "yref": "y2"
                  },
                  {
                    "showarrow": false,
                    "text": "0.9",
                    "x": "Simple embedding",
                    "xref": "x2",
                    "y": 0.9405600000000001,
                    "yref": "y2"
                  },
                  {
                    "showarrow": false,
                    "text": "0.91",
                    "x": "BidirLSTM",
                    "xref": "x2",
                    "y": 0.94914,
                    "yref": "y2"
                  },
                  {
                    "showarrow": false,
                    "text": "0.91",
                    "x": "BidirLSTM + CNN",
                    "xref": "x2",
                    "y": 0.95015,
                    "yref": "y2"
                  },
                  {
                    "showarrow": false,
                    "text": "0.75",
                    "x": "w2v/BidirLSTM + CNN",
                    "xref": "x2",
                    "y": 0.79164,
                    "yref": "y2"
                  },
                  {
                    "showarrow": false,
                    "text": "0.78",
                    "x": "BERT",
                    "xref": "x2",
                    "y": 0.82294,
                    "yref": "y2"
                  },
                  {
                    "showarrow": false,
                    "text": "0.51",
                    "x": "Simple embedding",
                    "xref": "x3",
                    "y": 0.54549,
                    "yref": "y3"
                  },
                  {
                    "showarrow": false,
                    "text": "0.6",
                    "x": "BidirLSTM",
                    "xref": "x3",
                    "y": 0.6389600000000001,
                    "yref": "y3"
                  },
                  {
                    "showarrow": false,
                    "text": "0.69",
                    "x": "BidirLSTM + CNN",
                    "xref": "x3",
                    "y": 0.7256900000000001,
                    "yref": "y3"
                  },
                  {
                    "showarrow": false,
                    "text": "0.87",
                    "x": "w2v/BidirLSTM + CNN",
                    "xref": "x3",
                    "y": 0.91019,
                    "yref": "y3"
                  },
                  {
                    "showarrow": false,
                    "text": "0.2",
                    "x": "BERT",
                    "xref": "x3",
                    "y": 0.23714000000000002,
                    "yref": "y3"
                  },
                  {
                    "showarrow": false,
                    "text": "0.74",
                    "x": "Simple embedding",
                    "xref": "x3",
                    "y": 0.7787200000000001,
                    "yref": "y3"
                  },
                  {
                    "showarrow": false,
                    "text": "0.77",
                    "x": "BidirLSTM",
                    "xref": "x3",
                    "y": 0.809,
                    "yref": "y3"
                  },
                  {
                    "showarrow": false,
                    "text": "0.8",
                    "x": "BidirLSTM + CNN",
                    "xref": "x3",
                    "y": 0.8397300000000001,
                    "yref": "y3"
                  },
                  {
                    "showarrow": false,
                    "text": "0.85",
                    "x": "w2v/BidirLSTM + CNN",
                    "xref": "x3",
                    "y": 0.89476,
                    "yref": "y3"
                  },
                  {
                    "showarrow": false,
                    "text": "0.62",
                    "x": "BERT",
                    "xref": "x3",
                    "y": 0.65941,
                    "yref": "y3"
                  }
                ],
                "height": 800,
                "plot_bgcolor": "rgba(0,0,0,0)",
                "template": {
                  "data": {
                    "bar": [
                      {
                        "error_x": {
                          "color": "#2a3f5f"
                        },
                        "error_y": {
                          "color": "#2a3f5f"
                        },
                        "marker": {
                          "line": {
                            "color": "white",
                            "width": 0.5
                          },
                          "pattern": {
                            "fillmode": "overlay",
                            "size": 10,
                            "solidity": 0.2
                          }
                        },
                        "type": "bar"
                      }
                    ],
                    "barpolar": [
                      {
                        "marker": {
                          "line": {
                            "color": "white",
                            "width": 0.5
                          },
                          "pattern": {
                            "fillmode": "overlay",
                            "size": 10,
                            "solidity": 0.2
                          }
                        },
                        "type": "barpolar"
                      }
                    ],
                    "carpet": [
                      {
                        "aaxis": {
                          "endlinecolor": "#2a3f5f",
                          "gridcolor": "#C8D4E3",
                          "linecolor": "#C8D4E3",
                          "minorgridcolor": "#C8D4E3",
                          "startlinecolor": "#2a3f5f"
                        },
                        "baxis": {
                          "endlinecolor": "#2a3f5f",
                          "gridcolor": "#C8D4E3",
                          "linecolor": "#C8D4E3",
                          "minorgridcolor": "#C8D4E3",
                          "startlinecolor": "#2a3f5f"
                        },
                        "type": "carpet"
                      }
                    ],
                    "choropleth": [
                      {
                        "colorbar": {
                          "outlinewidth": 0,
                          "ticks": ""
                        },
                        "type": "choropleth"
                      }
                    ],
                    "contour": [
                      {
                        "colorbar": {
                          "outlinewidth": 0,
                          "ticks": ""
                        },
                        "colorscale": [
                          [
                            0,
                            "#0d0887"
                          ],
                          [
                            0.1111111111111111,
                            "#46039f"
                          ],
                          [
                            0.2222222222222222,
                            "#7201a8"
                          ],
                          [
                            0.3333333333333333,
                            "#9c179e"
                          ],
                          [
                            0.4444444444444444,
                            "#bd3786"
                          ],
                          [
                            0.5555555555555556,
                            "#d8576b"
                          ],
                          [
                            0.6666666666666666,
                            "#ed7953"
                          ],
                          [
                            0.7777777777777778,
                            "#fb9f3a"
                          ],
                          [
                            0.8888888888888888,
                            "#fdca26"
                          ],
                          [
                            1,
                            "#f0f921"
                          ]
                        ],
                        "type": "contour"
                      }
                    ],
                    "contourcarpet": [
                      {
                        "colorbar": {
                          "outlinewidth": 0,
                          "ticks": ""
                        },
                        "type": "contourcarpet"
                      }
                    ],
                    "heatmap": [
                      {
                        "colorbar": {
                          "outlinewidth": 0,
                          "ticks": ""
                        },
                        "colorscale": [
                          [
                            0,
                            "#0d0887"
                          ],
                          [
                            0.1111111111111111,
                            "#46039f"
                          ],
                          [
                            0.2222222222222222,
                            "#7201a8"
                          ],
                          [
                            0.3333333333333333,
                            "#9c179e"
                          ],
                          [
                            0.4444444444444444,
                            "#bd3786"
                          ],
                          [
                            0.5555555555555556,
                            "#d8576b"
                          ],
                          [
                            0.6666666666666666,
                            "#ed7953"
                          ],
                          [
                            0.7777777777777778,
                            "#fb9f3a"
                          ],
                          [
                            0.8888888888888888,
                            "#fdca26"
                          ],
                          [
                            1,
                            "#f0f921"
                          ]
                        ],
                        "type": "heatmap"
                      }
                    ],
                    "heatmapgl": [
                      {
                        "colorbar": {
                          "outlinewidth": 0,
                          "ticks": ""
                        },
                        "colorscale": [
                          [
                            0,
                            "#0d0887"
                          ],
                          [
                            0.1111111111111111,
                            "#46039f"
                          ],
                          [
                            0.2222222222222222,
                            "#7201a8"
                          ],
                          [
                            0.3333333333333333,
                            "#9c179e"
                          ],
                          [
                            0.4444444444444444,
                            "#bd3786"
                          ],
                          [
                            0.5555555555555556,
                            "#d8576b"
                          ],
                          [
                            0.6666666666666666,
                            "#ed7953"
                          ],
                          [
                            0.7777777777777778,
                            "#fb9f3a"
                          ],
                          [
                            0.8888888888888888,
                            "#fdca26"
                          ],
                          [
                            1,
                            "#f0f921"
                          ]
                        ],
                        "type": "heatmapgl"
                      }
                    ],
                    "histogram": [
                      {
                        "marker": {
                          "pattern": {
                            "fillmode": "overlay",
                            "size": 10,
                            "solidity": 0.2
                          }
                        },
                        "type": "histogram"
                      }
                    ],
                    "histogram2d": [
                      {
                        "colorbar": {
                          "outlinewidth": 0,
                          "ticks": ""
                        },
                        "colorscale": [
                          [
                            0,
                            "#0d0887"
                          ],
                          [
                            0.1111111111111111,
                            "#46039f"
                          ],
                          [
                            0.2222222222222222,
                            "#7201a8"
                          ],
                          [
                            0.3333333333333333,
                            "#9c179e"
                          ],
                          [
                            0.4444444444444444,
                            "#bd3786"
                          ],
                          [
                            0.5555555555555556,
                            "#d8576b"
                          ],
                          [
                            0.6666666666666666,
                            "#ed7953"
                          ],
                          [
                            0.7777777777777778,
                            "#fb9f3a"
                          ],
                          [
                            0.8888888888888888,
                            "#fdca26"
                          ],
                          [
                            1,
                            "#f0f921"
                          ]
                        ],
                        "type": "histogram2d"
                      }
                    ],
                    "histogram2dcontour": [
                      {
                        "colorbar": {
                          "outlinewidth": 0,
                          "ticks": ""
                        },
                        "colorscale": [
                          [
                            0,
                            "#0d0887"
                          ],
                          [
                            0.1111111111111111,
                            "#46039f"
                          ],
                          [
                            0.2222222222222222,
                            "#7201a8"
                          ],
                          [
                            0.3333333333333333,
                            "#9c179e"
                          ],
                          [
                            0.4444444444444444,
                            "#bd3786"
                          ],
                          [
                            0.5555555555555556,
                            "#d8576b"
                          ],
                          [
                            0.6666666666666666,
                            "#ed7953"
                          ],
                          [
                            0.7777777777777778,
                            "#fb9f3a"
                          ],
                          [
                            0.8888888888888888,
                            "#fdca26"
                          ],
                          [
                            1,
                            "#f0f921"
                          ]
                        ],
                        "type": "histogram2dcontour"
                      }
                    ],
                    "mesh3d": [
                      {
                        "colorbar": {
                          "outlinewidth": 0,
                          "ticks": ""
                        },
                        "type": "mesh3d"
                      }
                    ],
                    "parcoords": [
                      {
                        "line": {
                          "colorbar": {
                            "outlinewidth": 0,
                            "ticks": ""
                          }
                        },
                        "type": "parcoords"
                      }
                    ],
                    "pie": [
                      {
                        "automargin": true,
                        "type": "pie"
                      }
                    ],
                    "scatter": [
                      {
                        "fillpattern": {
                          "fillmode": "overlay",
                          "size": 10,
                          "solidity": 0.2
                        },
                        "type": "scatter"
                      }
                    ],
                    "scatter3d": [
                      {
                        "line": {
                          "colorbar": {
                            "outlinewidth": 0,
                            "ticks": ""
                          }
                        },
                        "marker": {
                          "colorbar": {
                            "outlinewidth": 0,
                            "ticks": ""
                          }
                        },
                        "type": "scatter3d"
                      }
                    ],
                    "scattercarpet": [
                      {
                        "marker": {
                          "colorbar": {
                            "outlinewidth": 0,
                            "ticks": ""
                          }
                        },
                        "type": "scattercarpet"
                      }
                    ],
                    "scattergeo": [
                      {
                        "marker": {
                          "colorbar": {
                            "outlinewidth": 0,
                            "ticks": ""
                          }
                        },
                        "type": "scattergeo"
                      }
                    ],
                    "scattergl": [
                      {
                        "marker": {
                          "colorbar": {
                            "outlinewidth": 0,
                            "ticks": ""
                          }
                        },
                        "type": "scattergl"
                      }
                    ],
                    "scattermapbox": [
                      {
                        "marker": {
                          "colorbar": {
                            "outlinewidth": 0,
                            "ticks": ""
                          }
                        },
                        "type": "scattermapbox"
                      }
                    ],
                    "scatterpolar": [
                      {
                        "marker": {
                          "colorbar": {
                            "outlinewidth": 0,
                            "ticks": ""
                          }
                        },
                        "type": "scatterpolar"
                      }
                    ],
                    "scatterpolargl": [
                      {
                        "marker": {
                          "colorbar": {
                            "outlinewidth": 0,
                            "ticks": ""
                          }
                        },
                        "type": "scatterpolargl"
                      }
                    ],
                    "scatterternary": [
                      {
                        "marker": {
                          "colorbar": {
                            "outlinewidth": 0,
                            "ticks": ""
                          }
                        },
                        "type": "scatterternary"
                      }
                    ],
                    "surface": [
                      {
                        "colorbar": {
                          "outlinewidth": 0,
                          "ticks": ""
                        },
                        "colorscale": [
                          [
                            0,
                            "#0d0887"
                          ],
                          [
                            0.1111111111111111,
                            "#46039f"
                          ],
                          [
                            0.2222222222222222,
                            "#7201a8"
                          ],
                          [
                            0.3333333333333333,
                            "#9c179e"
                          ],
                          [
                            0.4444444444444444,
                            "#bd3786"
                          ],
                          [
                            0.5555555555555556,
                            "#d8576b"
                          ],
                          [
                            0.6666666666666666,
                            "#ed7953"
                          ],
                          [
                            0.7777777777777778,
                            "#fb9f3a"
                          ],
                          [
                            0.8888888888888888,
                            "#fdca26"
                          ],
                          [
                            1,
                            "#f0f921"
                          ]
                        ],
                        "type": "surface"
                      }
                    ],
                    "table": [
                      {
                        "cells": {
                          "fill": {
                            "color": "#EBF0F8"
                          },
                          "line": {
                            "color": "white"
                          }
                        },
                        "header": {
                          "fill": {
                            "color": "#C8D4E3"
                          },
                          "line": {
                            "color": "white"
                          }
                        },
                        "type": "table"
                      }
                    ]
                  },
                  "layout": {
                    "annotationdefaults": {
                      "arrowcolor": "#2a3f5f",
                      "arrowhead": 0,
                      "arrowwidth": 1
                    },
                    "autotypenumbers": "strict",
                    "coloraxis": {
                      "colorbar": {
                        "outlinewidth": 0,
                        "ticks": ""
                      }
                    },
                    "colorscale": {
                      "diverging": [
                        [
                          0,
                          "#8e0152"
                        ],
                        [
                          0.1,
                          "#c51b7d"
                        ],
                        [
                          0.2,
                          "#de77ae"
                        ],
                        [
                          0.3,
                          "#f1b6da"
                        ],
                        [
                          0.4,
                          "#fde0ef"
                        ],
                        [
                          0.5,
                          "#f7f7f7"
                        ],
                        [
                          0.6,
                          "#e6f5d0"
                        ],
                        [
                          0.7,
                          "#b8e186"
                        ],
                        [
                          0.8,
                          "#7fbc41"
                        ],
                        [
                          0.9,
                          "#4d9221"
                        ],
                        [
                          1,
                          "#276419"
                        ]
                      ],
                      "sequential": [
                        [
                          0,
                          "#0d0887"
                        ],
                        [
                          0.1111111111111111,
                          "#46039f"
                        ],
                        [
                          0.2222222222222222,
                          "#7201a8"
                        ],
                        [
                          0.3333333333333333,
                          "#9c179e"
                        ],
                        [
                          0.4444444444444444,
                          "#bd3786"
                        ],
                        [
                          0.5555555555555556,
                          "#d8576b"
                        ],
                        [
                          0.6666666666666666,
                          "#ed7953"
                        ],
                        [
                          0.7777777777777778,
                          "#fb9f3a"
                        ],
                        [
                          0.8888888888888888,
                          "#fdca26"
                        ],
                        [
                          1,
                          "#f0f921"
                        ]
                      ],
                      "sequentialminus": [
                        [
                          0,
                          "#0d0887"
                        ],
                        [
                          0.1111111111111111,
                          "#46039f"
                        ],
                        [
                          0.2222222222222222,
                          "#7201a8"
                        ],
                        [
                          0.3333333333333333,
                          "#9c179e"
                        ],
                        [
                          0.4444444444444444,
                          "#bd3786"
                        ],
                        [
                          0.5555555555555556,
                          "#d8576b"
                        ],
                        [
                          0.6666666666666666,
                          "#ed7953"
                        ],
                        [
                          0.7777777777777778,
                          "#fb9f3a"
                        ],
                        [
                          0.8888888888888888,
                          "#fdca26"
                        ],
                        [
                          1,
                          "#f0f921"
                        ]
                      ]
                    },
                    "colorway": [
                      "#636efa",
                      "#EF553B",
                      "#00cc96",
                      "#ab63fa",
                      "#FFA15A",
                      "#19d3f3",
                      "#FF6692",
                      "#B6E880",
                      "#FF97FF",
                      "#FECB52"
                    ],
                    "font": {
                      "color": "#2a3f5f"
                    },
                    "geo": {
                      "bgcolor": "white",
                      "lakecolor": "white",
                      "landcolor": "white",
                      "showlakes": true,
                      "showland": true,
                      "subunitcolor": "#C8D4E3"
                    },
                    "hoverlabel": {
                      "align": "left"
                    },
                    "hovermode": "closest",
                    "mapbox": {
                      "style": "light"
                    },
                    "paper_bgcolor": "white",
                    "plot_bgcolor": "white",
                    "polar": {
                      "angularaxis": {
                        "gridcolor": "#EBF0F8",
                        "linecolor": "#EBF0F8",
                        "ticks": ""
                      },
                      "bgcolor": "white",
                      "radialaxis": {
                        "gridcolor": "#EBF0F8",
                        "linecolor": "#EBF0F8",
                        "ticks": ""
                      }
                    },
                    "scene": {
                      "xaxis": {
                        "backgroundcolor": "white",
                        "gridcolor": "#DFE8F3",
                        "gridwidth": 2,
                        "linecolor": "#EBF0F8",
                        "showbackground": true,
                        "ticks": "",
                        "zerolinecolor": "#EBF0F8"
                      },
                      "yaxis": {
                        "backgroundcolor": "white",
                        "gridcolor": "#DFE8F3",
                        "gridwidth": 2,
                        "linecolor": "#EBF0F8",
                        "showbackground": true,
                        "ticks": "",
                        "zerolinecolor": "#EBF0F8"
                      },
                      "zaxis": {
                        "backgroundcolor": "white",
                        "gridcolor": "#DFE8F3",
                        "gridwidth": 2,
                        "linecolor": "#EBF0F8",
                        "showbackground": true,
                        "ticks": "",
                        "zerolinecolor": "#EBF0F8"
                      }
                    },
                    "shapedefaults": {
                      "line": {
                        "color": "#2a3f5f"
                      }
                    },
                    "ternary": {
                      "aaxis": {
                        "gridcolor": "#DFE8F3",
                        "linecolor": "#A2B1C6",
                        "ticks": ""
                      },
                      "baxis": {
                        "gridcolor": "#DFE8F3",
                        "linecolor": "#A2B1C6",
                        "ticks": ""
                      },
                      "bgcolor": "white",
                      "caxis": {
                        "gridcolor": "#DFE8F3",
                        "linecolor": "#A2B1C6",
                        "ticks": ""
                      }
                    },
                    "title": {
                      "x": 0.05
                    },
                    "xaxis": {
                      "automargin": true,
                      "gridcolor": "#EBF0F8",
                      "linecolor": "#EBF0F8",
                      "ticks": "",
                      "title": {
                        "standoff": 15
                      },
                      "zerolinecolor": "#EBF0F8",
                      "zerolinewidth": 2
                    },
                    "yaxis": {
                      "automargin": true,
                      "gridcolor": "#EBF0F8",
                      "linecolor": "#EBF0F8",
                      "ticks": "",
                      "title": {
                        "standoff": 15
                      },
                      "zerolinecolor": "#EBF0F8",
                      "zerolinewidth": 2
                    }
                  }
                },
                "title": {
                  "text": "Métriques de test sur données inédites par classe"
                },
                "width": 1000,
                "xaxis": {
                  "anchor": "y",
                  "domain": [
                    0,
                    1
                  ]
                },
                "xaxis2": {
                  "anchor": "y2",
                  "domain": [
                    0,
                    1
                  ]
                },
                "xaxis3": {
                  "anchor": "y3",
                  "domain": [
                    0,
                    1
                  ]
                },
                "yaxis": {
                  "anchor": "x",
                  "domain": [
                    0.7777777777777778,
                    1
                  ]
                },
                "yaxis2": {
                  "anchor": "x2",
                  "domain": [
                    0.3888888888888889,
                    0.6111111111111112
                  ]
                },
                "yaxis3": {
                  "anchor": "x3",
                  "domain": [
                    0,
                    0.22222222222222224
                  ]
                }
              }
            }
          },
          "metadata": {},
          "output_type": "display_data"
        }
      ],
      "source": [
        "# graphique\n",
        "trace_precision_0 = go.Scatter(x=df['Modèle'], y=df['Precision_0'], mode='lines+markers', name='Precision (Classe 0)', text=df['Precision_0'], textposition='top center')\n",
        "trace_precision_1 = go.Scatter(x=df['Modèle'], y=df['Precision_1'], mode='lines+markers', name='Precision (Classe 1)', text=df['Precision_1'], textposition='top center')\n",
        "trace_recall_0 = go.Scatter(x=df['Modèle'], y=df['Recall_0'], mode='lines+markers', name='Recall (Classe 0)', text=df['Recall_0'], textposition='top center')\n",
        "trace_recall_1 = go.Scatter(x=df['Modèle'], y=df['Recall_1'], mode='lines+markers', name='Recall (Classe 1)', text=df['Recall_1'], textposition='top center')\n",
        "trace_f1_score_0 = go.Scatter(x=df['Modèle'], y=df['F1-Score_0'], mode='lines+markers', name='F1-Score (Classe 0)', text=df['F1-Score_0'], textposition='top center')\n",
        "trace_f1_score_1 = go.Scatter(x=df['Modèle'], y=df['F1-Score_1'], mode='lines+markers', name='F1-Score (Classe 1)', text=df['F1-Score_1'], textposition='top center')\n",
        "\n",
        "fig = make_subplots(rows=3, cols=1, subplot_titles=(\"Précision\", \"Rappel\", \"F1-Score\"))\n",
        "\n",
        "fig.add_trace(go.Scatter(x=df['Modèle'], y=df['Precision_0'], mode='lines+markers', name='Precision (Classe 0)', text=df['Precision_0'], textposition='top center'), row=1, col=1)\n",
        "fig.add_trace(go.Scatter(x=df['Modèle'], y=df['Precision_1'], mode='lines+markers', name='Precision (Classe 1)', text=df['Precision_1'], textposition='top center'), row=1, col=1)\n",
        "\n",
        "# ajout des étiquettes et des lignes\n",
        "for i, (x, y) in enumerate(zip(df['Modèle'], df['Precision_0'])):\n",
        "    fig.add_annotation(x=x, y=y + 0.04, text=str(df['Precision_0'][i].round(2)), showarrow=False, row=1, col=1)\n",
        "\n",
        "for i, (x, y) in enumerate(zip(df['Modèle'], df['Precision_1'])):\n",
        "    fig.add_annotation(x=x, y=y + 0.04, text=str(df['Precision_1'][i].round(2)), showarrow=False, row=1, col=1)\n",
        "\n",
        "fig.add_trace(go.Scatter(x=df['Modèle'], y=df['Recall_0'], mode='lines+markers', name='Recall (Classe 0)', text=df['Recall_0'], textposition='top center'), row=2, col=1)\n",
        "fig.add_trace(go.Scatter(x=df['Modèle'], y=df['Recall_1'], mode='lines+markers', name='Recall (Classe 1)', text=df['Recall_1'], textposition='top center'), row=2, col=1)\n",
        "\n",
        "for i, (x, y) in enumerate(zip(df['Modèle'], df['Recall_0'])):\n",
        "    fig.add_annotation(x=x, y=y + 0.04, text=str(df['Recall_0'][i].round(2)), showarrow=False, row=2, col=1)\n",
        "\n",
        "for i, (x, y) in enumerate(zip(df['Modèle'], df['Recall_1'])):\n",
        "    fig.add_annotation(x=x, y=y + 0.04, text=str(df['Recall_1'][i].round(2)), showarrow=False, row=2, col=1)\n",
        "\n",
        "fig.add_trace(go.Scatter(x=df['Modèle'], y=df['F1-Score_0'], mode='lines+markers', name='F1-Score (Classe 0)', text=df['F1-Score_0'], textposition='top center'), row=3, col=1)\n",
        "fig.add_trace(go.Scatter(x=df['Modèle'], y=df['F1-Score_1'], mode='lines+markers', name='F1-Score (Classe 1)', text=df['F1-Score_1'], textposition='top center'), row=3, col=1)\n",
        "\n",
        "for i, (x, y) in enumerate(zip(df['Modèle'], df['F1-Score_0'])):\n",
        "    fig.add_annotation(x=x, y=y + 0.04, text=str(df['F1-Score_0'][i].round(2)), showarrow=False, row=3, col=1)\n",
        "\n",
        "for i, (x, y) in enumerate(zip(df['Modèle'], df['F1-Score_1'])):\n",
        "    fig.add_annotation(x=x, y=y + 0.04, text=str(df['F1-Score_1'][i].round(2)), showarrow=False, row=3, col=1)\n",
        "\n",
        "fig.update_layout(title='Métriques de test sur données inédites par classe', width=1000, height=800, plot_bgcolor='rgba(0,0,0,0)')\n",
        "fig.show()"
      ]
    },
    {
      "cell_type": "markdown",
      "metadata": {},
      "source": [
        "Il est intéressant de constater à partir des métriques par classe sur les données inédites les tendances qui se dessinent entre les modèles concernant les capacités à prédire certaines classes. Concernant la précision pour les 3 premiers modèles (simple embedding, BidirLSTM et BidirLSTM+CNN), on constate de meilleures performances pour la prédiction de fake, parmi tous les articles que les modèles ont prédit. Pour le rappel, parmi tous les articles réellement étiquetés de chaque classe, les modèles prédisent mieux les real, la différence entre les deux classes étant plus accentuée pour le simple embedding et le BidirLSTM que pour le BidirLSTM+CNN. Les F1-Scores des classes 0 sont plus faibles pour les 3 premiers modèles, l’écart entre les classes diminuant avec BidirLSTM et BidirLSTM+CNN, suggérant une amélioration des performances à mesure de la complexité de l’architecture des réseaux.\n",
        "Nous observons un pattern inverse pour le modèle w2v/BidirLSTM+CNN. La précision est meilleure pour la classe 1 que pour la classe 0, et inversement pour le rappel. Ces scores engendrent un F1-Score très acceptable pour les deux classes, révélant la qualité globale de ce modèle et sa capacité de prédiction de chacune des classes. \n",
        "Le modèle pré-entraîné BERT rejoint le pattern des trois premiers pour le rappel et le F1-Score, mais présente une précision plus forte pour la classe 1, suggérant qu’il prédit et rappelle mieux les real, et n’est pas en capacité d’être compétent sur les fake.\n"
      ]
    },
    {
      "cell_type": "markdown",
      "metadata": {},
      "source": [
        "Pour résumer, l’ensemble des résultats est en faveur d’une supériorité du modèle combinant une architecture LSTM bidirectionnelle avec une couche de convolution CNN, utilisant en entrée des embeddings de mots Word2Vec. Il affiche de très bonnes performances sur toutes les métriques, avec une bonne précision et un bon rappel, ce qui indique qu’il identifie correctement les nouveaux articles, quelles que soient leurs classes. Ce comportement offre un bon compromis entre faux positifs et faux négatifs, qui pourrait rendre ce modèle apte à être utilisé en production. Ces éléments nous apprennent que l’augmentation en complexité dans l’architecture des modèles a été en mesure de répondre à la tâche de classification de fake news, permettant de capturer plus de complexité et de caractéristiques intrinsèques dans les données textuelles même inédites. Cela est d’autant plus visible lorsque les modèles tirent profit de la combinaison de deux architectures efficaces et complémentaires telles que RNN - pour la prise en compte de l’aspect séquentiel du langage et une prise de recul sur la globalité, avec une extension LSTM conservant en mémoire les informations importantes même sur des séquences longues, et CNN - pour une extraction des caractéristiques locales des textes, et que les embeddings d’entrée sont issus d’un modèle pré-implémenté comme Word2Vec. Il apparaît également dans les résultats que certains classifieurs de Machine Learning dits “traditionnels” performent mieux que les réseaux de neurones les plus simples que nous avons testés, ce qui confirme certaines observations déjà évoquées (Khan et al., 2019)."
      ]
    },
    {
      "cell_type": "markdown",
      "metadata": {},
      "source": [
        "# Discussion générale sur les modèles d'apprentissage profond"
      ]
    },
    {
      "cell_type": "markdown",
      "metadata": {},
      "source": [
        "Dans la partie dédiée aux modèles de Deep Learning, nous avons testé différentes architectures, en partant de la plus simple pour aller vers la plus complexe, et en optimisant les modèles par ajustement des hyperparamètres. Parmi les modèles retenus (c’est-à-dire affichant la meilleure accuracy lors de l’entraînement), nous avons mis en évidence que plus l’architecture des réseaux était complexe, plus ces derniers étaient en mesure d’augmenter leurs métriques lors des tests sur des données jamais rencontrées. D’après les graphiques montrant les performances lors du test et sur données inédites, on voit que les résultats à ces deux étapes ne sont pas forcément corrélés. Les meilleures promesses de généralisation proviennent, comme on l’a vu, des architectures plus complexes. Nos résultats valident l’efficacité déjà démontrée des RNN et CNN, ceux-ci étant parmi les plus utilisés dans la détection de fake news (Mridha et al., 2021). Les résultats vont également dans le sens de Fernandez-Reyes & Shinde (2018) pour qui ces deux types de réseaux sont les plus intéressants dans le domaine des fake news politiques. Les auteurs évoquent même une popularité grandissante des CNN pour des tâches de NLP, offrant leurs atouts dans la recherche des caractéristiques locales. Dans notre travail, nous les avons combinés, afin d’obtenir la meilleure expérience des deux, en utilisant aussi l'extension LSTM des RNN, en plus d’une alimentation du réseau avec les embeddings de mots obtenus par le Word2Vec. Nous constatons indéniablement que ce réseau a permis plus que les autres de capturer le langage dans son aspect contextuel et sémantique, et ce de manière plus fine que ne l’a fait BERT, réputé généralement pour être à la pointe dans ce type de cas d’usage. Certains auteurs font le même constat : une supériorité de l’intégration Word2Vec - LSTM pour la détection de fake news, comparativement à des modèles d’apprentissage traditionnels ou un BERT (Mallik & Kumar, 2023). Adrian, Prasetyowati & Sibaroni (2023) montrent également de meilleures performances d’une intégration Word2Vec - LSTM pour la même tâche, par rapport à une intégration GloVe - LSTM, avec une précision moyenne de 95% et 90% respectivement. Selon les auteurs, Word2Vec pourrait mieux capturer les relations sémantiques entre les mots, tandis que GloVe serait plus à même de relever les relations de distribution et la cooccurrence des mots. Notre travail nous amène à nous dire que dans le cas d’usage de la détection des fake news, un accent mis sur la sémantique dans la construction d’un modèle, serait une stratégie payante. C’est cette stratégie que nous avons accentuée dans ce projet, misant comme nous l’avons dit, sur un nettoyage de tout bruit permettant éventuellement aux modèles de se baser sur autre chose que la sémantique. L’utilisation de données inédites issues d’un journal satirique écrit dans le même style journalistique qu’un article vrai, renforce la confiance que nous pouvons avoir dans les capacités de généralisation du modèle “gagnant”.\n"
      ]
    }
  ],
  "metadata": {
    "accelerator": "GPU",
    "colab": {
      "gpuType": "T4",
      "provenance": []
    },
    "kernelspec": {
      "display_name": "venv_projetIA",
      "language": "python",
      "name": "venv_projetia"
    },
    "language_info": {
      "codemirror_mode": {
        "name": "ipython",
        "version": 3
      },
      "file_extension": ".py",
      "mimetype": "text/x-python",
      "name": "python",
      "nbconvert_exporter": "python",
      "pygments_lexer": "ipython3",
      "version": "3.11.5"
    }
  },
  "nbformat": 4,
  "nbformat_minor": 0
}
